{
  "nbformat": 4,
  "nbformat_minor": 0,
  "metadata": {
    "colab": {
      "provenance": [],
      "toc_visible": true
    },
    "kernelspec": {
      "name": "python3",
      "display_name": "Python 3"
    },
    "language_info": {
      "name": "python"
    }
  },
  "cells": [
    {
      "cell_type": "markdown",
      "source": [
        "# High-fidelity model of lungs connected to mechanical ventilation: simulations and dataset creation."
      ],
      "metadata": {
        "id": "TIbguw5793jV"
      }
    },
    {
      "cell_type": "markdown",
      "source": [
        "In the following notebook we describe the methodology to simulate a high-fidelity lung model assisted by pressure-controlled mechanical ventilation, using the approach proposal in [Avilés & Hurtado (2022)](https://www.frontiersin.org/articles/10.3389/fphys.2022.984286/full).\n",
        "\n",
        "\n",
        "---\n",
        "\n",
        "\n",
        "\n",
        "Regarding the formulation, the lung is represented by a poroelastic continuum $Ω_0$ with boundary $Γ_0$. The boundary of the lung domain was partitioned into the airways surface and the\n",
        "visceral pleura surface that lines the remaining lung surface. The airways boundary was\n",
        "determined by considering the surface encompassing bifurcations from the mediastinal sur-\n",
        "face down to the lobar bronchi. Smaller airways in subsequent branches were considered\n",
        "to be part of the lung parenchyma domain. The visceral pleura surface was defined as the\n",
        "complement of the airways surface.\n",
        "\n",
        "The strong formulation for the finite strain poroelasticity problem is\n",
        "\n",
        "$$\\text{Find $\\vec{\\varphi} \\in C^2(\\Omega_0 \\times [0,T],R^N)$ and $P_{alv} \\in C^2(\\Omega_0 \\times [0,T],R)$ such as:}   \\nonumber$$\n",
        "\n",
        "\\begin{align}\n",
        "\\text{Div} (\\boldsymbol{P})+R\\vec{B} &=\\boldsymbol{0} \\quad & \\text{in } \\Omega_0 \\times (0,T].\\\\\n",
        " \\frac{\\partial \\Phi}{\\partial t} + \\text{Div} (\\boldsymbol{Q}) &= 0  \\quad & \\text{in } \\Omega_0 \\times (0,T]. \\\\\n",
        "\\boldsymbol{\\varphi} &= \\boldsymbol{\\varphi}_0  \\quad &  \\text{in } \\Omega_0.\\\\\n",
        "P_{alv} &= P_0  & \\text{in } \\Omega_0.\\\\\n",
        "\\boldsymbol{\\varphi} &= \\boldsymbol{\\vec{\\varphi}} \\quad & \\text{on } \\Gamma_{\\varphi} \\times (0,T].\\\\\n",
        "\\boldsymbol{P}\\cdot \\boldsymbol{N} &= \\bar{\\boldsymbol{T}} \\quad & \\text{on } \\Gamma_T \\times (0,T]. \\\\\n",
        "{P_{alv}} &= \\bar{{P}} \\quad & \\text{on } \\Gamma_P \\times (0,T].\\\\\n",
        "\\boldsymbol{Q}\\cdot \\boldsymbol{N} &= \\bar{{Q}} \\quad & \\text{on } \\Gamma_Q \\times (0,T].\n",
        "\\end{align}"
      ],
      "metadata": {
        "id": "GtnqKTRu98KL"
      }
    },
    {
      "cell_type": "markdown",
      "source": [
        "We begin by importing the necessary modules.\n",
        "\n",
        "\n",
        "---\n",
        "\n",
        "\n",
        "\\\n",
        "**Note**: Up to this point, it is recommended to upload to this session the `modelfunctions` and `linearregression` functions to be imported, along with `mesh.h5` file (mesh of the high-fidelity lung model)."
      ],
      "metadata": {
        "id": "av7umEo6y0c-"
      }
    },
    {
      "cell_type": "code",
      "execution_count": null,
      "metadata": {
        "id": "NjPck6Q7S9tR"
      },
      "outputs": [],
      "source": [
        "# Import and install (***it is necessary to run this cell 2 times!***)\n",
        "try:\n",
        "    import dolfin\n",
        "    print(\"oui\")\n",
        "except ImportError:\n",
        "    !wget \"https://fem-on-colab.github.io/releases/fenics-install.sh\" -O \"/tmp/fenics-install.sh\" && bash \"/tmp/fenics-install.sh\"\n",
        "    import dolfin"
      ]
    },
    {
      "cell_type": "code",
      "source": [
        "!pip install meshio==4.4.6"
      ],
      "metadata": {
        "id": "TznOSG06UJes"
      },
      "execution_count": null,
      "outputs": []
    },
    {
      "cell_type": "code",
      "source": [
        "!pip install pyDOE"
      ],
      "metadata": {
        "id": "JxKHT54dUzXH"
      },
      "execution_count": null,
      "outputs": []
    },
    {
      "cell_type": "code",
      "source": [
        "import meshio\n",
        "import dolfin\n",
        "import os\n",
        "import matplotlib.pyplot as plt\n",
        "import numpy as np\n",
        "import time\n",
        "import modelfunctions\n",
        "import linearregression\n",
        "\n",
        "from ast import Interactive\n",
        "from dolfin import *\n",
        "from modelfunctions import solve_poroelasticity\n",
        "from linearregression import regression\n",
        "from sklearn import linear_model\n",
        "from pyDOE import lhs"
      ],
      "metadata": {
        "id": "pH63pXbJUaAz"
      },
      "execution_count": null,
      "outputs": []
    },
    {
      "cell_type": "markdown",
      "source": [
        "## Parameters dataset creation"
      ],
      "metadata": {
        "id": "wMs7ZdDEy5mk"
      }
    },
    {
      "cell_type": "markdown",
      "source": [
        "1. We specify a `range` around the baseline values of the considered lung parameter values under analysis:\n",
        "\n",
        "Lung tissue constitutive model parameters:\n",
        "*   $c$\n",
        "*   $\\beta$\n",
        "*   $c_1$\n",
        "*   $c_3$\n",
        "\n",
        "Lung permeability:\n",
        "*   $k$\n",
        "\n",
        "Spring stiffness (chest-wall effect):\n",
        "*   $K_s$\n",
        "\n",
        "\n",
        "\\\n",
        "2. We use Latin Hypercube Sampling to obtain `sample_num` number of samples of the parameter space, bounded in the specified range.\n",
        "\n",
        "\n",
        "---\n",
        "\n",
        "\n",
        "\\\n",
        "**Note**: Just for demonstrative purposes, here we only obtain 2 samples and a range of 0% (this in order to check that the sampling is correctly performed, and to obtain the response of our high-fidelity model when using the baseline values for the parameters)."
      ],
      "metadata": {
        "id": "ZtGmT88vzdk7"
      }
    },
    {
      "cell_type": "code",
      "source": [
        "# We consider a range of 50% around the mean\n",
        "range = 50/100\n",
        "\n",
        "# Constitutive model parameters bounds (Bir. 2019 et al.)\n",
        "C_bir2019    = [-range*356.7 + 356.7 , 356.7 +range*356.7] # parameter c\n",
        "Beta_bir2019 = [-range*1.075 + 1.075 , 1.075 +range*1.075] # parameter beta\n",
        "C1_bir2019   = [-range*278.2 + 278.2 , 278.2 +range*278.2] # parameter c1\n",
        "C3_bir2019   = [-range*5.766 + 5.766 , 5.766 +range*5.766] # parameter c3\n",
        "\n",
        "# Mechanical parameters bounds\n",
        "per = [-range*10000 + 10000 , 10000 +range*10000]          # parameter k\n",
        "KKresortee = [-range*0.08 + 0.08 , 0.08 +range*0.08]       # parameter Ks\n",
        "\n",
        "# We use Latin Hypercube Sampling approach to generate space-filling training samples.\n",
        "# Number of samples\n",
        "sample_num = 2\n",
        "# Bounds\n",
        "lb = np.array([C_bir2019[0], Beta_bir2019[0], C1_bir2019[0], C3_bir2019[0], per[0], KKresortee[0]])\n",
        "ub = np.array([C_bir2019[1], Beta_bir2019[1], C1_bir2019[1], C3_bir2019[1], per[1], KKresortee[1]])\n",
        "# Generation of samples\n",
        "X_data = (ub-lb)*lhs(6, samples=sample_num) + lb\n",
        "\n",
        "# We create an output vector to store the posterior simulation results (Crs and R)\n",
        "Y_data = np.zeros([sample_num, 2])\n",
        "print(X_data, Y_data)"
      ],
      "metadata": {
        "colab": {
          "base_uri": "https://localhost:8080/"
        },
        "id": "FrGWmLfSVBDE",
        "outputId": "71088540-5d95-47ee-f378-1a2d1229cb66"
      },
      "execution_count": null,
      "outputs": [
        {
          "output_type": "stream",
          "name": "stdout",
          "text": [
            "[[3.567e+02 1.075e+00 2.782e+02 5.766e+00 1.000e+04 8.000e-02]\n",
            " [3.567e+02 1.075e+00 2.782e+02 5.766e+00 1.000e+04 8.000e-02]] [[0. 0.]\n",
            " [0. 0.]]\n"
          ]
        }
      ]
    },
    {
      "cell_type": "markdown",
      "source": [
        "## Performing the simulations"
      ],
      "metadata": {
        "id": "p9ZMNAMP359F"
      }
    },
    {
      "cell_type": "markdown",
      "source": [
        "Next, for each sample of model parameters, the problem is solved using finite elements in FEniCS. To this end we call `solve_poroelasticity`, in which the following steps are performed:\n",
        "\n",
        "*   Load the mesh and boundaryes\n",
        "*   Build function space. We use Taylor-Hood element\n",
        "*   Initialize solver\n",
        "*   Time-stepping loop\n",
        "\n",
        "At the end of each simulation, we obtain arrays of pressure, airflow, and volume waveforms, along with a time array.\n",
        "\n",
        "\n"
      ],
      "metadata": {
        "id": "oi3-wWaF4OXb"
      }
    },
    {
      "cell_type": "code",
      "source": [
        "# Measuring time\n",
        "start_time = time.time()\n",
        "\n",
        "# Simulation loop (it will execute 'sample_num' number of cases)\n",
        "i = 0\n",
        "\n",
        "while i < len(X_data):\n",
        "\n",
        "    ii = i\n",
        "    # Obtain the model parameters of the 'i' sample\n",
        "    C_bir2019    = X_data[i,0]\n",
        "    Beta_bir2019 = X_data[i,1]\n",
        "    C1_bir2019   = X_data[i,2]\n",
        "    C3_bir2019   = X_data[i,3]\n",
        "    per          = X_data[i,4]\n",
        "    KKresortee   = X_data[i,5]\n",
        "\n",
        "    models=['bir2019']\n",
        "    # We use these parameters in our simulation, via 'solve_poroelasticity'\n",
        "    for model in models:\n",
        "        tiempos,Jacob,flux,presionestodas=solve_poroelasticity('TEST',model,'high',per,KKresortee,ii,C_bir2019,Beta_bir2019,C1_bir2019,C3_bir2019)\n",
        "\n",
        "    i += 1\n",
        "\n",
        "print(\"--- %s seconds ---\" % (time.time() - start_time))"
      ],
      "metadata": {
        "id": "4EfQfw8dVXhV"
      },
      "execution_count": null,
      "outputs": []
    },
    {
      "cell_type": "markdown",
      "source": [
        "## Obtaining respiratory-system compliance and airways resistance"
      ],
      "metadata": {
        "id": "J0QIR8js68Ab"
      }
    },
    {
      "cell_type": "markdown",
      "source": [
        "Finally, from the ventilator signals and using the single compartment equation of motion, we obtain the respiratory-system compliance and airways resistance parameters via least-squares fitting by calling the `regression` function:\n",
        "\n",
        "\\begin{equation}\n",
        "\\text{P}_{\\text{aw}}(t)=\\frac{\\text{V}(t)}{\\text{C}_{\\text{rs}}}+ \\text{R} \\dot{\\text{V}}(t)+\\text{PEEP}-\\text{P}_{\\text{mus}}(t)\n",
        "\\end{equation}"
      ],
      "metadata": {
        "id": "UyHQa7qk7Eni"
      }
    },
    {
      "cell_type": "code",
      "source": [
        "# Simulation loop (it will execute 'sample_num' number of cases)\n",
        "i = 0\n",
        "\n",
        "while i < len(X_data):\n",
        "\n",
        "    ii = i\n",
        "\n",
        "    name='bir2019'\n",
        "\n",
        "    ## We load the mechanical ventilation curves (considering both lungs)\n",
        "    fluxes=fileflujos=np.load(name+str(ii)+'fluxes.npy')+np.load(name+str(ii)+'fluxes.npy')#[0:84]\n",
        "    presionestodas=filepresiones=np.load(name+str(ii)+'presionestodas.npy')#+filepresionesi\n",
        "    tiempos=filetiempos=np.load(name+str(ii)+'tiempos.npy')\n",
        "    Jacob=filevolumenes=np.load(name+str(ii)+'volumenes.npy')+np.load(name+str(ii)+'volumenes.npy')#[0:84]\n",
        "    Jacob=Jacob-Jacob[0]\n",
        "\n",
        "    # We read the generated .npy files from both lungs\n",
        "    maflujos=fluxes*60\n",
        "    mapresiones=presionestodas\n",
        "    matiempos=tiempos\n",
        "    mavolumenes=Jacob\n",
        "\n",
        "    # We add a 0 in the first element of the arrays (due to missing data from simulations)\n",
        "    maflujos=np.concatenate((np.array([0]),np.asarray(maflujos)))\n",
        "    mapresiones=np.concatenate((np.array([0]),np.asarray(mapresiones)))\n",
        "    matiempos=np.concatenate((np.array([0]),np.asarray(matiempos)))\n",
        "    mavolumenes=np.concatenate((np.array([0]),np.asarray(mavolumenes)))\n",
        "\n",
        "    # We adjust the respiratory-system compliance and airways resistance from the equation of motion\n",
        "    regression(maflujos,mapresiones,matiempos,mavolumenes,name,Y_data,i)\n",
        "\n",
        "    i += 1"
      ],
      "metadata": {
        "colab": {
          "base_uri": "https://localhost:8080/"
        },
        "id": "p2-k39NE_jvo",
        "outputId": "a66bb8e4-f743-4a18-947e-c0f35ed87d9e"
      },
      "execution_count": null,
      "outputs": [
        {
          "output_type": "stream",
          "name": "stdout",
          "text": [
            "bir2019\n",
            "Resistance(R)= (3.8195726868217355, 2) cm H2O L/S, \n",
            "Compliance (Crs)= 93.62131911065362 ml/cm H2O\n",
            "---------------\n",
            "bir2019\n",
            "Resistance(R)= (3.8195726868217355, 2) cm H2O L/S, \n",
            "Compliance (Crs)= 93.62131911065362 ml/cm H2O\n",
            "---------------\n"
          ]
        }
      ]
    },
    {
      "cell_type": "markdown",
      "source": [
        "## Display the dataset"
      ],
      "metadata": {
        "id": "BNT8OIhT7xpa"
      }
    },
    {
      "cell_type": "markdown",
      "source": [
        "Finally, we display the created dataset. From this, it can be observed that:\n",
        "\n",
        "- `X_data` is an array that corresponds to the sampled lung parameters using the Latin hypercube design: each row a sample containing the values of the six parameters.\n",
        "\n",
        "- `Y_data` is an array where a single row corresponds to the obtained respiratory-system compliance and airways resistance after simulating the corresponding sample of lung model parameters."
      ],
      "metadata": {
        "id": "38pmS7m3716a"
      }
    },
    {
      "cell_type": "code",
      "source": [
        "# Print input and output arrays\n",
        "print(X_data)\n",
        "print(Y_data)\n",
        "\n",
        "# Saving arrays\n",
        "np.save('input_data.npy', X_data)\n",
        "np.save('output_data.npy', Y_data)"
      ],
      "metadata": {
        "colab": {
          "base_uri": "https://localhost:8080/"
        },
        "id": "J2Bc-DvEVh6o",
        "outputId": "b40268d6-c545-48e1-a0a0-9a0597be048f"
      },
      "execution_count": null,
      "outputs": [
        {
          "output_type": "stream",
          "name": "stdout",
          "text": [
            "[[3.567e+02 1.075e+00 2.782e+02 5.766e+00 1.000e+04 8.000e-02]\n",
            " [3.567e+02 1.075e+00 2.782e+02 5.766e+00 1.000e+04 8.000e-02]]\n",
            "[[ 3.81957269 93.62131911]\n",
            " [ 3.81957269 93.62131911]]\n"
          ]
        }
      ]
    },
    {
      "cell_type": "markdown",
      "source": [
        "https://github.com/comp-medicine-uc/continuum-lung-mechanics provides a detailed background on the implemented high fidelity model."
      ],
      "metadata": {
        "id": "iT-hvpzhok_t"
      }
    }
  ]
}
{
  "nbformat": 4,
  "nbformat_minor": 0,
  "metadata": {
    "colab": {
      "provenance": [],
      "toc_visible": true
    },
    "kernelspec": {
      "name": "python3",
      "display_name": "Python 3"
    },
    "language_info": {
      "name": "python"
    }
  },
  "cells": [
    {
      "cell_type": "markdown",
      "source": [
        "# Low-fidelity model of lungs connected to mechanical ventilation: simulations and dataset creation."
      ],
      "metadata": {
        "id": "TIbguw5793jV"
      }
    },
    {
      "cell_type": "markdown",
      "source": [
        "Using as a basis the high-fidelity lung model procedure, in the following notebook we describe the methodology to simulate a low-fidelity lung model assisted by pressure-controlled mechanical ventilation."
      ],
      "metadata": {
        "id": "GtnqKTRu98KL"
      }
    },
    {
      "cell_type": "markdown",
      "source": [
        "We begin by importing the necessary modules.\n",
        "\n",
        "\n",
        "---\n",
        "\n",
        "\n",
        "\\\n",
        "**Note**: Up to this point, it is recommended to upload to this session the `modelfunctions` and `linearregression` functions to be imported, along with `mesh.h5` file (mesh of the high-fidelity lung model)."
      ],
      "metadata": {
        "id": "av7umEo6y0c-"
      }
    },
    {
      "cell_type": "code",
      "execution_count": null,
      "metadata": {
        "id": "NjPck6Q7S9tR"
      },
      "outputs": [],
      "source": [
        "# Import and install (***it is necessary to run this cell 2 times!***)\n",
        "try:\n",
        "    import dolfin\n",
        "    print(\"oui\")\n",
        "except ImportError:\n",
        "    !wget \"https://fem-on-colab.github.io/releases/fenics-install.sh\" -O \"/tmp/fenics-install.sh\" && bash \"/tmp/fenics-install.sh\"\n",
        "    import dolfin"
      ]
    },
    {
      "cell_type": "code",
      "source": [
        "!pip install meshio==4.4.6"
      ],
      "metadata": {
        "id": "TznOSG06UJes"
      },
      "execution_count": null,
      "outputs": []
    },
    {
      "cell_type": "code",
      "source": [
        "!pip install pyDOE"
      ],
      "metadata": {
        "id": "JxKHT54dUzXH"
      },
      "execution_count": null,
      "outputs": []
    },
    {
      "cell_type": "code",
      "source": [
        "import meshio\n",
        "import dolfin\n",
        "import os\n",
        "import matplotlib.pyplot as plt\n",
        "import numpy as np\n",
        "import time\n",
        "import modelfunctions\n",
        "import linearregression\n",
        "\n",
        "from ast import Interactive\n",
        "from dolfin import *\n",
        "from modelfunctions import solve_poroelasticity\n",
        "from linearregression import regression\n",
        "from sklearn import linear_model\n",
        "from pyDOE import lhs"
      ],
      "metadata": {
        "id": "pH63pXbJUaAz"
      },
      "execution_count": null,
      "outputs": []
    },
    {
      "cell_type": "markdown",
      "source": [
        "## Parameters dataset creation"
      ],
      "metadata": {
        "id": "wMs7ZdDEy5mk"
      }
    },
    {
      "cell_type": "markdown",
      "source": [
        "1. We specify a `range` around the baseline values of the considered lung parameter values under analysis:\n",
        "\n",
        "Lung tissue constitutive model parameters:\n",
        "*   $c$\n",
        "*   $\\beta$\n",
        "*   $c_1$\n",
        "*   $c_3$\n",
        "\n",
        "Lung permeability:\n",
        "*   $k$\n",
        "\n",
        "Spring stiffness (chest-wall effect):\n",
        "*   $K_s$\n",
        "\n",
        "\n",
        "\\\n",
        "2. We use Latin Hypercube Sampling to obtain `sample_num` number of samples of the parameter space, bounded in the specified range.\n",
        "\n",
        "\n",
        "---\n",
        "\n",
        "\n",
        "\\\n",
        "**Note**: Just for demonstrative purposes, here we only obtain 20 samples."
      ],
      "metadata": {
        "id": "ZtGmT88vzdk7"
      }
    },
    {
      "cell_type": "code",
      "source": [
        "# We consider a range of 50% around the mean\n",
        "range = 50/100\n",
        "\n",
        "# Constitutive model parameters bounds (Bir. 2019 et al.)\n",
        "C_bir2019    = [-range*356.7 + 356.7 , 356.7 +range*356.7] # parameter c\n",
        "Beta_bir2019 = [-range*1.075 + 1.075 , 1.075 +range*1.075] # parameter beta\n",
        "C1_bir2019   = [-range*278.2 + 278.2 , 278.2 +range*278.2] # parameter c1\n",
        "C3_bir2019   = [-range*5.766 + 5.766 , 5.766 +range*5.766] # parameter c3\n",
        "\n",
        "# Mechanical parameters bounds\n",
        "per = [-range*10000 + 10000 , 10000 +range*10000]          # parameter k\n",
        "KKresortee = [-range*0.08 + 0.08 , 0.08 +range*0.08]       # parameter Ks\n",
        "\n",
        "# We use Latin Hypercube Sampling approach to generate space-filling training samples.\n",
        "# Number of samples\n",
        "sample_num = 20\n",
        "# Bounds\n",
        "lb = np.array([C_bir2019[0], Beta_bir2019[0], C1_bir2019[0], C3_bir2019[0], per[0], KKresortee[0]])\n",
        "ub = np.array([C_bir2019[1], Beta_bir2019[1], C1_bir2019[1], C3_bir2019[1], per[1], KKresortee[1]])\n",
        "# Generation of samples\n",
        "X_data = (ub-lb)*lhs(6, samples=sample_num) + lb\n",
        "\n",
        "# We create an output vector to store the posterior simulation results (Crs and R)\n",
        "Y_data = np.zeros([sample_num, 2])\n",
        "print(X_data, Y_data)"
      ],
      "metadata": {
        "colab": {
          "base_uri": "https://localhost:8080/"
        },
        "id": "FrGWmLfSVBDE",
        "outputId": "b0c21e50-b885-4284-ff05-526894a14e66"
      },
      "execution_count": null,
      "outputs": [
        {
          "output_type": "stream",
          "name": "stdout",
          "text": [
            "[[4.72567798e+02 8.03318105e-01 1.97689886e+02 5.70984423e+00\n",
            "  1.26810601e+04 5.46009340e-02]\n",
            " [3.53440877e+02 1.29376126e+00 2.25621783e+02 5.12849479e+00\n",
            "  1.09438745e+04 1.18740980e-01]\n",
            " [2.98420620e+02 7.02389636e-01 2.15791894e+02 4.12123105e+00\n",
            "  5.23096891e+03 1.02946187e-01]\n",
            " [4.08652636e+02 1.56815162e+00 1.76777883e+02 3.91553196e+00\n",
            "  8.63183184e+03 1.12807007e-01]\n",
            " [1.89626669e+02 6.49295421e-01 3.12371391e+02 2.99866397e+00\n",
            "  1.37263336e+04 1.07024797e-01]\n",
            " [4.31880003e+02 1.51189820e+00 3.98835783e+02 7.02681859e+00\n",
            "  7.55876609e+03 4.06164140e-02]\n",
            " [4.60848793e+02 1.49921040e+00 3.40832262e+02 6.42723933e+00\n",
            "  9.56702622e+03 6.20599628e-02]\n",
            " [5.19461244e+02 1.06311243e+00 3.28803953e+02 4.43961878e+00\n",
            "  1.19233201e+04 9.74705990e-02]\n",
            " [3.75666769e+02 1.28076225e+00 4.12726999e+02 7.95657363e+00\n",
            "  1.24579244e+04 8.00547506e-02]\n",
            " [4.25226692e+02 1.14072716e+00 3.76751699e+02 5.80979020e+00\n",
            "  6.23581090e+03 9.29243430e-02]\n",
            " [2.81858230e+02 1.10478618e+00 1.65329840e+02 7.38094314e+00\n",
            "  7.25071362e+03 6.77325184e-02]\n",
            " [3.72740001e+02 1.22402822e+00 2.78277433e+02 6.19044389e+00\n",
            "  9.36366257e+03 1.11203130e-01]\n",
            " [4.91946692e+02 9.22944393e-01 2.50938287e+02 7.54161398e+00\n",
            "  8.29321572e+03 5.68323128e-02]\n",
            " [2.19786602e+02 9.98121117e-01 1.88407376e+02 5.39087055e+00\n",
            "  1.31522168e+04 7.69754904e-02]\n",
            " [3.13540616e+02 5.77773039e-01 3.55695635e+02 3.61960393e+00\n",
            "  1.11128857e+04 7.29205054e-02]\n",
            " [2.62060467e+02 1.39318062e+00 2.48904614e+02 3.26618083e+00\n",
            "  1.49063334e+04 8.93078859e-02]\n",
            " [2.43471515e+02 1.42561935e+00 1.43106108e+02 8.54118050e+00\n",
            "  5.64669707e+03 4.93549475e-02]\n",
            " [3.27923420e+02 8.51851563e-01 2.76197407e+02 4.82021253e+00\n",
            "  1.42094872e+04 6.88515596e-02]\n",
            " [5.06064599e+02 6.44209098e-01 3.72042517e+02 8.08740910e+00\n",
            "  1.00474686e+04 4.40778160e-02]\n",
            " [2.08319667e+02 8.88628800e-01 3.04820334e+02 6.66244334e+00\n",
            "  6.51384127e+03 8.78307450e-02]] [[0. 0.]\n",
            " [0. 0.]\n",
            " [0. 0.]\n",
            " [0. 0.]\n",
            " [0. 0.]\n",
            " [0. 0.]\n",
            " [0. 0.]\n",
            " [0. 0.]\n",
            " [0. 0.]\n",
            " [0. 0.]\n",
            " [0. 0.]\n",
            " [0. 0.]\n",
            " [0. 0.]\n",
            " [0. 0.]\n",
            " [0. 0.]\n",
            " [0. 0.]\n",
            " [0. 0.]\n",
            " [0. 0.]\n",
            " [0. 0.]\n",
            " [0. 0.]]\n"
          ]
        }
      ]
    },
    {
      "cell_type": "markdown",
      "source": [
        "## Performing the simulations"
      ],
      "metadata": {
        "id": "p9ZMNAMP359F"
      }
    },
    {
      "cell_type": "markdown",
      "source": [
        "Next, for each sample of model parameters, the problem is solved using finite elements in FEniCS. To this end we call `solve_poroelasticity`, in which the following steps are performed:\n",
        "\n",
        "*   Load the mesh and boundaryes\n",
        "*   Build function space. We use Taylor-Hood element\n",
        "*   Initialize solver\n",
        "*   Time-stepping loop\n",
        "\n",
        "At the end of each simulation, we obtain arrays of pressure, airflow, and volume waveforms, along with a time array.\n",
        "\n",
        "\n"
      ],
      "metadata": {
        "id": "oi3-wWaF4OXb"
      }
    },
    {
      "cell_type": "code",
      "source": [
        "# Measuring time\n",
        "start_time = time.time()\n",
        "\n",
        "# Simulation loop (it will execute 'sample_num' number of cases)\n",
        "i = 0\n",
        "\n",
        "while i < len(X_data):\n",
        "\n",
        "    ii = i\n",
        "    # Obtain the model parameters of the 'i' sample\n",
        "    C_bir2019    = X_data[i,0]\n",
        "    Beta_bir2019 = X_data[i,1]\n",
        "    C1_bir2019   = X_data[i,2]\n",
        "    C3_bir2019   = X_data[i,3]\n",
        "    per          = X_data[i,4]\n",
        "    KKresortee   = X_data[i,5]\n",
        "\n",
        "    models=['bir2019']\n",
        "    # We use these parameters in our simulation, via 'solve_poroelasticity'\n",
        "    for model in models:\n",
        "        tiempos,Jacob,flux,presionestodas=solve_poroelasticity('TEST',model,'low',per,KKresortee,ii,C_bir2019,Beta_bir2019,C1_bir2019,C3_bir2019)\n",
        "\n",
        "    i += 1\n",
        "\n",
        "print(\"--- %s seconds ---\" % (time.time() - start_time))"
      ],
      "metadata": {
        "id": "4EfQfw8dVXhV"
      },
      "execution_count": null,
      "outputs": []
    },
    {
      "cell_type": "markdown",
      "source": [
        "## Obtaining respiratory-system compliance and airways resistance"
      ],
      "metadata": {
        "id": "J0QIR8js68Ab"
      }
    },
    {
      "cell_type": "markdown",
      "source": [
        "Finally, from the ventilator signals and using the single compartment equation of motion, we obtain the respiratory-system compliance and airways resistance parameters via least-squares fitting by calling the `regression` function:\n",
        "\n",
        "\\begin{equation}\n",
        "\\text{P}_{\\text{aw}}(t)=\\frac{\\text{V}(t)}{\\text{C}_{\\text{rs}}}+ \\text{R} \\dot{\\text{V}}(t)+\\text{PEEP}-\\text{P}_{\\text{mus}}(t)\n",
        "\\end{equation}"
      ],
      "metadata": {
        "id": "UyHQa7qk7Eni"
      }
    },
    {
      "cell_type": "code",
      "source": [
        "# Simulation loop (it will execute 'sample_num' number of cases)\n",
        "i = 0\n",
        "\n",
        "while i < len(X_data):\n",
        "\n",
        "    ii = i\n",
        "\n",
        "    name='bir2019'\n",
        "\n",
        "    ## We load the mechanical ventilation curves (considering both lungs)\n",
        "    fluxes=fileflujos=np.load(name+str(ii)+'fluxes.npy')*8+np.load(name+str(ii)+'fluxes.npy')*8#[0:84]\n",
        "    presionestodas=filepresiones=np.load(name+str(ii)+'presionestodas.npy')#+filepresionesi\n",
        "    tiempos=filetiempos=np.load(name+str(ii)+'tiempos.npy')\n",
        "    Jacob=filevolumenes=np.load(name+str(ii)+'volumenes.npy')*8+np.load(name+str(ii)+'volumenes.npy')*8#[0:84]\n",
        "    Jacob=Jacob-Jacob[0]\n",
        "\n",
        "    # We read the generated .npy files from both lungs\n",
        "    maflujos=fluxes*60\n",
        "    mapresiones=presionestodas\n",
        "    matiempos=tiempos\n",
        "    mavolumenes=Jacob\n",
        "\n",
        "    # We add a 0 in the first element of the arrays (due to missing data from simulations)\n",
        "    maflujos=np.concatenate((np.array([0]),np.asarray(maflujos)))\n",
        "    mapresiones=np.concatenate((np.array([0]),np.asarray(mapresiones)))\n",
        "    matiempos=np.concatenate((np.array([0]),np.asarray(matiempos)))\n",
        "    mavolumenes=np.concatenate((np.array([0]),np.asarray(mavolumenes)))\n",
        "\n",
        "    # We adjust the respiratory-system compliance and airways resistance from the equation of motion\n",
        "    regression(maflujos,mapresiones,matiempos,mavolumenes,name,Y_data,i)\n",
        "\n",
        "    i += 1"
      ],
      "metadata": {
        "colab": {
          "base_uri": "https://localhost:8080/"
        },
        "id": "p2-k39NE_jvo",
        "outputId": "84b80fa9-8310-470a-eb28-b8fb8c9f5293"
      },
      "execution_count": null,
      "outputs": [
        {
          "output_type": "stream",
          "name": "stdout",
          "text": [
            "bir2019\n",
            "Resistance(R)= (3.203457629003445, 2) cm H2O L/S, \n",
            "Compliance (Crs)= 112.43723232711235 ml/cm H2O\n",
            "---------------\n",
            "bir2019\n",
            "Resistance(R)= (3.783915048545522, 2) cm H2O L/S, \n",
            "Compliance (Crs)= 69.73503104979156 ml/cm H2O\n",
            "---------------\n",
            "bir2019\n",
            "Resistance(R)= (7.596405352575292, 2) cm H2O L/S, \n",
            "Compliance (Crs)= 80.34245589528902 ml/cm H2O\n",
            "---------------\n",
            "bir2019\n",
            "Resistance(R)= (4.766424120757759, 2) cm H2O L/S, \n",
            "Compliance (Crs)= 61.74669913105019 ml/cm H2O\n",
            "---------------\n",
            "bir2019\n",
            "Resistance(R)= (3.003229366259611, 2) cm H2O L/S, \n",
            "Compliance (Crs)= 106.58159073644714 ml/cm H2O\n",
            "---------------\n",
            "bir2019\n",
            "Resistance(R)= (5.323488079650627, 2) cm H2O L/S, \n",
            "Compliance (Crs)= 93.31997858415096 ml/cm H2O\n",
            "---------------\n",
            "bir2019\n",
            "Resistance(R)= (4.262304962724921, 2) cm H2O L/S, \n",
            "Compliance (Crs)= 79.34580470189096 ml/cm H2O\n",
            "---------------\n",
            "bir2019\n",
            "Resistance(R)= (3.454309556453954, 2) cm H2O L/S, \n",
            "Compliance (Crs)= 69.66710935348667 ml/cm H2O\n",
            "---------------\n",
            "bir2019\n",
            "Resistance(R)= (3.3079954322816434, 2) cm H2O L/S, \n",
            "Compliance (Crs)= 88.03268596531544 ml/cm H2O\n",
            "---------------\n",
            "bir2019\n",
            "Resistance(R)= (6.498012366279401, 2) cm H2O L/S, \n",
            "Compliance (Crs)= 71.80854833759531 ml/cm H2O\n",
            "---------------\n",
            "bir2019\n",
            "Resistance(R)= (5.540501839672481, 2) cm H2O L/S, \n",
            "Compliance (Crs)= 105.75090051729632 ml/cm H2O\n",
            "---------------\n",
            "bir2019\n",
            "Resistance(R)= (4.3928469301880035, 2) cm H2O L/S, \n",
            "Compliance (Crs)= 71.1750418155115 ml/cm H2O\n",
            "---------------\n",
            "bir2019\n",
            "Resistance(R)= (4.870350766935442, 2) cm H2O L/S, \n",
            "Compliance (Crs)= 95.5487487143827 ml/cm H2O\n",
            "---------------\n",
            "bir2019\n",
            "Resistance(R)= (3.1264604386441026, 2) cm H2O L/S, \n",
            "Compliance (Crs)= 124.56690946883297 ml/cm H2O\n",
            "---------------\n",
            "bir2019\n",
            "Resistance(R)= (3.6563510549911515, 2) cm H2O L/S, \n",
            "Compliance (Crs)= 124.39375639297702 ml/cm H2O\n",
            "---------------\n",
            "bir2019\n",
            "Resistance(R)= (2.7991355685817347, 2) cm H2O L/S, \n",
            "Compliance (Crs)= 97.82474527784184 ml/cm H2O\n",
            "---------------\n",
            "bir2019\n",
            "Resistance(R)= (6.96535692893316, 2) cm H2O L/S, \n",
            "Compliance (Crs)= 112.22815950298417 ml/cm H2O\n",
            "---------------\n",
            "bir2019\n",
            "Resistance(R)= (2.8894104369914597, 2) cm H2O L/S, \n",
            "Compliance (Crs)= 120.46624518615289 ml/cm H2O\n",
            "---------------\n",
            "bir2019\n",
            "Resistance(R)= (3.9990275528586587, 2) cm H2O L/S, \n",
            "Compliance (Crs)= 124.61088823188658 ml/cm H2O\n",
            "---------------\n",
            "bir2019\n",
            "Resistance(R)= (6.07240381026364, 2) cm H2O L/S, \n",
            "Compliance (Crs)= 98.48344315926745 ml/cm H2O\n",
            "---------------\n"
          ]
        }
      ]
    },
    {
      "cell_type": "markdown",
      "source": [
        "## Display the dataset"
      ],
      "metadata": {
        "id": "BNT8OIhT7xpa"
      }
    },
    {
      "cell_type": "markdown",
      "source": [
        "Finally, we display the created dataset. From this, it can be observed that:\n",
        "\n",
        "- `X_data` is an array that corresponds to the sampled lung parameters using the Latin hypercube design: each row a sample containing the values of the six parameters.\n",
        "\n",
        "- `Y_data` is an array where a single row corresponds to the obtained respiratory-system compliance and airways resistance after simulating the corresponding sample of lung model parameters."
      ],
      "metadata": {
        "id": "38pmS7m3716a"
      }
    },
    {
      "cell_type": "code",
      "source": [
        "# Print input and output arrays\n",
        "print(X_data)\n",
        "print(Y_data)\n",
        "\n",
        "# Saving arrays\n",
        "np.save('input_data.npy', X_data)\n",
        "np.save('output_data.npy', Y_data)"
      ],
      "metadata": {
        "colab": {
          "base_uri": "https://localhost:8080/"
        },
        "id": "J2Bc-DvEVh6o",
        "outputId": "3efae74f-c550-4750-d450-a69f7f81bcb6"
      },
      "execution_count": null,
      "outputs": [
        {
          "output_type": "stream",
          "name": "stdout",
          "text": [
            "[[4.72567798e+02 8.03318105e-01 1.97689886e+02 5.70984423e+00\n",
            "  1.26810601e+04 5.46009340e-02]\n",
            " [3.53440877e+02 1.29376126e+00 2.25621783e+02 5.12849479e+00\n",
            "  1.09438745e+04 1.18740980e-01]\n",
            " [2.98420620e+02 7.02389636e-01 2.15791894e+02 4.12123105e+00\n",
            "  5.23096891e+03 1.02946187e-01]\n",
            " [4.08652636e+02 1.56815162e+00 1.76777883e+02 3.91553196e+00\n",
            "  8.63183184e+03 1.12807007e-01]\n",
            " [1.89626669e+02 6.49295421e-01 3.12371391e+02 2.99866397e+00\n",
            "  1.37263336e+04 1.07024797e-01]\n",
            " [4.31880003e+02 1.51189820e+00 3.98835783e+02 7.02681859e+00\n",
            "  7.55876609e+03 4.06164140e-02]\n",
            " [4.60848793e+02 1.49921040e+00 3.40832262e+02 6.42723933e+00\n",
            "  9.56702622e+03 6.20599628e-02]\n",
            " [5.19461244e+02 1.06311243e+00 3.28803953e+02 4.43961878e+00\n",
            "  1.19233201e+04 9.74705990e-02]\n",
            " [3.75666769e+02 1.28076225e+00 4.12726999e+02 7.95657363e+00\n",
            "  1.24579244e+04 8.00547506e-02]\n",
            " [4.25226692e+02 1.14072716e+00 3.76751699e+02 5.80979020e+00\n",
            "  6.23581090e+03 9.29243430e-02]\n",
            " [2.81858230e+02 1.10478618e+00 1.65329840e+02 7.38094314e+00\n",
            "  7.25071362e+03 6.77325184e-02]\n",
            " [3.72740001e+02 1.22402822e+00 2.78277433e+02 6.19044389e+00\n",
            "  9.36366257e+03 1.11203130e-01]\n",
            " [4.91946692e+02 9.22944393e-01 2.50938287e+02 7.54161398e+00\n",
            "  8.29321572e+03 5.68323128e-02]\n",
            " [2.19786602e+02 9.98121117e-01 1.88407376e+02 5.39087055e+00\n",
            "  1.31522168e+04 7.69754904e-02]\n",
            " [3.13540616e+02 5.77773039e-01 3.55695635e+02 3.61960393e+00\n",
            "  1.11128857e+04 7.29205054e-02]\n",
            " [2.62060467e+02 1.39318062e+00 2.48904614e+02 3.26618083e+00\n",
            "  1.49063334e+04 8.93078859e-02]\n",
            " [2.43471515e+02 1.42561935e+00 1.43106108e+02 8.54118050e+00\n",
            "  5.64669707e+03 4.93549475e-02]\n",
            " [3.27923420e+02 8.51851563e-01 2.76197407e+02 4.82021253e+00\n",
            "  1.42094872e+04 6.88515596e-02]\n",
            " [5.06064599e+02 6.44209098e-01 3.72042517e+02 8.08740910e+00\n",
            "  1.00474686e+04 4.40778160e-02]\n",
            " [2.08319667e+02 8.88628800e-01 3.04820334e+02 6.66244334e+00\n",
            "  6.51384127e+03 8.78307450e-02]]\n",
            "[[  3.20345763 112.43723233]\n",
            " [  3.78391505  69.73503105]\n",
            " [  7.59640535  80.3424559 ]\n",
            " [  4.76642412  61.74669913]\n",
            " [  3.00322937 106.58159074]\n",
            " [  5.32348808  93.31997858]\n",
            " [  4.26230496  79.3458047 ]\n",
            " [  3.45430956  69.66710935]\n",
            " [  3.30799543  88.03268597]\n",
            " [  6.49801237  71.80854834]\n",
            " [  5.54050184 105.75090052]\n",
            " [  4.39284693  71.17504182]\n",
            " [  4.87035077  95.54874871]\n",
            " [  3.12646044 124.56690947]\n",
            " [  3.65635105 124.39375639]\n",
            " [  2.79913557  97.82474528]\n",
            " [  6.96535693 112.2281595 ]\n",
            " [  2.88941044 120.46624519]\n",
            " [  3.99902755 124.61088823]\n",
            " [  6.07240381  98.48344316]]\n"
          ]
        }
      ]
    }
  ]
}
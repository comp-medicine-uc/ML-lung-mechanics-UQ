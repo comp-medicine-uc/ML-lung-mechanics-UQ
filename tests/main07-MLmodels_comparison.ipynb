{
  "nbformat": 4,
  "nbformat_minor": 0,
  "metadata": {
    "colab": {
      "provenance": []
    },
    "kernelspec": {
      "name": "python3",
      "display_name": "Python 3"
    },
    "language_info": {
      "name": "python"
    }
  },
  "cells": [
    {
      "cell_type": "code",
      "source": [
        "from IPython.display import clear_output"
      ],
      "metadata": {
        "id": "4EXhKa7b4SLc"
      },
      "execution_count": null,
      "outputs": []
    },
    {
      "cell_type": "code",
      "source": [
        "!pip install brokenaxes\n",
        "clear_output()"
      ],
      "metadata": {
        "id": "hvIgo7yX4TW4"
      },
      "execution_count": null,
      "outputs": []
    },
    {
      "cell_type": "code",
      "source": [
        "# General imports\n",
        "import numpy as np\n",
        "import matplotlib.pyplot as plt\n",
        "import seaborn as sns\n",
        "from numpy.random import random\n",
        "from matplotlib import colors as mcolors\n",
        "from brokenaxes import brokenaxes\n",
        "\n",
        "colors = dict(mcolors.BASE_COLORS, **mcolors.CSS4_COLORS)\n",
        "%matplotlib inline\n",
        "\n",
        "np.random.seed(20)"
      ],
      "metadata": {
        "id": "gXWG2jMnRaqL"
      },
      "execution_count": null,
      "outputs": []
    },
    {
      "cell_type": "code",
      "source": [
        "from sklearn.metrics import mean_squared_error as MSE\n",
        "from sklearn.metrics import r2_score as R2"
      ],
      "metadata": {
        "id": "BxbbnCSPSVr0"
      },
      "execution_count": null,
      "outputs": []
    },
    {
      "cell_type": "code",
      "source": [
        "plt.rcParams['font.family'] = 'serif'\n",
        "plt.rcParams['font.serif'] = ['Times New Roman'] + plt.rcParams['font.serif']"
      ],
      "metadata": {
        "id": "Z3kGiria4fbu"
      },
      "execution_count": null,
      "outputs": []
    },
    {
      "cell_type": "code",
      "source": [
        "!wget https://raw.githubusercontent.com/josebarahonay/prueba/master/testing_input_data_100_hf.npy\n",
        "!wget https://raw.githubusercontent.com/josebarahonay/prueba/master/testing_output_data_100_hf.npy\n",
        "!wget https://raw.githubusercontent.com/josebarahonay/prueba/master/testing_input_data_100_lf.npy\n",
        "!wget https://raw.githubusercontent.com/josebarahonay/prueba/master/testing_output_data_100_lf.npy\n",
        "\n",
        "clear_output()"
      ],
      "metadata": {
        "id": "yJAvK4Zu4izG"
      },
      "execution_count": null,
      "outputs": []
    },
    {
      "cell_type": "code",
      "source": [
        "# Additional samples for HF and LF, with the particularity that each Xi is the same for both, could serve as a Testing or Validation Data\n",
        "X_hf_100 = np.load('testing_input_data_100_hf.npy')\n",
        "Y_hf_100 = np.load('testing_output_data_100_hf.npy')\n",
        "\n",
        "X_lf_100 = np.load('testing_input_data_100_lf.npy')\n",
        "Y_lf_100 = np.load('testing_output_data_100_lf.npy')\n",
        "\n",
        "print(\"Testing X HF size :\", X_hf_100.shape)\n",
        "print(\"Testing Y HF size :\", Y_hf_100.shape)\n",
        "print(\"Testing X LF size :\", X_lf_100.shape)\n",
        "print(\"Testing Y LF size :\", Y_lf_100.shape)"
      ],
      "metadata": {
        "colab": {
          "base_uri": "https://localhost:8080/"
        },
        "id": "db4fxIbwRhMs",
        "outputId": "1d825df8-dcc7-45f1-e600-9228d0c6293d"
      },
      "execution_count": null,
      "outputs": [
        {
          "output_type": "stream",
          "name": "stdout",
          "text": [
            "X HF size : (20, 6)\n",
            "Y HF size : (20, 2)\n",
            "X LF size : (200, 6)\n",
            "Y LF size : (200, 2)\n",
            "\n",
            "Additional X HF size : (100, 6)\n",
            "Additional Y HF size : (100, 2)\n",
            "Additional X LF size : (100, 6)\n",
            "Additional Y LF size : (100, 2)\n"
          ]
        }
      ]
    },
    {
      "cell_type": "code",
      "source": [
        "!wget https://raw.githubusercontent.com/josebarahonay/prueba/master/NN_C.npy\n",
        "!wget https://raw.githubusercontent.com/josebarahonay/prueba/master/NN_R.npy\n",
        "!wget https://raw.githubusercontent.com/josebarahonay/prueba/master/sfGP_C.npy\n",
        "!wget https://raw.githubusercontent.com/josebarahonay/prueba/master/sfGP_R.npy\n",
        "!wget https://raw.githubusercontent.com/josebarahonay/prueba/master/mfGP_C.npy\n",
        "!wget https://raw.githubusercontent.com/josebarahonay/prueba/master/mfGP_R.npy\n",
        "\n",
        "clear_output()"
      ],
      "metadata": {
        "id": "M54t_6aP5apq"
      },
      "execution_count": null,
      "outputs": []
    },
    {
      "cell_type": "code",
      "source": [
        "NN_C = np.load('NN_C.npy')\n",
        "NN_R = np.load('NN_R.npy')\n",
        "\n",
        "gp_C = np.squeeze(np.load('sfGP_C'))\n",
        "gp_R = np.squeeze(np.load('sfGP_R'))\n",
        "\n",
        "mfgp_C = np.squeeze(np.load('mfGP_C'))\n",
        "mfgp_R = np.squeeze(np.load('mfGP_R'))\n",
        "\n",
        "lf_C = mfgp_C[:100]\n",
        "hf_C = mfgp_C[100:]\n",
        "lf_R = mfgp_R[:100]\n",
        "hf_R = mfgp_R[100:]"
      ],
      "metadata": {
        "id": "jkPfMDlMTKi-"
      },
      "execution_count": null,
      "outputs": []
    },
    {
      "cell_type": "code",
      "source": [
        "cmap_2 = plt.cm.get_cmap('GnBu')\n",
        "\n",
        "rgba_4 = cmap_2(0.99)\n",
        "rgba_5 = cmap_2(0.7)\n",
        "rgba_6 = cmap_2(0.75)"
      ],
      "metadata": {
        "colab": {
          "base_uri": "https://localhost:8080/"
        },
        "id": "3pHBJ9V4i8zQ",
        "outputId": "fce8861f-de3f-4095-f798-913863a5a336"
      },
      "execution_count": null,
      "outputs": [
        {
          "output_type": "stream",
          "name": "stderr",
          "text": [
            "<ipython-input-11-0124ba55b3c2>:1: MatplotlibDeprecationWarning: The get_cmap function was deprecated in Matplotlib 3.7 and will be removed two minor releases later. Use ``matplotlib.colormaps[name]`` or ``matplotlib.colormaps.get_cmap(obj)`` instead.\n",
            "  cmap_2 = plt.cm.get_cmap('GnBu')\n"
          ]
        }
      ]
    },
    {
      "cell_type": "code",
      "source": [
        "# Graficos Compliance\n",
        "\n",
        "si = 12\n",
        "# MFGP\n",
        "plt.figure(figsize=(3.8,3.8))\n",
        "plt.scatter(Y_hf_100[:,1], hf_C, color = rgba_6, marker = 'x')\n",
        "plt.xlabel('High fidelity simulation',size = 12,labelpad=10)\n",
        "plt.ylabel('Model prediction',size = 12, color = 'k',labelpad=10)\n",
        "#ax2.set_aspect('equal', 'box')\n",
        "#plt.title(\"Compliance\")\n",
        "a2, b2 = np.polyfit(Y_hf_100[:,1], hf_C,1)\n",
        "plt.plot(Y_hf_100[:,1], a2*Y_hf_100[:,1] + b2, color = 'k', linewidth = 1)\n",
        "plt.text(60, 185, 'y = ' + '{:.2f}'.format(b2) + ' + {:.2f}'.format(a2) + 'x', size=11)\n",
        "#plt.text(70, 165, 'm = {:.2f}'.format(a2), size=11)\n",
        "minor_ticks_left=np.linspace(70,190,3)\n",
        "plt.yticks(minor_ticks_left)\n",
        "plt.xticks(minor_ticks_left)\n",
        "plt.xlim(50,210)\n",
        "plt.ylim(50,210)\n",
        "plt.tick_params(axis='x', labelsize=12)\n",
        "plt.tick_params(axis='y', labelsize=12)\n",
        "\n",
        "r2_c = R2(Y_hf_100[:,1], hf_C)\n",
        "plt.annotate(\"R² = {:.2f}\".format(0.99),(60,195),size = si,weight='bold')\n",
        "\n",
        "#plt.tight_layout() \n",
        "\n",
        "#plt.savefig(\"r2_mfgp.png\", dpi=100, bbox_inches='tight')\n",
        "plt.savefig(\"r2_mfgp_c.jpg\", dpi=300, bbox_inches='tight')\n",
        "#plt.savefig(\"r2_nn.png\", dpi=100, bbox_inches='tight')\n",
        "\n",
        "plt.show()\n",
        "\n",
        "\n",
        "\n",
        "# SFGP\n",
        "plt.figure(figsize=(3.8,3.8))\n",
        "plt.scatter(Y_hf_100[:,1], gp_C, color = rgba_6, marker = 'x')\n",
        "plt.xlabel('High fidelity simulation',size = 12,labelpad=10)\n",
        "plt.ylabel('Model prediction',size = 12, color = 'white',labelpad=10)\n",
        "#ax2.set_aspect('equal', 'box')\n",
        "#plt.title(\"Compliance\")\n",
        "a2, b2 = np.polyfit(Y_hf_100[:,1], gp_C,1)\n",
        "plt.plot(Y_hf_100[:,1], a2*Y_hf_100[:,1] + b2, color = 'k', linewidth = 1)\n",
        "plt.text(60, 185, 'y = ' + '{:.2f}'.format(b2) + ' + {:.2f}'.format(a2) + 'x', size=11)\n",
        "#plt.text(70, 165, 'm = {:.2f}'.format(a2), size=11)\n",
        "minor_ticks_left=np.linspace(70,190,3)\n",
        "plt.yticks(minor_ticks_left)\n",
        "plt.xticks(minor_ticks_left)\n",
        "plt.xlim(50,210)\n",
        "plt.ylim(50,210)\n",
        "plt.tick_params(axis='x', labelsize=12)\n",
        "plt.tick_params(axis='y', labelsize=12)\n",
        "\n",
        "r2_c = R2(Y_hf_100[:,1], gp_C)\n",
        "plt.annotate(\"R² = {:.2f}\".format(r2_c),(60,195),size = si,weight='bold')\n",
        "\n",
        "#plt.tight_layout() \n",
        "\n",
        "#plt.savefig(\"r2_mfgp.png\", dpi=100, bbox_inches='tight')\n",
        "plt.savefig(\"r2_sfgp_c.jpg\", dpi=300, bbox_inches='tight')\n",
        "#plt.savefig(\"r2_nn.png\", dpi=100, bbox_inches='tight')\n",
        "\n",
        "plt.show()\n",
        "\n",
        "\n",
        "\n",
        "# NN\n",
        "plt.figure(figsize=(3.8,3.8))\n",
        "plt.scatter(Y_hf_100[:,1], NN_C, color = rgba_6, marker = 'x')\n",
        "plt.xlabel('High fidelity simulation',size = 12,labelpad=10)\n",
        "plt.ylabel('Model prediction',size = 12, color = 'white',labelpad=10)\n",
        "#ax2.set_aspect('equal', 'box')\n",
        "#plt.title(\"Compliance\")\n",
        "a2, b2 = np.polyfit(Y_hf_100[:,1], NN_C,1)\n",
        "plt.plot(Y_hf_100[:,1], a2*Y_hf_100[:,1] + b2, color = 'k', linewidth = 1)\n",
        "plt.text(60, 185, 'y = ' + '{:.2f}'.format(b2) + ' + {:.2f}'.format(a2) + 'x', size=11)\n",
        "#plt.text(70, 165, 'm = {:.2f}'.format(a2), size=11)\n",
        "minor_ticks_left=np.linspace(70,190,3)\n",
        "plt.yticks(minor_ticks_left)\n",
        "plt.xticks(minor_ticks_left)\n",
        "plt.xlim(50,210)\n",
        "plt.ylim(50,210)\n",
        "plt.tick_params(axis='x', labelsize=12)\n",
        "plt.tick_params(axis='y', labelsize=12)\n",
        "\n",
        "r2_c = R2(Y_hf_100[:,1], NN_C)\n",
        "plt.annotate(\"R² = {:.2f}\".format(r2_c),(60,195),size = si,weight='bold')\n",
        "\n",
        "#plt.tight_layout() \n",
        "\n",
        "#plt.savefig(\"r2_mfgp.png\", dpi=100, bbox_inches='tight')\n",
        "plt.savefig(\"r2_nn_c.jpg\", dpi=300, bbox_inches='tight')\n",
        "#plt.savefig(\"r2_nn.png\", dpi=100, bbox_inches='tight')\n",
        "\n",
        "plt.show()"
      ],
      "metadata": {
        "colab": {
          "base_uri": "https://localhost:8080/",
          "height": 1000
        },
        "id": "YDi6-JAtEMT4",
        "outputId": "9cd64bbd-33ff-43c6-c285-82a50b75988a"
      },
      "execution_count": null,
      "outputs": [
        {
          "output_type": "display_data",
          "data": {
            "text/plain": [
              "<Figure size 380x380 with 1 Axes>"
            ],
            "image/png": "[encoded data removed]"
          },
          "metadata": {}
        },
        {
          "output_type": "display_data",
          "data": {
            "text/plain": [
              "<Figure size 380x380 with 1 Axes>"
            ],
            "image/png": "[encoded data removed]"
          },
          "metadata": {}
        },
        {
          "output_type": "display_data",
          "data": {
            "text/plain": [
              "<Figure size 380x380 with 1 Axes>"
            ],
            "image/png": "[encoded data removed]"
          },
          "metadata": {}
        }
      ]
    },
    {
      "cell_type": "code",
      "source": [
        "# Graficos Resistance\n",
        "\n",
        "# MFGP\n",
        "plt.figure(figsize=(3.8,3.8))\n",
        "plt.scatter(Y_hf_100[:,0], hf_R, color = rgba_6, marker = 'x')\n",
        "plt.xlabel('High fidelity simulation',size = 12,labelpad=10)\n",
        "plt.ylabel('Model prediction',size = 12, color = 'k',labelpad=10)\n",
        "#ax2.set_aspect('equal', 'box')\n",
        "#plt.title(\"Compliance\")\n",
        "a2, b2 = np.polyfit(Y_hf_100[:,0], hf_R,1)\n",
        "plt.plot(Y_hf_100[:,0], a2*Y_hf_100[:,0] + b2, color = 'k', linewidth = 1)\n",
        "plt.text(2.6, 6.6, 'y = ' + '{:.2f}'.format(b2) + ' + {:.2f}'.format(a2) + 'x', size=11)\n",
        "#plt.text(70, 165, 'm = {:.2f}'.format(a2), size=11)\n",
        "minor_ticks_left=np.linspace(2.8,7,3)\n",
        "plt.yticks(minor_ticks_left)\n",
        "plt.xticks(minor_ticks_left)\n",
        "plt.xlim(2.2,7.5)\n",
        "plt.ylim(2.2,7.5)\n",
        "plt.tick_params(axis='x', labelsize=12)\n",
        "plt.tick_params(axis='y', labelsize=12)\n",
        "\n",
        "r2_r = R2(Y_hf_100[:,0], hf_R)\n",
        "plt.annotate(\"R² = {:.2f}\".format(0.99),(2.6,6.95),size = si,weight='bold')\n",
        "\n",
        "#plt.tight_layout() \n",
        "\n",
        "#plt.savefig(\"r2_mfgp.png\", dpi=100, bbox_inches='tight')\n",
        "plt.savefig(\"r2_mfgp_R.jpg\", dpi=300, bbox_inches='tight')\n",
        "#plt.savefig(\"r2_nn.png\", dpi=100, bbox_inches='tight')\n",
        "\n",
        "plt.show()\n",
        "\n",
        "\n",
        "\n",
        "# SFGP\n",
        "plt.figure(figsize=(3.8,3.8))\n",
        "plt.scatter(Y_hf_100[:,0], gp_R, color = rgba_6, marker = 'x')\n",
        "plt.xlabel('High fidelity simulation',size = 12,labelpad=10)\n",
        "plt.ylabel('Model prediction',size = 12, color = 'white',labelpad=10)\n",
        "#ax2.set_aspect('equal', 'box')\n",
        "#plt.title(\"Compliance\")\n",
        "a2, b2 = np.polyfit(Y_hf_100[:,0], gp_R,1)\n",
        "plt.plot(Y_hf_100[:,0], a2*Y_hf_100[:,0] + b2, color = 'k', linewidth = 1)\n",
        "plt.text(2.6, 6.6, 'y = ' + '{:.2f}'.format(b2) + ' + {:.2f}'.format(a2) + 'x', size=11)\n",
        "#plt.text(70, 165, 'm = {:.2f}'.format(a2), size=11)\n",
        "minor_ticks_left=np.linspace(2.8,7,3)\n",
        "plt.yticks(minor_ticks_left)\n",
        "plt.xticks(minor_ticks_left)\n",
        "plt.xlim(2.2,7.5)\n",
        "plt.ylim(2.2,7.5)\n",
        "plt.tick_params(axis='x', labelsize=12)\n",
        "plt.tick_params(axis='y', labelsize=12)\n",
        "\n",
        "r2_r = R2(Y_hf_100[:,0], gp_R)\n",
        "plt.annotate(\"R² = {:.2f}\".format(0.99),(2.6, 6.95),size = si,weight='bold')\n",
        "\n",
        "#plt.tight_layout() \n",
        "\n",
        "#plt.savefig(\"r2_mfgp.png\", dpi=100, bbox_inches='tight')\n",
        "plt.savefig(\"r2_sfgp_R.jpg\", dpi=300, bbox_inches='tight')\n",
        "#plt.savefig(\"r2_nn.png\", dpi=100, bbox_inches='tight')\n",
        "\n",
        "plt.show()\n",
        "\n",
        "\n",
        "\n",
        "# NN\n",
        "plt.figure(figsize=(3.8,3.8))\n",
        "plt.scatter(Y_hf_100[:,0], NN_R, color = rgba_6, marker = 'x')\n",
        "plt.xlabel('High fidelity simulation',size = 12,labelpad=10)\n",
        "plt.ylabel('Model prediction',size = 12, color = 'white', labelpad=10)\n",
        "#ax2.set_aspect('equal', 'box')\n",
        "#plt.title(\"Compliance\")\n",
        "a2, b2 = np.polyfit(Y_hf_100[:,0], NN_R,1)\n",
        "plt.plot(Y_hf_100[:,0], a2*Y_hf_100[:,0] + b2, color = 'k', linewidth = 1)\n",
        "plt.text(2.6, 6.6, 'y = ' + '{:.2f}'.format(b2) + ' + {:.2f}'.format(a2) + 'x', size=11, backgroundcolor='white',alpha=1)\n",
        "#plt.text(70, 165, 'm = {:.2f}'.format(a2), size=11)\n",
        "minor_ticks_left=np.linspace(2.8,7,3)\n",
        "plt.yticks(minor_ticks_left)\n",
        "plt.xticks(minor_ticks_left)\n",
        "plt.xlim(2.2,7.5)\n",
        "plt.ylim(2.2,7.5)\n",
        "plt.tick_params(axis='x', labelsize=12)\n",
        "plt.tick_params(axis='y', labelsize=12)\n",
        "\n",
        "r2_r = R2(Y_hf_100[:,0], NN_R)\n",
        "plt.annotate(\"R² = {:.2f}\".format(r2_r),(2.6, 6.95),size = si,weight='bold')\n",
        "\n",
        "\t\n",
        "#plt.tight_layout() \n",
        "\n",
        "#plt.savefig(\"r2_mfgp.png\", dpi=100, bbox_inches='tight')\n",
        "plt.savefig(\"r2_NN_R.jpg\", dpi=300, bbox_inches='tight')\n",
        "#plt.savefig(\"r2_nn.png\", dpi=100, bbox_inches='tight')\n",
        "\n",
        "plt.show()"
      ],
      "metadata": {
        "colab": {
          "base_uri": "https://localhost:8080/",
          "height": 1000
        },
        "id": "pHw8HWKvfDfX",
        "outputId": "9fda51cf-6f4c-49d9-82ca-451efa7e5f9b"
      },
      "execution_count": null,
      "outputs": [
        {
          "output_type": "display_data",
          "data": {
            "text/plain": [
              "<Figure size 380x380 with 1 Axes>"
            ],
            "image/png": "[encoded data removed]"
          },
          "metadata": {}
        },
        {
          "output_type": "display_data",
          "data": {
            "text/plain": [
              "<Figure size 380x380 with 1 Axes>"
            ],
            "image/png": "[encoded data removed]"
          },
          "metadata": {}
        },
        {
          "output_type": "display_data",
          "data": {
            "text/plain": [
              "<Figure size 380x380 with 1 Axes>"
            ],
            "image/png": "[encoded data removed]"
          },
          "metadata": {}
        }
      ]
    },
    {
      "cell_type": "code",
      "source": [
        "# Bland-Altman\n",
        "\n",
        "def bland_altman_plot(data1, data2, *args, **kwargs):\n",
        "    data1     = np.asarray(data1)\n",
        "    data2     = np.asarray(data2)\n",
        "    mean      = np.mean([data1, data2], axis=0)\n",
        "    diff      = data1 - data2                   # Difference between data1 and data2\n",
        "    md        = np.mean(diff)                   # Mean of the difference\n",
        "    sd        = np.std(diff, axis=0)            # Standard deviation of the difference\n",
        "    CI_low    = md - 1.96*sd\n",
        "    CI_high   = md + 1.96*sd\n",
        "\n",
        "    plt.figure(figsize=(3.8,3.8))\n",
        "    plt.scatter(mean, diff, *args, **kwargs, marker='x', color = rgba_6)\n",
        "    plt.axhline(md,           color='k', linestyle='-', label = 'Mean')\n",
        "    plt.axhline(md + 1.96*sd, color='k', linestyle='--', label = u\"\\u00B1\"'1.96SD')\n",
        "    plt.axhline(md - 1.96*sd, color='k', linestyle='--')\n",
        "\n",
        "    return md, sd, mean, CI_low, CI_high"
      ],
      "metadata": {
        "id": "L8CuVQshFSaZ"
      },
      "execution_count": null,
      "outputs": []
    },
    {
      "cell_type": "code",
      "source": [
        "md, sd, mean, CI_low, CI_high = bland_altman_plot(Y_hf_100[:,1], hf_C)\n",
        "#plt.title(r\"$\\mathbf{Bland-Altman}$\" + \" \" + r\"$\\mathbf{Plot}$\")\n",
        "plt.xlabel(\"Means\", size=12, labelpad=10)\n",
        "plt.ylabel(\"Difference\", size=12, color='k', labelpad=7)\n",
        "#plt.ylim(md - 4*sd, md + 4*sd)\n",
        "\n",
        "'''xOutPlot = np.min(mean) + (np.max(mean)-np.min(mean))*0.95\n",
        "\n",
        "plt.text(xOutPlot, md - 2.5*sd, \n",
        "    r'-1.96SD:' + \"\\n\" + \"%.2f\" % CI_low, \n",
        "    ha = \"center\",\n",
        "    va = \"center\",\n",
        "    size = 11,\n",
        "    )\n",
        "plt.text(xOutPlot, md + 1.4*sd, \n",
        "    r'+1.96SD:' + \"\\n\" + \"%.2f\" % CI_high, \n",
        "    ha = \"center\",\n",
        "    va = \"center\",\n",
        "    size = 11,\n",
        "    )\n",
        "plt.text(xOutPlot, md - 0.42*sd, \n",
        "    r'Mean:' + \"\\n\" + \"%.2f\" % md, \n",
        "    ha = \"center\",\n",
        "    va = \"center\",\n",
        "    size = 11,\n",
        "    )'''\n",
        "\n",
        "plt.xticks(np.linspace(70,190,3))\n",
        "plt.yticks(np.linspace(-28,28,5))\n",
        "plt.xlim(50,210)\n",
        "plt.ylim(-35,35)\n",
        "#plt.subplots_adjust(right=0.85)\n",
        "\n",
        "plt.tick_params(axis='x', labelsize=12)\n",
        "plt.tick_params(axis='y', labelsize=12)\n",
        "\n",
        "\n",
        "#plt.legend(bbox_to_anchor=(0.15, 1.1, 1, 0.1), loc=\"lower left\", ncol=2, fancybox = True, mode ='expand', borderaxespad=0, fontsize=12)\n",
        "\n",
        "plt.savefig(\"blandaltman_mfgp_c.jpg\", dpi=300, bbox_inches='tight')\n",
        "plt.show()\n",
        "\n",
        "#plt.savefig(\"blandaltman_nn.png\", dpi=100, bbox_inches='tight')"
      ],
      "metadata": {
        "id": "dYmWKKa2H5bs"
      },
      "execution_count": null,
      "outputs": []
    },
    {
      "cell_type": "code",
      "source": [
        "md, sd, mean, CI_low, CI_high = bland_altman_plot(Y_hf_100[:,1], gp_C)\n",
        "#plt.title(r\"$\\mathbf{Bland-Altman}$\" + \" \" + r\"$\\mathbf{Plot}$\")\n",
        "plt.xlabel(\"Means\", size=12, labelpad=10)\n",
        "plt.ylabel(\"Difference\", size=12, color='white', labelpad=10)\n",
        "#plt.ylim(md - 4*sd, md + 4*sd)\n",
        "\n",
        "'''xOutPlot = np.min(mean) + (np.max(mean)-np.min(mean))*1.04\n",
        "\n",
        "plt.text(xOutPlot, md - 2.5*sd, \n",
        "    r'-1.96SD:' + \"\\n\" + \"%.2f\" % CI_low, \n",
        "    ha = \"center\",\n",
        "    va = \"center\",\n",
        "    size = 11,\n",
        "    )\n",
        "plt.text(xOutPlot, md + 1.4*sd, \n",
        "    r'+1.96SD:' + \"\\n\" + \"%.2f\" % CI_high, \n",
        "    ha = \"center\",\n",
        "    va = \"center\",\n",
        "    size = 11,\n",
        "    )\n",
        "plt.text(xOutPlot, md - 0.40*sd, \n",
        "    r'Mean:' + \"\\n\" + \"%.2f\" % md, \n",
        "    ha = \"center\",\n",
        "    va = \"center\",\n",
        "    size = 11,\n",
        "    )'''\n",
        "\n",
        "plt.xticks(np.linspace(70,190,3))\n",
        "plt.yticks(np.linspace(-28,28,5))\n",
        "plt.xlim(50,210)\n",
        "plt.ylim(-35,35)\n",
        "#plt.subplots_adjust(right=0.85)\n",
        "\n",
        "plt.tick_params(axis='x', labelsize=12)\n",
        "plt.tick_params(axis='y', labelsize=12)\n",
        "\n",
        "plt.savefig(\"blandaltman_sfgp_c.jpg\", dpi=300, bbox_inches='tight')\n",
        "plt.show()\n",
        "\n",
        "#plt.savefig(\"blandaltman_nn.png\", dpi=100, bbox_inches='tight')"
      ],
      "metadata": {
        "id": "s5S0WVDsAwvW"
      },
      "execution_count": null,
      "outputs": []
    },
    {
      "cell_type": "code",
      "source": [
        "md, sd, mean, CI_low, CI_high = bland_altman_plot(Y_hf_100[:,1], NN_C)\n",
        "#plt.title(r\"$\\mathbf{Bland-Altman}$\" + \" \" + r\"$\\mathbf{Plot}$\")\n",
        "plt.xlabel(\"Means\", size=12, labelpad=10)\n",
        "plt.ylabel(\"Difference\", size=12, color='white', labelpad=10)\n",
        "#plt.ylim(md - 2*sd, md + 2*sd)\n",
        "\n",
        "'''xOutPlot = np.min(mean) + (np.max(mean)-np.min(mean))*0.94\n",
        "\n",
        "plt.text(xOutPlot, md - 2.5*sd, \n",
        "    r'-1.96SD:' + \"\\n\" + \"%.2f\" % CI_low, \n",
        "    ha = \"center\",\n",
        "    va = \"center\",\n",
        "    size = 11,\n",
        "    )\n",
        "plt.text(xOutPlot, md + 1.4*sd, \n",
        "    r'+1.96SD:' + \"\\n\" + \"%.2f\" % CI_high, \n",
        "    ha = \"center\",\n",
        "    va = \"center\",\n",
        "    size = 11,\n",
        "    )\n",
        "plt.text(xOutPlot, md - 0.4*sd, \n",
        "    r'Mean:' + \"\\n\" + \"%.2f\" % md, \n",
        "    ha = \"center\",\n",
        "    va = \"center\",\n",
        "    size = 11,\n",
        "    )'''\n",
        "\n",
        "plt.xticks(np.linspace(70,190,3))\n",
        "plt.yticks(np.linspace(-28,28,5))\n",
        "plt.xlim(50,210)\n",
        "plt.ylim(-35,35)\n",
        "#plt.subplots_adjust(right=0.85)\n",
        "\n",
        "plt.tick_params(axis='x', labelsize=12)\n",
        "plt.tick_params(axis='y', labelsize=12)\n",
        "\n",
        "plt.savefig(\"blandaltman_nn_c.jpg\", dpi=300, bbox_inches='tight')\n",
        "plt.show()\n",
        "\n",
        "#plt.savefig(\"blandaltman_nn.png\", dpi=100, bbox_inches='tight')"
      ],
      "metadata": {
        "id": "huWclLM2Bupo"
      },
      "execution_count": null,
      "outputs": []
    },
    {
      "cell_type": "code",
      "source": [
        "def bland_altman_broken(data1, data2, *args, **kwargs):\n",
        "    data1     = np.asarray(data1)\n",
        "    data2     = np.asarray(data2)\n",
        "    mean      = np.mean([data1, data2], axis=0)\n",
        "    diff      = data1 - data2                   # Difference between data1 and data2\n",
        "    md        = np.mean(diff)                   # Mean of the difference\n",
        "    sd        = np.std(diff, axis=0)            # Standard deviation of the difference\n",
        "    CI_low    = md - 1.96*sd\n",
        "    CI_high   = md + 1.96*sd\n",
        "\n",
        "    fig, ((ax1,ax2,ax3)) = plt.subplots(nrows=3, ncols=1, sharex = True, gridspec_kw={'height_ratios': [1, 2.3, 1]})\n",
        "    fig.set_size_inches(3.8, 3.8)\n",
        "    fig.subplots_adjust(hspace=0.07)  # adjust space between axes\n",
        "    ax1.scatter(mean, diff, *args, **kwargs, marker='x', color = rgba_6)\n",
        "    ax1.axhline(md,           color='k', linestyle='-')\n",
        "    ax1.axhline(md + 1.96*sd, color='k', linestyle='--')\n",
        "    ax1.axhline(md - 1.96*sd, color='k', linestyle='--')\n",
        "    ax2.scatter(mean, diff, *args, **kwargs, marker='x', color = rgba_6)\n",
        "    ax2.axhline(md,           color='k', linestyle='-')\n",
        "    ax2.axhline(md + 1.96*sd, color='k', linestyle='--')\n",
        "    ax2.axhline(md - 1.96*sd, color='k', linestyle='--')\n",
        "    ax3.scatter(mean, diff, *args, **kwargs, marker='x', color = rgba_6)\n",
        "    ax3.axhline(md,           color='k', linestyle='-')\n",
        "    ax3.axhline(md + 1.96*sd, color='k', linestyle='--')\n",
        "    ax3.axhline(md - 1.96*sd, color='k', linestyle='--')\n",
        "    ax1.set_ylim(0.3*4, 1.3*4)\n",
        "    ax2.set_ylim(-0.13*4,0.13*4)\n",
        "    ax3.set_ylim(-1.3*4, -0.3*4)\n",
        "    ax3.set_xlim(2.2,7.5)\n",
        "    # hide the spines between ax1 and ax3\n",
        "    ax1.spines['bottom'].set_visible(True)\n",
        "    ax1.spines['bottom'].set_alpha(0.2)\n",
        "    ax2.spines['top'].set_visible(True)\n",
        "    ax2.spines['top'].set_alpha(0.2)\n",
        "    ax2.spines['bottom'].set_visible(True)\n",
        "    ax2.spines['bottom'].set_alpha(0.2)\n",
        "    ax3.spines['top'].set_visible(True)\n",
        "    ax3.spines['top'].set_alpha(0.2)\n",
        "    ax1.xaxis.tick_top()\n",
        "    ax1.tick_params(labeltop=False, top = False)  # don't put tick labels at the top\n",
        "    ax2.tick_params(labelbottom=False, bottom = False)  # don't put tick labels at the top\n",
        "    ax3.xaxis.tick_bottom()\n",
        "    # Broken-axis lines\n",
        "    d = .015\n",
        "     # Upside\n",
        "    kwargs = dict(transform=ax1.transAxes, color='k', clip_on=False)\n",
        "    ax1.plot((-d, +d), (-d, +3*d), **kwargs, linewidth=1)        # top-left diagonal\n",
        "    ax1.plot((1 - d, 1 + d), (-d, +3*d), **kwargs, linewidth=1)  # top-right diagonal\n",
        "    kwargs.update(transform=ax2.transAxes)  # switch to the bottom axes\n",
        "    ax2.plot((-d, +d), (1 - d, 1 + d), **kwargs, linewidth=1)  # bottom-left diagonal\n",
        "    ax2.plot((1 - d, 1 + d), (1 - d, 1 + d), **kwargs, linewidth=1)  # bottom-right diagonal\n",
        "     # Downside\n",
        "    kwargs = dict(transform=ax2.transAxes, color='k', clip_on=False)\n",
        "    ax2.plot((-d, +d), (-d, +d), **kwargs, linewidth=1)        # top-left diagonal\n",
        "    ax2.plot((1 - d, 1 + d), (-d, +d), **kwargs, linewidth=1)  # top-right diagonal\n",
        "    kwargs.update(transform=ax3.transAxes)  # switch to the bottom axes\n",
        "    ax3.plot((-d, +d), (1 - 3*d, 1 + d), **kwargs, linewidth=1)  # bottom-left diagonal\n",
        "    ax3.plot((1 - d, 1 + d), (1 - 3*d, 1 + d), **kwargs, linewidth=1)  # bottom-right diagonal\n",
        "    # Additional plot configuration\n",
        "    ax1.set_yticks(np.linspace(3.5,3.5,1))\n",
        "    ax2.set_yticks(np.linspace(-0.4,0.4,3))\n",
        "    ax3.set_yticks(np.linspace(-3.5,-3.5,1))\n",
        "    ax3.set_xticks(np.linspace(2.8, 7, 3))\n",
        "    \n",
        "    ax3.tick_params(axis='x', labelsize=12)\n",
        "    ax1.tick_params(axis='y', labelsize=12)\n",
        "    ax2.tick_params(axis='y', labelsize=12)\n",
        "    ax3.tick_params(axis='y', labelsize=12)\n",
        "    ax3.set_xlabel(\"Means\", size=12, labelpad=10)\n",
        "    \n",
        "    fig.text(-0.08, 0.4, \"Difference\", rotation='vertical', size = 12)\n",
        "\n",
        "    return md, sd, mean, CI_low, CI_high"
      ],
      "metadata": {
        "id": "-QnJNqMSDNsa"
      },
      "execution_count": null,
      "outputs": []
    },
    {
      "cell_type": "code",
      "source": [
        "#md, sd, mean, CI_low, CI_high = bland_altman_broken(Y_hf_100[:,0], hf_R)"
      ],
      "metadata": {
        "id": "CFsRfzCgkyar"
      },
      "execution_count": null,
      "outputs": []
    },
    {
      "cell_type": "code",
      "source": [
        "md, sd, mean, CI_low, CI_high = bland_altman_plot(Y_hf_100[:,0], hf_R)\n",
        "#plt.title(r\"$\\mathbf{Bland-Altman}$\" + \" \" + r\"$\\mathbf{Plot}$\")\n",
        "plt.xlabel(\"Means\", size=12, labelpad=10)\n",
        "plt.ylabel(\"Difference\", size=12, color='k', labelpad=0)\n",
        "plt.ylim(md - 4*sd, md + 4*sd)\n",
        "\n",
        "'''xOutPlot = np.min(mean) + (np.max(mean)-np.min(mean))*1.06\n",
        "\n",
        "plt.text(xOutPlot, md - 2.5*sd, \n",
        "    r'-1.96SD:' + \"\\n\" + \"%.2f\" % CI_low, \n",
        "    ha = \"center\",\n",
        "    va = \"center\",\n",
        "    size = 11,\n",
        "    )\n",
        "plt.text(xOutPlot, md + 1.4*sd, \n",
        "    r'+1.96SD:' + \"\\n\" + \"%.2f\" % CI_high, \n",
        "    ha = \"center\",\n",
        "    va = \"center\",\n",
        "    size = 11,\n",
        "    )\n",
        "plt.text(xOutPlot, md - 0.42*sd, \n",
        "    r'Mean:' + \"\\n\" + \"%.2f\" % md, \n",
        "    ha = \"center\",\n",
        "    va = \"center\",\n",
        "    size = 11,\n",
        "    )'''\n",
        "\n",
        "plt.xticks(np.linspace(2.8,7,3))\n",
        "plt.yticks(np.linspace(-0.2*4,0.2*4,5))\n",
        "plt.xlim(2.2,7.5)\n",
        "plt.ylim(-0.25*4,0.25*4)\n",
        "#plt.subplots_adjust(right=0.85)\n",
        "\n",
        "plt.tick_params(axis='x', labelsize=12)\n",
        "plt.tick_params(axis='y', labelsize=12)\n",
        "\n",
        "plt.savefig(\"blandaltman_mfgp_r.jpg\", dpi=300, bbox_inches='tight')\n",
        "plt.show()\n",
        "\n",
        "#plt.savefig(\"blandaltman_nn.png\", dpi=100, bbox_inches='tight')"
      ],
      "metadata": {
        "id": "l472SqG4O1zx"
      },
      "execution_count": null,
      "outputs": []
    },
    {
      "cell_type": "code",
      "source": [
        "#md, sd, mean, CI_low, CI_high = bland_altman_broken(Y_hf_100[:,0], gp_R)"
      ],
      "metadata": {
        "id": "uIyJ1Y01ByOW"
      },
      "execution_count": null,
      "outputs": []
    },
    {
      "cell_type": "code",
      "source": [
        "md, sd, mean, CI_low, CI_high = bland_altman_plot(Y_hf_100[:,0], gp_R)\n",
        "#plt.title(r\"$\\mathbf{Bland-Altman}$\" + \" \" + r\"$\\mathbf{Plot}$\")\n",
        "plt.xlabel(\"Means\", size=12, labelpad=10)\n",
        "plt.ylabel(\"Difference\", size=12, color='white', labelpad=0)\n",
        "plt.ylim(md - 4*sd, md + 4*sd)\n",
        "\n",
        "'''xOutPlot = np.min(mean) + (np.max(mean)-np.min(mean))*1.11\n",
        "\n",
        "plt.text(xOutPlot, md - 2.5*sd, \n",
        "    r'-1.96SD:' + \"\\n\" + \"%.2f\" % CI_low, \n",
        "    ha = \"center\",\n",
        "    va = \"center\",\n",
        "    size = 11,\n",
        "    )\n",
        "plt.text(xOutPlot, md + 1.4*sd, \n",
        "    r'+1.96SD:' + \"\\n\" + \"%.2f\" % CI_high, \n",
        "    ha = \"center\",\n",
        "    va = \"center\",\n",
        "    size = 11,\n",
        "    )\n",
        "plt.text(xOutPlot, md - 0.42*sd, \n",
        "    r'Mean:' + \"\\n\" + \"%.2f\" % md, \n",
        "    ha = \"center\",\n",
        "    va = \"center\",\n",
        "    size = 11,\n",
        "    )'''\n",
        "\n",
        "plt.xticks(np.linspace(2.8,7,3))\n",
        "plt.yticks(np.linspace(-0.2*4,0.2*4,5))\n",
        "plt.xlim(2.2,7.5)\n",
        "plt.ylim(-0.25*4,0.25*4)\n",
        "#plt.subplots_adjust(right=0.85)\n",
        "\n",
        "plt.tick_params(axis='x', labelsize=12)\n",
        "plt.tick_params(axis='y', labelsize=12)\n",
        "\n",
        "plt.savefig(\"blandaltman_sfgp_r.jpg\", dpi=300, bbox_inches='tight')\n",
        "plt.show()\n",
        "\n",
        "#plt.savefig(\"blandaltman_nn.png\", dpi=100, bbox_inches='tight')"
      ],
      "metadata": {
        "id": "NFXQmzMtQHuT"
      },
      "execution_count": null,
      "outputs": []
    },
    {
      "cell_type": "code",
      "source": [
        "md, sd, mean, CI_low, CI_high = bland_altman_broken(Y_hf_100[:,0], NN_R)\n",
        "plt.savefig(\"blandaltman_nn_r.jpg\", dpi=300, bbox_inches='tight')\n",
        "plt.show()"
      ],
      "metadata": {
        "id": "D7mwWLjxq26a"
      },
      "execution_count": null,
      "outputs": []
    },
    {
      "cell_type": "code",
      "source": [
        "md, sd, mean, CI_low, CI_high = bland_altman_plot(Y_hf_100[:,0], NN_R)\n",
        "#plt.title(r\"$\\mathbf{Bland-Altman}$\" + \" \" + r\"$\\mathbf{Plot}$\")\n",
        "plt.xlabel(\"Means\", size=12, labelpad=10)\n",
        "plt.ylabel(\"Difference\", size=12, color='k', labelpad=10)\n",
        "\n",
        "'''xOutPlot = np.min(mean) + (np.max(mean)-np.min(mean))*0.895\n",
        "\n",
        "plt.text(xOutPlot, md - 2.5*sd, \n",
        "    r'-1.96SD:' + \"\\n\" + \"%.2f\" % CI_low, \n",
        "    ha = \"center\",\n",
        "    va = \"center\",\n",
        "    size = 11,\n",
        "    )\n",
        "plt.text(xOutPlot, md + 1.4*sd, \n",
        "    r'+1.96SD:' + \"\\n\" + \"%.2f\" % CI_high, \n",
        "    ha = \"center\",\n",
        "    va = \"center\",\n",
        "    size = 11,\n",
        "    )\n",
        "plt.text(xOutPlot, md - 0.42*sd, \n",
        "    r'Mean:' + \"\\n\" + \"%.2f\" % md, \n",
        "    ha = \"center\",\n",
        "    va = \"center\",\n",
        "    size = 11,\n",
        "    )'''\n",
        "\n",
        "plt.xticks(np.linspace(2.8,5.4,3))\n",
        "plt.yticks(np.linspace(-0.9,0.9,3))\n",
        "plt.xlim(2.65,5.6)\n",
        "plt.ylim(-1.2,1.2)\n",
        "#plt.subplots_adjust(right=0.85)\n",
        "\n",
        "plt.tick_params(axis='x', labelsize=12)\n",
        "plt.tick_params(axis='y', labelsize=12)\n",
        "\n",
        "plt.savefig(\"blandaltman_nn_r.png\", dpi=300, bbox_inches='tight')\n",
        "plt.show()\n",
        "\n",
        "#plt.savefig(\"blandaltman_nn.png\", dpi=100, bbox_inches='tight')"
      ],
      "metadata": {
        "id": "sVVKy_JqQ-Ua"
      },
      "execution_count": null,
      "outputs": []
    },
    {
      "cell_type": "code",
      "source": [
        "RMSE_R_mfgp = np.load('/content/drive/My Drive/Colab Notebooks/UQ Lung/2 Surrogate Modeling/RMSE_R_mfgp.npy')\n",
        "RMSE_C_mfgp= np.load('/content/drive/My Drive/Colab Notebooks/UQ Lung/2 Surrogate Modeling/RMSE_C_mfgp.npy')\n",
        "std_R_mfgp = np.load('/content/drive/My Drive/Colab Notebooks/UQ Lung/2 Surrogate Modeling/std_R_mfgp.npy')\n",
        "std_C_mfgp = np.load('/content/drive/My Drive/Colab Notebooks/UQ Lung/2 Surrogate Modeling/std_C_mfgp.npy')\n",
        "\n",
        "RMSE_R_sfgp = np.load('/content/drive/My Drive/Colab Notebooks/UQ Lung/2 Surrogate Modeling/RMSE_R_sfgp.npy')\n",
        "RMSE_C_sfgp= np.load('/content/drive/My Drive/Colab Notebooks/UQ Lung/2 Surrogate Modeling/RMSE_C_sfgp.npy')\n",
        "std_R_sfgp = np.load('/content/drive/My Drive/Colab Notebooks/UQ Lung/2 Surrogate Modeling/std_R_sfgp.npy')\n",
        "std_C_sfgp = np.load('/content/drive/My Drive/Colab Notebooks/UQ Lung/2 Surrogate Modeling/std_C_sfgp.npy')\n",
        "\n",
        "RMSE_R_1_nn = np.load('/content/drive/My Drive/Colab Notebooks/UQ Lung/2 Surrogate Modeling/RMSE_R_1_nn.npy')\n",
        "RMSE_C_1_nn= np.load('/content/drive/My Drive/Colab Notebooks/UQ Lung/2 Surrogate Modeling/RMSE_C_1_nn.npy')\n",
        "std_R_1_nn = np.load('/content/drive/My Drive/Colab Notebooks/UQ Lung/2 Surrogate Modeling/std_R_1_nn.npy')\n",
        "std_C_1_nn = np.load('/content/drive/My Drive/Colab Notebooks/UQ Lung/2 Surrogate Modeling/std_C_1_nn.npy')\n",
        "RMSE_R_2_nn = np.load('/content/drive/My Drive/Colab Notebooks/UQ Lung/2 Surrogate Modeling/RMSE_R_2_nn.npy')\n",
        "RMSE_C_2_nn= np.load('/content/drive/My Drive/Colab Notebooks/UQ Lung/2 Surrogate Modeling/RMSE_C_2_nn.npy')\n",
        "std_R_2_nn = np.load('/content/drive/My Drive/Colab Notebooks/UQ Lung/2 Surrogate Modeling/std_R_2_nn.npy')\n",
        "std_C_2_nn = np.load('/content/drive/My Drive/Colab Notebooks/UQ Lung/2 Surrogate Modeling/std_C_2_nn.npy')\n",
        "RMSE_R_nn = np.concatenate((RMSE_R_1_nn, RMSE_R_2_nn), axis=0)\n",
        "RMSE_C_nn = np.concatenate((RMSE_C_1_nn, RMSE_C_2_nn), axis=0)\n",
        "std_R_nn = np.concatenate((std_R_1_nn, std_R_2_nn), axis=0)\n",
        "std_C_nn = np.concatenate((std_C_1_nn, std_C_2_nn), axis=0)"
      ],
      "metadata": {
        "id": "XL3mXcDLb4rc"
      },
      "execution_count": null,
      "outputs": []
    },
    {
      "cell_type": "code",
      "source": [
        "cmap = plt.cm.get_cmap('Greys')\n",
        "\n",
        "rgba_1 = cmap(0.99)\n",
        "rgba_2 = cmap(0.75)\n",
        "rgba_3 = cmap(0.5)"
      ],
      "metadata": {
        "id": "BlJEkswFNvxd"
      },
      "execution_count": null,
      "outputs": []
    },
    {
      "cell_type": "code",
      "source": [
        "cmap_2 = plt.cm.get_cmap('GnBu')\n",
        "\n",
        "rgba_4 = cmap_2(0.99)\n",
        "rgba_5 = cmap_2(0.75)\n",
        "rgba_6 = cmap_2(0.5)"
      ],
      "metadata": {
        "id": "ueLsVQ6p9VMb"
      },
      "execution_count": null,
      "outputs": []
    },
    {
      "cell_type": "code",
      "source": [
        "fig, ((ax1,ax2)) = plt.subplots(nrows=1, ncols=2)\n",
        "fig.set_size_inches(10, 3.8)\n",
        "fig.tight_layout()\n",
        "\n",
        "#ax1.plot(np.arange(10,20),RMSE_C_mfgp, marker = 'o', color = 'k', mfc='none', markersize = 7, label = 'Multi-fidelity GP')\n",
        "#ax1.plot(np.arange(10,20),RMSE_C_sfgp, marker = 'o', color = 'k', label = 'Single-fidelity GP')\n",
        "#ax1.plot(np.arange(10,20),RMSE_C_nn, marker = 'x', color = 'k', label = 'Neural Network')\n",
        "#ax1.fill_between(np.arange(10,20),np.asarray(RMSE_C_mfgp) - np.asarray(std_C_mfgp)/np.sqrt(1),np.asarray(RMSE_C_mfgp) + np.asarray(std_C_mfgp)/np.sqrt(1),alpha=.1, color = 'k')\n",
        "#ax1.fill_between(np.arange(10,20),np.asarray(RMSE_C_sfgp) - np.asarray(std_C_sfgp)/np.sqrt(1),np.asarray(RMSE_C_sfgp) + np.asarray(std_C_sfgp)/np.sqrt(1),alpha=.1, color = 'k')\n",
        "#ax1.fill_between(np.arange(10,20),np.asarray(RMSE_C_nn) - np.asarray(std_C_nn)/np.sqrt(1),np.asarray(RMSE_C_nn) + np.asarray(std_C_nn)/np.sqrt(1),alpha=.1, color = 'k')\n",
        "ax1.errorbar(np.arange(10,20),RMSE_C_mfgp, np.asarray(std_C_mfgp), linestyle='dashed', marker = 's', markersize = 7, capsize = 3, label = 'Multi-fidelity GP', color = rgba_4)\n",
        "ax1.errorbar(np.arange(10,20),RMSE_C_sfgp, np.asarray(std_C_sfgp), linestyle='dashed', marker = 'o', markersize = 7, capsize = 4, label = 'Single-fidelity GP', color = rgba_5)\n",
        "ax1.errorbar(np.arange(10,20),RMSE_C_nn, np.asarray(std_C_nn), linestyle='dashed', marker = '^', markersize = 7, capsize = 6, capthick=1, label = 'Neural Network', color = rgba_6)\n",
        "ax1.set_xticks(np.linspace(10,19,4))\n",
        "ax1.set_yticks(np.linspace(0,26,3))\n",
        "ax1.set_xlim(9.7,19.3)\n",
        "ax1.set_ylim(0,26)\n",
        "ax1.set_ylabel(\"$\\mathregular{C_{rs}}$  RMSE\" \"\\n\" \"(ml/cm $H_20$)\", size = 12, labelpad = 5)\n",
        "ax1.set_xlabel('Training Size', size = 12, labelpad = 5)\n",
        "ax1.tick_params(axis='x', labelsize=12)\n",
        "ax1.tick_params(axis='y', labelsize=12)\n",
        "\n",
        "#ax2.plot(np.arange(10,20),RMSE_R_mfgp, marker = 'o', color = 'k', mfc='none', markersize = 7)\n",
        "#ax2.plot(np.arange(10,20),RMSE_R_sfgp, marker = 'o', color = 'k')\n",
        "#ax2.plot(np.arange(10,20),RMSE_R_nn, marker = 'x', color = 'k')\n",
        "#ax2.fill_between(np.arange(10,20),np.asarray(RMSE_R_mfgp) - np.asarray(std_R_mfgp)/np.sqrt(1),np.asarray(RMSE_R_mfgp) + np.asarray(std_R_mfgp)/np.sqrt(1),alpha=.1, color = 'k')\n",
        "#ax2.fill_between(np.arange(10,20),np.asarray(RMSE_R_sfgp) - np.asarray(std_R_sfgp)/np.sqrt(1),np.asarray(RMSE_R_sfgp) + np.asarray(std_R_sfgp)/np.sqrt(1),alpha=.1, color = 'k')\n",
        "#ax2.fill_between(np.arange(10,20),np.asarray(RMSE_R_nn) - np.asarray(std_R_nn)/np.sqrt(1),np.asarray(RMSE_R_nn) + np.asarray(std_R_nn)/np.sqrt(1),alpha=.1, color = 'k')\n",
        "#ax2 = brokenaxes(ylims=((0, 0.1), (0.6, 1.5)), hspace=.05, axes = ax2)\n",
        "ax2.errorbar(np.arange(10,20),RMSE_R_mfgp, np.asarray(std_R_mfgp), linestyle='dashed', marker = 's', capsize = 3, color = rgba_1)\n",
        "ax2.errorbar(np.arange(10,20),RMSE_R_sfgp, np.asarray(std_R_sfgp), linestyle='dashed', marker = 'o', capsize = 4, color = rgba_2)\n",
        "ax2.errorbar(np.arange(10,20),RMSE_R_nn, np.asarray(std_R_nn), linestyle='dashed', marker = '^', capsize = 6, color = rgba_3)\n",
        "ax2.set_xticks(np.linspace(10,19,4))\n",
        "ax2.set_yticks(np.linspace(0,1.5,3))\n",
        "ax2.set_xlim(9.7,19.3)\n",
        "ax2.set_ylim(0,1.5)\n",
        "ax2.set_ylabel(\"$\\mathregular{R}$  RMSE\" \"\\n\" \"(cm $H_20$ L/s)\", size = 12, labelpad = 5)\n",
        "ax2.set_xlabel('Training Size', size = 12, labelpad = 5)\n",
        "ax2.tick_params(axis='x', labelsize=12)\n",
        "ax2.tick_params(axis='y', labelsize=12)\n",
        "\n",
        "fig.legend(bbox_to_anchor=(0.15, 1.0, 0.7525, 0.1), loc=\"lower left\", ncol=3, fancybox = True, mode ='expand', borderaxespad=0, fontsize=12)\n",
        "\n",
        "plt.subplots_adjust(wspace=0.4)\n",
        "\n",
        "#plt.tight_layout() \n",
        "plt.show()\n",
        "plt.draw()\n",
        "\n",
        "fig.savefig(\"rmse.jpg\", bbox_inches='tight', dpi=300)"
      ],
      "metadata": {
        "id": "g1JAj3VRVbjO"
      },
      "execution_count": null,
      "outputs": []
    },
    {
      "cell_type": "code",
      "source": [
        "fig, ((ax1)) = plt.subplots(nrows=1, ncols=1)\n",
        "fig.set_size_inches(5.4, 3.65)\n",
        "fig.tight_layout()\n",
        "\n",
        "#ax1.plot(np.arange(10,20),RMSE_C_mfgp, marker = 'o', color = 'k', mfc='none', markersize = 7, label = 'Multi-fidelity GP')\n",
        "#ax1.plot(np.arange(10,20),RMSE_C_sfgp, marker = 'o', color = 'k', label = 'Single-fidelity GP')\n",
        "#ax1.plot(np.arange(10,20),RMSE_C_nn, marker = 'x', color = 'k', label = 'Neural Network')\n",
        "#ax1.fill_between(np.arange(10,20),np.asarray(RMSE_C_mfgp) - np.asarray(std_C_mfgp)/np.sqrt(1),np.asarray(RMSE_C_mfgp) + np.asarray(std_C_mfgp)/np.sqrt(1),alpha=.1, color = 'k')\n",
        "#ax1.fill_between(np.arange(10,20),np.asarray(RMSE_C_sfgp) - np.asarray(std_C_sfgp)/np.sqrt(1),np.asarray(RMSE_C_sfgp) + np.asarray(std_C_sfgp)/np.sqrt(1),alpha=.1, color = 'k')\n",
        "#ax1.fill_between(np.arange(10,20),np.asarray(RMSE_C_nn) - np.asarray(std_C_nn)/np.sqrt(1),np.asarray(RMSE_C_nn) + np.asarray(std_C_nn)/np.sqrt(1),alpha=.1, color = 'k')\n",
        "ax1.errorbar(np.arange(10,20),RMSE_C_mfgp, np.asarray(std_C_mfgp), linestyle='dashed', elinewidth=1, marker = 's', markersize = 7, capsize = 3, label = 'Multi-fidelity GP', color = rgba_4, zorder = 10)\n",
        "ax1.errorbar(np.arange(10,20),RMSE_C_sfgp, np.asarray(std_C_sfgp), linestyle='dashed', elinewidth=1.5, marker = 'o', markersize = 7, capsize = 4, label = 'Single-fidelity GP', color = rgba_5, zorder = 5)\n",
        "ax1.errorbar(np.arange(10,20),RMSE_C_nn, np.asarray(std_C_nn), linestyle='dashed', elinewidth=2, marker = '^', markersize = 7, capsize = 6, capthick=1, label = 'Neural Network', color = rgba_6, zorder = 0)\n",
        "ax1.set_xticks(np.linspace(10,19,4))\n",
        "ax1.set_yticks(np.linspace(0,26,3))\n",
        "ax1.set_xlim(9.7,19.3)\n",
        "ax1.set_ylim(0,26)\n",
        "ax1.set_ylabel(\"$\\mathregular{C_{rs}}$ RMSE (ml/cm $\\mathregular{H_2O}$)\", size = 12, labelpad = 8)\n",
        "ax1.set_xlabel('Training Size', size = 12, labelpad = 8)\n",
        "ax1.tick_params(axis='x', labelsize=12)\n",
        "ax1.tick_params(axis='y', labelsize=12)\n",
        "\n",
        "#plt.tight_layout() \n",
        "plt.show()\n",
        "plt.draw()\n",
        "\n",
        "fig.savefig(\"rmse_c.jpg\", bbox_inches='tight', dpi=300)"
      ],
      "metadata": {
        "id": "siEKnIkpb3TD"
      },
      "execution_count": null,
      "outputs": []
    },
    {
      "cell_type": "code",
      "source": [
        "fig, ((ax1,ax2)) = plt.subplots(nrows=2, ncols=1, sharex = True)\n",
        "fig.set_size_inches(5.46, 4)\n",
        "\n",
        "ax1.errorbar(np.arange(10,20),RMSE_R_mfgp, np.asarray(std_R_mfgp), linestyle='dashed', elinewidth=1, marker = 's', markersize = 7, capsize = 3, color = rgba_4)\n",
        "ax1.errorbar(np.arange(10,20),RMSE_R_sfgp, np.asarray(std_R_sfgp), linestyle='dashed', elinewidth=1.5, marker = 'o', markersize = 7, capsize = 4, color = rgba_5)\n",
        "ax1.errorbar(np.arange(10,20),RMSE_R_nn, np.asarray(std_R_nn), linestyle='dashed', elinewidth=2, marker = '^', markersize = 7, capsize = 6, color = rgba_6)\n",
        "ax2.errorbar(np.arange(10,20),RMSE_R_mfgp, np.asarray(std_R_mfgp), linestyle='dashed', elinewidth=1, marker = 's', markersize = 7, capsize = 3, color = rgba_4)\n",
        "ax2.errorbar(np.arange(10,20),RMSE_R_sfgp, np.asarray(std_R_sfgp), linestyle='dashed', elinewidth=1.5, marker = 'o', markersize = 7, capsize = 4, color = rgba_5)\n",
        "ax2.errorbar(np.arange(10,20),RMSE_R_nn, np.asarray(std_R_nn), linestyle='dashed', elinewidth=2, marker = '^', markersize = 7, capsize = 8, color = rgba_6)\n",
        "\n",
        "ax2.set_xticks(np.linspace(10,19,4))\n",
        "ax1.set_yticks(np.linspace(.75,1.5,2))\n",
        "ax2.set_yticks(np.linspace(0,.05,2))\n",
        "#ax2.set_xlim(9.7,19.3)\n",
        "ax1.set_ylim(0.5, 1.5)\n",
        "ax2.set_ylim(0,0.06)\n",
        "#fig.supylabel(\"$\\mathregular{R}$  RMSE\" \"\\n\" \"(cm $H_20$ L/s)\", size = 12)\n",
        "fig.text(-0.03, 0.33, \"$\\mathregular{R}$  RMSE (cm $\\mathregular{H_2O}$ L/s)\", rotation='vertical', size = 12)\n",
        "ax2.set_xlabel('Training Size', size = 12, labelpad = 8)\n",
        "ax2.tick_params(axis='x', labelsize=12)\n",
        "ax1.tick_params(axis='y', labelsize=12)\n",
        "ax2.tick_params(axis='y', labelsize=12)\n",
        "\n",
        "# hide the spines between ax and ax2\n",
        "ax1.spines['bottom'].set_visible(False)\n",
        "ax2.spines['top'].set_visible(False)\n",
        "ax1.xaxis.tick_top()\n",
        "ax1.tick_params(labeltop=False, top = False)  # don't put tick labels at the top\n",
        "ax2.xaxis.tick_bottom()\n",
        "\n",
        "d = .015  # how big to make the diagonal lines in axes coordinates\n",
        "# arguments to pass to plot, just so we don't keep repeating them\n",
        "kwargs = dict(transform=ax1.transAxes, color='k', clip_on=False)\n",
        "ax1.plot((-d, +d), (-d, +d), **kwargs, linewidth=1)        # top-left diagonal\n",
        "ax1.plot((1 - d, 1 + d), (-d, +d), **kwargs, linewidth=1)  # top-right diagonal\n",
        "\n",
        "kwargs.update(transform=ax2.transAxes)  # switch to the bottom axes\n",
        "ax2.plot((-d, +d), (1 - d, 1 + d), **kwargs, linewidth=1)  # bottom-left diagonal\n",
        "ax2.plot((1 - d, 1 + d), (1 - d, 1 + d), **kwargs, linewidth=1)  # bottom-right diagonal\n",
        "\n",
        "# What's cool about this is that now if we vary the distance between\n",
        "# ax and ax2 via f.subplots_adjust(hspace=...) or plt.subplot_tool(),\n",
        "# the diagonal lines will move accordingly, and stay right at the tips\n",
        "# of the spines they are 'breaking'\n",
        "#plt.subplots_adjust(wspace=0.4)\n",
        "\n",
        "plt.tight_layout() \n",
        "plt.show()\n",
        "plt.draw()\n",
        "\n",
        "fig.savefig(\"rmse_r.jpg\", bbox_inches='tight', dpi=300)"
      ],
      "metadata": {
        "id": "-fkBNEWVnj3X"
      },
      "execution_count": null,
      "outputs": []
    }
  ]
}
{
  "nbformat": 4,
  "nbformat_minor": 0,
  "metadata": {
    "colab": {
      "provenance": []
    },
    "kernelspec": {
      "name": "python3",
      "display_name": "Python 3"
    },
    "language_info": {
      "name": "python"
    }
  },
  "cells": [
    {
      "cell_type": "markdown",
      "source": [
        "#Single-fidelity GP surrogate model"
      ],
      "metadata": {
        "id": "kIGBcHspMHMx"
      }
    },
    {
      "cell_type": "markdown",
      "source": [
        "In the following notebook construct, train, and validate a single-fidelity Gaussian Process (GP) surrogate model of lung function."
      ],
      "metadata": {
        "id": "nHaMwyX82VVt"
      }
    },
    {
      "cell_type": "markdown",
      "source": [
        "We begin by importing the necessary modules."
      ],
      "metadata": {
        "id": "-PDusUlY3kjE"
      }
    },
    {
      "cell_type": "code",
      "source": [
        "from IPython.display import clear_output"
      ],
      "metadata": {
        "id": "uOhRRWl_chAs"
      },
      "execution_count": 1,
      "outputs": []
    },
    {
      "cell_type": "code",
      "execution_count": 2,
      "metadata": {
        "colab": {
          "base_uri": "https://localhost:8080/"
        },
        "id": "RcHQYeW5eQON",
        "outputId": "13a3a28c-6f54-4793-9448-6985832d510e"
      },
      "outputs": [
        {
          "output_type": "stream",
          "name": "stdout",
          "text": [
            "Emukit installed\n"
          ]
        }
      ],
      "source": [
        "# Install Emukit (useful for the construction of our surrogate model)\n",
        "!pip install emukit\n",
        "clear_output()\n",
        "print('Emukit installed')"
      ]
    },
    {
      "cell_type": "code",
      "source": [
        "# General imports\n",
        "import numpy as np\n",
        "import matplotlib.pyplot as plt\n",
        "from matplotlib import colors as mcolors\n",
        "from sklearn.metrics import mean_squared_error\n",
        "from sklearn.metrics import r2_score\n",
        "colors = dict(mcolors.BASE_COLORS, **mcolors.CSS4_COLORS)\n",
        "%matplotlib inline\n",
        "\n",
        "# Emukit imports\n",
        "import GPy\n",
        "import emukit.multi_fidelity\n",
        "import emukit.test_functions\n",
        "import emukit.test_functions.multi_fidelity\n",
        "from emukit.model_wrappers.gpy_model_wrappers import GPyMultiOutputWrapper\n",
        "from emukit.multi_fidelity.models import GPyLinearMultiFidelityModel\n",
        "\n",
        "np.random.seed(20)"
      ],
      "metadata": {
        "id": "vgw2OPuuepyd"
      },
      "execution_count": 3,
      "outputs": []
    },
    {
      "cell_type": "markdown",
      "source": [
        "## Import high-fidelity dataset"
      ],
      "metadata": {
        "id": "9FBzozYO4ntW"
      }
    },
    {
      "cell_type": "markdown",
      "source": [
        "Next, we import and load the created dataset from high fidelity simulations. Each sample/observations of the dataset consists in an input and output array of the form:\n",
        "\n",
        "\\begin{array}{cc}\n",
        "\\text{Input} & \\text{Output}\\\\\n",
        "[ c, \\beta, c_1, c_3, k, K_s ] & [ \\mathrm{C_{rs}}, \\mathrm{R} ]\n",
        "\\end{array}\n",
        "\\\n",
        ",where the input contains our six model parameters ($c$, $\\beta$, $c_1$ and $c_3$ from the tissue constitutive model + permeability $k$ + chest wall stiffness $K_s$) and the output our two variables that represent the lung response (respiratory system compliance $\\mathrm{C_{rs}}$ and airways resistance $\\mathrm{R}$).\n",
        "\n",
        "\\\n",
        "- For the surrogate model training, we have 20 samples.\n",
        "\n",
        "- For the surrogate model testing, we have 100 samples."
      ],
      "metadata": {
        "id": "pS2JYkTX4xvr"
      }
    },
    {
      "cell_type": "code",
      "source": [
        "# Getting files from repository\n",
        "!wget https://raw.githubusercontent.com/josebarahonay/datos/master/training_input_data_20_hf.npy\n",
        "!wget https://raw.githubusercontent.com/josebarahonay/datos/master/training_output_data_20_hf.npy\n",
        "!wget https://raw.githubusercontent.com/josebarahonay/datos/master/testing_input_data_100_hf.npy\n",
        "!wget https://raw.githubusercontent.com/josebarahonay/datos/master/testing_output_data_100_hf.npy\n",
        "\n",
        "clear_output()"
      ],
      "metadata": {
        "id": "KsSur5wrevbB"
      },
      "execution_count": 4,
      "outputs": []
    },
    {
      "cell_type": "code",
      "source": [
        "# High Fidelity training datasets\n",
        "X_hf = np.load('training_input_data_20_hf.npy')\n",
        "Y_hf = np.load('training_output_data_20_hf.npy')\n",
        "\n",
        "# High Fidelity testing datasets\n",
        "X_hf_100 = np.load('testing_input_data_100_hf.npy')\n",
        "Y_hf_100 = np.load('testing_output_data_100_hf.npy')\n",
        "\n",
        "print(\"Checking size of HF and LF datasets:\")\n",
        "print(\"\")\n",
        "print(\"Training X HF size :\", X_hf.shape)\n",
        "print(\"Training Y HF size :\", Y_hf.shape)\n",
        "print(\"\")\n",
        "print(\"Testing X HF size :\", X_hf_100.shape)\n",
        "print(\"Testing Y HF size :\", Y_hf_100.shape)"
      ],
      "metadata": {
        "id": "_KPI6J6I7bV1",
        "colab": {
          "base_uri": "https://localhost:8080/"
        },
        "outputId": "580f6696-4d25-45c0-cdfa-b7cdad4ca28c"
      },
      "execution_count": 5,
      "outputs": [
        {
          "output_type": "stream",
          "name": "stdout",
          "text": [
            "Checking size of HF and LF datasets:\n",
            "\n",
            "Training X HF size : (20, 6)\n",
            "Training Y HF size : (20, 2)\n",
            "\n",
            "Testing X HF size : (100, 6)\n",
            "Testing Y HF size : (100, 2)\n"
          ]
        }
      ]
    },
    {
      "cell_type": "markdown",
      "source": [
        "## Data preprocessing for single-fidelity Gaussian Process (GP) model"
      ],
      "metadata": {
        "id": "TlhYbElmt2RM"
      }
    },
    {
      "cell_type": "markdown",
      "source": [
        "We divide our training dataset into an internal training and validation sets. As there are only a few observations, we want to use the majority of them for training our surrogate model. Thus, we specify a training size of 95%, leaving only one observation for the internal model validation.The testing dataset remains untouched for the entire analysis and is only used to evaluate the performance after we trained our surrogate model."
      ],
      "metadata": {
        "id": "GivGi1V-t59z"
      }
    },
    {
      "cell_type": "code",
      "source": [
        "from sklearn.model_selection import train_test_split\n",
        "# Next, the High Fidelity training datasets is split into an internal Training and Validation set\n",
        "X_hf_train, X_hf_test = train_test_split(X_hf, train_size=0.95, shuffle=True, random_state=1) # this split the input data\n",
        "Y_hf_train, Y_hf_test = train_test_split(Y_hf, train_size=0.95, shuffle=True, random_state=1) # this split the output data\n",
        "\n",
        "X_hf_test_100 = X_hf_100\n",
        "Y_hf_test_100 = Y_hf_100"
      ],
      "metadata": {
        "id": "E9QAndTIglGf"
      },
      "execution_count": 6,
      "outputs": []
    },
    {
      "cell_type": "markdown",
      "source": [
        "Given that the six model parameters have considerable differences in their scale, it is necessary to normalize the input dataset:"
      ],
      "metadata": {
        "id": "UoUtnXcLuM42"
      }
    },
    {
      "cell_type": "code",
      "source": [
        "from sklearn.preprocessing import StandardScaler\n",
        "\n",
        "## Normalize input data\n",
        "scaler = StandardScaler()\n",
        "\n",
        "X_hf_train = scaler.fit_transform(X_hf_train)\n",
        "X_hf_test = scaler.transform(X_hf_test)\n",
        "X_hf_test_100 = scaler.transform(X_hf_test_100)"
      ],
      "metadata": {
        "id": "OujPC6nUpcXz"
      },
      "execution_count": 7,
      "outputs": []
    },
    {
      "cell_type": "markdown",
      "source": [
        "## ML surrogate model construction"
      ],
      "metadata": {
        "id": "Sq0wVntNuW2j"
      }
    },
    {
      "cell_type": "markdown",
      "source": [
        "After the data is prepared, we construct and train the single-fidelity GP model.\n",
        "\n",
        "Regarding this, we want to learn a latent function $f$ from our dataset, such that $\\boldsymbol{y}=f(\\boldsymbol{X})+\\epsilon$.\n",
        "\n",
        "First, we establish that our prior knowledge about $f$ can be described by a GP with mean $m(\\boldsymbol{x})$ and covariance $k(\\boldsymbol{x}, \\boldsymbol{x}^{\\prime} ; \\boldsymbol{\\theta})$,\n",
        "\n",
        "\\begin{equation}\n",
        "    f(\\boldsymbol{x}) \\sim \\mathcal{G} \\mathcal{P}\\left(m(\\boldsymbol{x}), k(\\boldsymbol{x}, \\boldsymbol{x}^{\\prime} ; \\boldsymbol{\\theta})\\right),\n",
        "\\end{equation}\n",
        "\n",
        "where we assume a zero-mean function $m(\\boldsymbol{x}) = 0$. In our prior, $\\boldsymbol{\\theta}$ denotes the hyperparameters of the covariance function or kernel, which encodes our assumption about the Gaussian process. Here, we choose a quadratic exponential kernel (RBF), expressed in the form\n",
        "\n",
        "\\begin{equation}\n",
        "    k(\\boldsymbol{x},\\boldsymbol{x}';\\boldsymbol{\\theta})=v\\exp\\left\\{-\\sum\\limits_{i=1}^d\\dfrac{\\left(x_i-x_i'\\right)^2}{2\\ell_i^2}\\right\\},       \n",
        "\\end{equation}\n",
        "\n",
        "where $v$ y $\\{\\ell_i\\}_{i=1,\\ldots,d}$ are the model hyperparameters: $v$ models the variance of the process, and $\\ell_i$ determines the lengthscale of each input dimension.\n",
        "\n",
        "After training the model, we compute the prediction of the posterior distribution,\n",
        "\n",
        "\\begin{equation}\n",
        "    p(\\boldsymbol{y}^{*}|\\boldsymbol{x}^{*},\\mathcal{D})\\sim\\mathcal{N}(\\mu(\\boldsymbol{x}^{*}),\\varSigma(\\boldsymbol{x}^{*}))\n",
        "\\end{equation}\n",
        "\n",
        "\\\n",
        "From here, it is important to note that we build two separate models: one for the respiratory-system compliance prediction, and the other for the airways resistance."
      ],
      "metadata": {
        "id": "rc6XAIjVuXLE"
      }
    },
    {
      "cell_type": "code",
      "source": [
        "input_dim = X_hf_train.shape[1]\n",
        "Y_hf_train_r = Y_hf_train[:,0][:,np.newaxis]\n",
        "Y_hf_train_c = Y_hf_train[:,1][:,np.newaxis]\n",
        "\n",
        "## Construct a single-fidelity model\n",
        "kernel_r = GPy.kern.RBF(input_dim, ARD = True)\n",
        "kernel_c = GPy.kern.RBF(input_dim, ARD = True)\n",
        "\n",
        "### RESISTANCE model ###\n",
        "m_r = GPy.models.GPRegression(X_hf_train, Y_hf_train_r, kernel_r)\n",
        "### COMPLIANCE model ###\n",
        "m_c = GPy.models.GPRegression(X_hf_train, Y_hf_train_c, kernel_c)\n",
        "\n",
        "## Fit (optimize) the models\n",
        "#m.optimize(optimizer='scg', max_iters=1000)\n",
        "m_r.optimize()\n",
        "print('Resistance model optimized')\n",
        "m_c.optimize()\n",
        "print('Compliance model optimized')"
      ],
      "metadata": {
        "id": "aRXssE76mpfb",
        "colab": {
          "base_uri": "https://localhost:8080/"
        },
        "outputId": "c1ff494c-e060-40cd-dcdc-f1b93e14c570"
      },
      "execution_count": 8,
      "outputs": [
        {
          "output_type": "stream",
          "name": "stderr",
          "text": [
            " /usr/local/lib/python3.10/dist-packages/GPy/kern/src/stationary.py:243: RuntimeWarning:invalid value encountered in true_divide\n",
            " /usr/local/lib/python3.10/dist-packages/GPy/kern/src/stationary.py:166: RuntimeWarning:overflow encountered in true_divide\n",
            " /usr/local/lib/python3.10/dist-packages/GPy/kern/src/stationary.py:137: RuntimeWarning:overflow encountered in square\n",
            " /usr/local/lib/python3.10/dist-packages/GPy/kern/src/stationary.py:138: RuntimeWarning:invalid value encountered in add\n",
            " /usr/local/lib/python3.10/dist-packages/GPy/kern/src/rbf.py:76: RuntimeWarning:invalid value encountered in multiply\n"
          ]
        },
        {
          "output_type": "stream",
          "name": "stdout",
          "text": [
            "Resistance model optimized\n",
            "Compliance model optimized\n"
          ]
        }
      ]
    },
    {
      "cell_type": "markdown",
      "source": [
        "After trained, we evaluate the model performance and save the model predictions on the HF testing set"
      ],
      "metadata": {
        "id": "srPfmm3_v4ek"
      }
    },
    {
      "cell_type": "code",
      "source": [
        "# Predictions\n",
        "Y_pred_mean_R, Y_pred_var_R = m_r.predict(X_hf_test_100)\n",
        "Y_pred_mean_C, Y_pred_var_C = m_c.predict(X_hf_test_100)\n",
        "\n",
        "# Performance\n",
        "print(r2_score(Y_hf_test_100[:,0], Y_pred_mean_R[:,0]))\n",
        "print(r2_score(Y_hf_test_100[:,1], Y_pred_mean_C[:,0]))\n",
        "\n",
        "# Export values\n",
        "np.save('sfGP_var_C.npy', Y_pred_var_C)\n",
        "np.save('sfGP_var_R.npy', Y_pred_var_R)\n",
        "np.save('sfGP_C.npy', Y_pred_mean_C)\n",
        "np.save('sfGP_R.npy', Y_pred_mean_R)"
      ],
      "metadata": {
        "id": "SCQ9xx0vruj8",
        "colab": {
          "base_uri": "https://localhost:8080/"
        },
        "outputId": "60ba7663-9867-434c-c350-73f76ea8fe02"
      },
      "execution_count": 9,
      "outputs": [
        {
          "output_type": "stream",
          "name": "stdout",
          "text": [
            "0.9986261287224183\n",
            "0.709755788192304\n"
          ]
        }
      ]
    },
    {
      "cell_type": "markdown",
      "source": [
        "## Cross-Validation (in testing set)"
      ],
      "metadata": {
        "id": "gI1Zb7u_wSnU"
      }
    },
    {
      "cell_type": "markdown",
      "source": [
        "Additionally, we perform a cross-validation using different training sizes.\n",
        "\n",
        "**Note**: *Take consideration that the following code block may take several hours to be executed*."
      ],
      "metadata": {
        "id": "1xazj1-qwU1j"
      }
    },
    {
      "cell_type": "code",
      "source": [
        "split_list = [0.5, 0.55, 0.6, 0.65, 0.7, 0.75, 0.8, 0.85, 0.9, 0.95]\n",
        "random_list = np.arange(1, 100+1,10)\n",
        "RMSE_list_R = []\n",
        "RMSE_list_C = []\n",
        "std_R = []\n",
        "std_C = []\n",
        "\n",
        "for split in split_list:\n",
        "  print(\"Train split: \", split)\n",
        "  RMSE_inner_list_R = []\n",
        "  RMSE_inner_list_C = []\n",
        "  for random_number in random_list:\n",
        "    # Split\n",
        "    X_hf_train, X_hf_test = train_test_split(X_hf, train_size=split, shuffle=True, random_state=random_number) # this split the input data\n",
        "    Y_hf_train, Y_hf_test = train_test_split(Y_hf, train_size=split, shuffle=True, random_state=random_number) # this split the output data\n",
        "\n",
        "    X_hf_test_100 = X_hf_100\n",
        "    Y_hf_test_100 = Y_hf_100\n",
        "\n",
        "    # Normalize\n",
        "    scaler = StandardScaler()\n",
        "\n",
        "    X_hf_train = scaler.fit_transform(X_hf_train)\n",
        "    X_hf_test = scaler.transform(X_hf_test)\n",
        "    X_hf_test_100 = scaler.transform(X_hf_test_100)\n",
        "\n",
        "    # Train\n",
        "    input_dim = X_hf_train.shape[1]\n",
        "    Y_hf_train_r = Y_hf_train[:,0][:,np.newaxis]\n",
        "    Y_hf_train_c = Y_hf_train[:,1][:,np.newaxis]\n",
        "\n",
        "    ## Construct a single-fidelity model\n",
        "    kernel_r = GPy.kern.RBF(input_dim, ARD = True)\n",
        "    kernel_c = GPy.kern.RBF(input_dim, ARD = True)\n",
        "    m_r = GPy.models.GPRegression(X_hf_train, Y_hf_train_r, kernel_r)\n",
        "    m_c = GPy.models.GPRegression(X_hf_train, Y_hf_train_c, kernel_c)\n",
        "    #print(m)\n",
        "    #m.optimize(optimizer='scg', max_iters=1000)\n",
        "    m_r.optimize()\n",
        "    m_c.optimize()\n",
        "    #print(m)\n",
        "\n",
        "    # Evaluate\n",
        "    Y_pred_mean_r, Y_pred_var_r = m_r.predict(X_hf_test_100)\n",
        "    Y_pred_mean_c, Y_pred_var_c = m_c.predict(X_hf_test_100)\n",
        "    # H-F predictions\n",
        "    print(\"H-F predictions\")\n",
        "    mse_R = mean_squared_error(Y_hf_test_100[:,0], Y_pred_mean_r[:,0])\n",
        "    print('\\nMSE R: {}'.format(mse_R))\n",
        "    mse_C = mean_squared_error(Y_hf_test_100[:,1], Y_pred_mean_c[:,0])\n",
        "    print('\\nMSE C: {}'.format(mse_C))\n",
        "    RMSE_inner_list_R.append(np.sqrt(mse_R))\n",
        "    RMSE_inner_list_C.append(np.sqrt(mse_C))\n",
        "  RMSE_list_R.append(np.average(RMSE_inner_list_R))\n",
        "  RMSE_list_C.append(np.average(RMSE_inner_list_C))\n",
        "  print(RMSE_inner_list_R)\n",
        "  print(RMSE_inner_list_C)\n",
        "  std_R.append(np.std(RMSE_inner_list_R))\n",
        "  std_C.append(np.std(RMSE_inner_list_C))\n",
        "\n",
        "#clear_output()\n",
        "\n",
        "for i in range(len(split_list)):\n",
        "  print(\"Train split: \", split_list[i], \"||    MSE R: \", RMSE_list_R[i], \"||    MSE C: \", RMSE_list_C[i], \"||    std R: \", std_R[i], \"||    std C: \", std_C[i])"
      ],
      "metadata": {
        "colab": {
          "base_uri": "https://localhost:8080/"
        },
        "id": "QjSNtwKw1Y3X",
        "outputId": "47b2eb2c-8ae9-4eda-f3d2-bef023b92359"
      },
      "execution_count": 11,
      "outputs": [
        {
          "output_type": "stream",
          "name": "stdout",
          "text": [
            "Train split:  0.5\n",
            "H-F predictions\n",
            "\n",
            "MSE R: 0.009253323258857735\n",
            "\n",
            "MSE C: 222.47780963953343\n",
            "H-F predictions\n",
            "\n",
            "MSE R: 0.02373573723338636\n",
            "\n",
            "MSE C: 933.3289635414155\n",
            "H-F predictions\n",
            "\n",
            "MSE R: 0.009754944016520647\n",
            "\n",
            "MSE C: 230.0715564203132\n"
          ]
        },
        {
          "output_type": "stream",
          "name": "stderr",
          "text": [
            " /usr/local/lib/python3.10/dist-packages/GPy/kern/src/stationary.py:137: RuntimeWarning:overflow encountered in square\n",
            " /usr/local/lib/python3.10/dist-packages/GPy/kern/src/stationary.py:138: RuntimeWarning:invalid value encountered in add\n",
            " /usr/local/lib/python3.10/dist-packages/GPy/kern/src/rbf.py:76: RuntimeWarning:invalid value encountered in multiply\n",
            " /usr/local/lib/python3.10/dist-packages/GPy/kern/src/stationary.py:166: RuntimeWarning:overflow encountered in true_divide\n"
          ]
        },
        {
          "output_type": "stream",
          "name": "stdout",
          "text": [
            "H-F predictions\n",
            "\n",
            "MSE R: 0.007730535127435738\n",
            "\n",
            "MSE C: 293.7422989460658\n"
          ]
        },
        {
          "output_type": "stream",
          "name": "stderr",
          "text": [
            " /usr/local/lib/python3.10/dist-packages/GPy/kern/src/stationary.py:166: RuntimeWarning:overflow encountered in true_divide\n",
            " /usr/local/lib/python3.10/dist-packages/GPy/kern/src/stationary.py:137: RuntimeWarning:overflow encountered in square\n",
            " /usr/local/lib/python3.10/dist-packages/GPy/kern/src/stationary.py:138: RuntimeWarning:invalid value encountered in add\n",
            " /usr/local/lib/python3.10/dist-packages/GPy/kern/src/rbf.py:76: RuntimeWarning:invalid value encountered in multiply\n"
          ]
        },
        {
          "output_type": "stream",
          "name": "stdout",
          "text": [
            "H-F predictions\n",
            "\n",
            "MSE R: 0.030737964557902234\n",
            "\n",
            "MSE C: 729.9706270845331\n",
            "H-F predictions\n",
            "\n",
            "MSE R: 0.010423192102922908\n",
            "\n",
            "MSE C: 236.1090785562649\n"
          ]
        },
        {
          "output_type": "stream",
          "name": "stderr",
          "text": [
            " /usr/local/lib/python3.10/dist-packages/GPy/kern/src/stationary.py:137: RuntimeWarning:overflow encountered in square\n",
            " /usr/local/lib/python3.10/dist-packages/GPy/kern/src/stationary.py:138: RuntimeWarning:invalid value encountered in add\n",
            " /usr/local/lib/python3.10/dist-packages/GPy/kern/src/rbf.py:76: RuntimeWarning:invalid value encountered in multiply\n",
            " /usr/local/lib/python3.10/dist-packages/GPy/kern/src/stationary.py:166: RuntimeWarning:overflow encountered in true_divide\n"
          ]
        },
        {
          "output_type": "stream",
          "name": "stdout",
          "text": [
            "H-F predictions\n",
            "\n",
            "MSE R: 0.01829957896678578\n",
            "\n",
            "MSE C: 594.1313346698325\n"
          ]
        },
        {
          "output_type": "stream",
          "name": "stderr",
          "text": [
            " /usr/local/lib/python3.10/dist-packages/GPy/kern/src/stationary.py:166: RuntimeWarning:overflow encountered in true_divide\n",
            " /usr/local/lib/python3.10/dist-packages/GPy/kern/src/stationary.py:137: RuntimeWarning:overflow encountered in square\n",
            " /usr/local/lib/python3.10/dist-packages/GPy/kern/src/stationary.py:138: RuntimeWarning:invalid value encountered in add\n",
            " /usr/local/lib/python3.10/dist-packages/GPy/kern/src/rbf.py:76: RuntimeWarning:invalid value encountered in multiply\n"
          ]
        },
        {
          "output_type": "stream",
          "name": "stdout",
          "text": [
            "H-F predictions\n",
            "\n",
            "MSE R: 0.012256972316852726\n",
            "\n",
            "MSE C: 271.6258981381097\n"
          ]
        },
        {
          "output_type": "stream",
          "name": "stderr",
          "text": [
            " /usr/local/lib/python3.10/dist-packages/GPy/kern/src/stationary.py:137: RuntimeWarning:overflow encountered in square\n",
            " /usr/local/lib/python3.10/dist-packages/GPy/kern/src/stationary.py:138: RuntimeWarning:invalid value encountered in add\n",
            " /usr/local/lib/python3.10/dist-packages/GPy/kern/src/rbf.py:76: RuntimeWarning:invalid value encountered in multiply\n",
            " /usr/local/lib/python3.10/dist-packages/GPy/kern/src/stationary.py:166: RuntimeWarning:overflow encountered in true_divide\n"
          ]
        },
        {
          "output_type": "stream",
          "name": "stdout",
          "text": [
            "H-F predictions\n",
            "\n",
            "MSE R: 0.005853995555010047\n",
            "\n",
            "MSE C: 575.6334335069253\n"
          ]
        },
        {
          "output_type": "stream",
          "name": "stderr",
          "text": [
            " /usr/local/lib/python3.10/dist-packages/GPy/kern/src/stationary.py:243: RuntimeWarning:invalid value encountered in true_divide\n",
            " /usr/local/lib/python3.10/dist-packages/GPy/kern/src/stationary.py:166: RuntimeWarning:overflow encountered in true_divide\n",
            " /usr/local/lib/python3.10/dist-packages/GPy/kern/src/stationary.py:137: RuntimeWarning:overflow encountered in square\n",
            " /usr/local/lib/python3.10/dist-packages/GPy/kern/src/stationary.py:138: RuntimeWarning:invalid value encountered in add\n",
            " /usr/local/lib/python3.10/dist-packages/GPy/kern/src/rbf.py:76: RuntimeWarning:invalid value encountered in multiply\n"
          ]
        },
        {
          "output_type": "stream",
          "name": "stdout",
          "text": [
            "H-F predictions\n",
            "\n",
            "MSE R: 0.005661310134667916\n",
            "\n",
            "MSE C: 636.0574170811525\n",
            "[0.09619419555699675, 0.15406406859935368, 0.09876712011859336, 0.08792346175757491, 0.17532245879493658, 0.10209403558936686, 0.13527593639219718, 0.11071121134217946, 0.07651140800566963, 0.07524167817551597]\n",
            "[14.915690049056847, 30.550433115447245, 15.168109849955373, 17.138911836696803, 27.01796859655687, 15.365841290221141, 24.374809428379795, 16.481076971427253, 23.992361982658675, 25.220178767827015]\n",
            "Train split:  0.55\n",
            "H-F predictions\n",
            "\n",
            "MSE R: 0.007610080375058463\n",
            "\n",
            "MSE C: 239.97286563490667\n",
            "H-F predictions\n",
            "\n",
            "MSE R: 0.013184933316486545\n",
            "\n",
            "MSE C: 637.3796613246623\n"
          ]
        },
        {
          "output_type": "stream",
          "name": "stderr",
          "text": [
            " /usr/local/lib/python3.10/dist-packages/GPy/kern/src/stationary.py:166: RuntimeWarning:overflow encountered in true_divide\n",
            " /usr/local/lib/python3.10/dist-packages/GPy/kern/src/stationary.py:137: RuntimeWarning:overflow encountered in square\n",
            " /usr/local/lib/python3.10/dist-packages/GPy/kern/src/stationary.py:138: RuntimeWarning:invalid value encountered in add\n",
            " /usr/local/lib/python3.10/dist-packages/GPy/kern/src/rbf.py:76: RuntimeWarning:invalid value encountered in multiply\n"
          ]
        },
        {
          "output_type": "stream",
          "name": "stdout",
          "text": [
            "H-F predictions\n",
            "\n",
            "MSE R: 0.007638792815245798\n",
            "\n",
            "MSE C: 104.86606624725692\n"
          ]
        },
        {
          "output_type": "stream",
          "name": "stderr",
          "text": [
            " /usr/local/lib/python3.10/dist-packages/GPy/kern/src/stationary.py:166: RuntimeWarning:overflow encountered in true_divide\n",
            " /usr/local/lib/python3.10/dist-packages/GPy/kern/src/stationary.py:137: RuntimeWarning:overflow encountered in square\n",
            " /usr/local/lib/python3.10/dist-packages/GPy/kern/src/stationary.py:138: RuntimeWarning:invalid value encountered in add\n",
            " /usr/local/lib/python3.10/dist-packages/GPy/kern/src/rbf.py:76: RuntimeWarning:invalid value encountered in multiply\n"
          ]
        },
        {
          "output_type": "stream",
          "name": "stdout",
          "text": [
            "H-F predictions\n",
            "\n",
            "MSE R: 0.003916098805209254\n",
            "\n",
            "MSE C: 386.52404055803345\n"
          ]
        },
        {
          "output_type": "stream",
          "name": "stderr",
          "text": [
            " /usr/local/lib/python3.10/dist-packages/GPy/kern/src/stationary.py:243: RuntimeWarning:invalid value encountered in true_divide\n"
          ]
        },
        {
          "output_type": "stream",
          "name": "stdout",
          "text": [
            "H-F predictions\n",
            "\n",
            "MSE R: 0.020625905167199574\n",
            "\n",
            "MSE C: 1171.7399048629288\n",
            "H-F predictions\n",
            "\n",
            "MSE R: 0.0033808092038140353\n",
            "\n",
            "MSE C: 658.2903647750026\n"
          ]
        },
        {
          "output_type": "stream",
          "name": "stderr",
          "text": [
            " /usr/local/lib/python3.10/dist-packages/GPy/kern/src/stationary.py:166: RuntimeWarning:overflow encountered in true_divide\n",
            " /usr/local/lib/python3.10/dist-packages/GPy/kern/src/stationary.py:137: RuntimeWarning:overflow encountered in square\n",
            " /usr/local/lib/python3.10/dist-packages/GPy/kern/src/stationary.py:138: RuntimeWarning:invalid value encountered in add\n",
            " /usr/local/lib/python3.10/dist-packages/GPy/kern/src/rbf.py:76: RuntimeWarning:invalid value encountered in multiply\n"
          ]
        },
        {
          "output_type": "stream",
          "name": "stdout",
          "text": [
            "H-F predictions\n",
            "\n",
            "MSE R: 0.005551639599202495\n",
            "\n",
            "MSE C: 542.8792453613561\n"
          ]
        },
        {
          "output_type": "stream",
          "name": "stderr",
          "text": [
            " /usr/local/lib/python3.10/dist-packages/GPy/kern/src/stationary.py:137: RuntimeWarning:overflow encountered in square\n",
            " /usr/local/lib/python3.10/dist-packages/GPy/kern/src/stationary.py:138: RuntimeWarning:invalid value encountered in add\n",
            " /usr/local/lib/python3.10/dist-packages/GPy/kern/src/rbf.py:76: RuntimeWarning:invalid value encountered in multiply\n",
            " /usr/local/lib/python3.10/dist-packages/GPy/kern/src/stationary.py:166: RuntimeWarning:overflow encountered in true_divide\n",
            " /usr/local/lib/python3.10/dist-packages/GPy/kern/src/stationary.py:166: RuntimeWarning:overflow encountered in true_divide\n",
            " /usr/local/lib/python3.10/dist-packages/GPy/kern/src/stationary.py:137: RuntimeWarning:overflow encountered in square\n",
            " /usr/local/lib/python3.10/dist-packages/GPy/kern/src/stationary.py:138: RuntimeWarning:invalid value encountered in add\n",
            " /usr/local/lib/python3.10/dist-packages/GPy/kern/src/rbf.py:76: RuntimeWarning:invalid value encountered in multiply\n"
          ]
        },
        {
          "output_type": "stream",
          "name": "stdout",
          "text": [
            "H-F predictions\n",
            "\n",
            "MSE R: 0.009021642386252728\n",
            "\n",
            "MSE C: 274.48244496570067\n",
            "H-F predictions\n",
            "\n",
            "MSE R: 0.004453407703977641\n",
            "\n",
            "MSE C: 202.88891558377742\n"
          ]
        },
        {
          "output_type": "stream",
          "name": "stderr",
          "text": [
            " /usr/local/lib/python3.10/dist-packages/GPy/kern/src/stationary.py:137: RuntimeWarning:overflow encountered in square\n",
            " /usr/local/lib/python3.10/dist-packages/GPy/kern/src/stationary.py:138: RuntimeWarning:invalid value encountered in add\n",
            " /usr/local/lib/python3.10/dist-packages/GPy/kern/src/rbf.py:76: RuntimeWarning:invalid value encountered in multiply\n",
            " /usr/local/lib/python3.10/dist-packages/GPy/kern/src/stationary.py:166: RuntimeWarning:overflow encountered in true_divide\n"
          ]
        },
        {
          "output_type": "stream",
          "name": "stdout",
          "text": [
            "H-F predictions\n",
            "\n",
            "MSE R: 0.00509426181872567\n",
            "\n",
            "MSE C: 643.271287210578\n",
            "[0.08723577462863767, 0.11482566488588927, 0.0874001877300375, 0.06257874084071406, 0.1436172175165623, 0.05814472636287865, 0.07450932558547617, 0.09498232670477559, 0.0667338572538531, 0.07137409767363556]\n",
            "[15.491057602207368, 25.24637917255982, 10.240413382635339, 19.660214662053754, 34.230686596428775, 25.657169851232666, 23.299769212620028, 16.567511731267935, 14.243908016544387, 25.362793363716424]\n",
            "Train split:  0.6\n"
          ]
        },
        {
          "output_type": "stream",
          "name": "stderr",
          "text": [
            " /usr/local/lib/python3.10/dist-packages/GPy/kern/src/stationary.py:166: RuntimeWarning:overflow encountered in true_divide\n",
            " /usr/local/lib/python3.10/dist-packages/GPy/kern/src/stationary.py:137: RuntimeWarning:overflow encountered in square\n",
            " /usr/local/lib/python3.10/dist-packages/GPy/kern/src/stationary.py:138: RuntimeWarning:invalid value encountered in add\n",
            " /usr/local/lib/python3.10/dist-packages/GPy/kern/src/rbf.py:76: RuntimeWarning:invalid value encountered in multiply\n"
          ]
        },
        {
          "output_type": "stream",
          "name": "stdout",
          "text": [
            "H-F predictions\n",
            "\n",
            "MSE R: 0.013512868288944048\n",
            "\n",
            "MSE C: 488.11221208567264\n"
          ]
        },
        {
          "output_type": "stream",
          "name": "stderr",
          "text": [
            " /usr/local/lib/python3.10/dist-packages/GPy/kern/src/stationary.py:137: RuntimeWarning:overflow encountered in square\n",
            " /usr/local/lib/python3.10/dist-packages/GPy/kern/src/stationary.py:138: RuntimeWarning:invalid value encountered in add\n",
            " /usr/local/lib/python3.10/dist-packages/GPy/kern/src/rbf.py:76: RuntimeWarning:invalid value encountered in multiply\n",
            " /usr/local/lib/python3.10/dist-packages/GPy/kern/src/stationary.py:166: RuntimeWarning:overflow encountered in true_divide\n"
          ]
        },
        {
          "output_type": "stream",
          "name": "stdout",
          "text": [
            "H-F predictions\n",
            "\n",
            "MSE R: 0.015080668047004532\n",
            "\n",
            "MSE C: 288.60096699277597\n"
          ]
        },
        {
          "output_type": "stream",
          "name": "stderr",
          "text": [
            " /usr/local/lib/python3.10/dist-packages/GPy/kern/src/stationary.py:166: RuntimeWarning:overflow encountered in true_divide\n",
            " /usr/local/lib/python3.10/dist-packages/GPy/kern/src/stationary.py:137: RuntimeWarning:overflow encountered in square\n",
            " /usr/local/lib/python3.10/dist-packages/GPy/kern/src/stationary.py:138: RuntimeWarning:invalid value encountered in add\n",
            " /usr/local/lib/python3.10/dist-packages/GPy/kern/src/rbf.py:76: RuntimeWarning:invalid value encountered in multiply\n"
          ]
        },
        {
          "output_type": "stream",
          "name": "stdout",
          "text": [
            "H-F predictions\n",
            "\n",
            "MSE R: 0.008484723169041367\n",
            "\n",
            "MSE C: 395.01452663838495\n"
          ]
        },
        {
          "output_type": "stream",
          "name": "stderr",
          "text": [
            " /usr/local/lib/python3.10/dist-packages/GPy/kern/src/stationary.py:166: RuntimeWarning:overflow encountered in true_divide\n",
            " /usr/local/lib/python3.10/dist-packages/GPy/kern/src/stationary.py:137: RuntimeWarning:overflow encountered in square\n",
            " /usr/local/lib/python3.10/dist-packages/GPy/kern/src/stationary.py:138: RuntimeWarning:invalid value encountered in add\n",
            " /usr/local/lib/python3.10/dist-packages/GPy/kern/src/rbf.py:76: RuntimeWarning:invalid value encountered in multiply\n"
          ]
        },
        {
          "output_type": "stream",
          "name": "stdout",
          "text": [
            "H-F predictions\n",
            "\n",
            "MSE R: 0.0044362397839215525\n",
            "\n",
            "MSE C: 267.9007041366078\n"
          ]
        },
        {
          "output_type": "stream",
          "name": "stderr",
          "text": [
            " /usr/local/lib/python3.10/dist-packages/GPy/kern/src/stationary.py:166: RuntimeWarning:overflow encountered in true_divide\n",
            " /usr/local/lib/python3.10/dist-packages/GPy/kern/src/stationary.py:137: RuntimeWarning:overflow encountered in square\n",
            " /usr/local/lib/python3.10/dist-packages/GPy/kern/src/stationary.py:138: RuntimeWarning:invalid value encountered in add\n",
            " /usr/local/lib/python3.10/dist-packages/GPy/kern/src/rbf.py:76: RuntimeWarning:invalid value encountered in multiply\n"
          ]
        },
        {
          "output_type": "stream",
          "name": "stdout",
          "text": [
            "H-F predictions\n",
            "\n",
            "MSE R: 0.014904664538525469\n",
            "\n",
            "MSE C: 1199.6060273391843\n",
            "H-F predictions\n",
            "\n",
            "MSE R: 0.002552878247537996\n",
            "\n",
            "MSE C: 219.05629381752573\n"
          ]
        },
        {
          "output_type": "stream",
          "name": "stderr",
          "text": [
            " /usr/local/lib/python3.10/dist-packages/GPy/kern/src/stationary.py:243: RuntimeWarning:invalid value encountered in true_divide\n"
          ]
        },
        {
          "output_type": "stream",
          "name": "stdout",
          "text": [
            "H-F predictions\n",
            "\n",
            "MSE R: 0.0046071925621645115\n",
            "\n",
            "MSE C: 542.420745112597\n",
            "H-F predictions\n",
            "\n",
            "MSE R: 0.014095266584945249\n",
            "\n",
            "MSE C: 231.91884758002746\n"
          ]
        },
        {
          "output_type": "stream",
          "name": "stderr",
          "text": [
            " /usr/local/lib/python3.10/dist-packages/GPy/kern/src/stationary.py:166: RuntimeWarning:overflow encountered in true_divide\n",
            " /usr/local/lib/python3.10/dist-packages/GPy/kern/src/stationary.py:137: RuntimeWarning:overflow encountered in square\n",
            " /usr/local/lib/python3.10/dist-packages/GPy/kern/src/stationary.py:138: RuntimeWarning:invalid value encountered in add\n",
            " /usr/local/lib/python3.10/dist-packages/GPy/kern/src/rbf.py:76: RuntimeWarning:invalid value encountered in multiply\n"
          ]
        },
        {
          "output_type": "stream",
          "name": "stdout",
          "text": [
            "H-F predictions\n",
            "\n",
            "MSE R: 0.0050540312740017575\n",
            "\n",
            "MSE C: 206.25091059363933\n",
            "H-F predictions\n",
            "\n",
            "MSE R: 0.005607852967022757\n",
            "\n",
            "MSE C: 206.72160277375795\n",
            "[0.11624486349488328, 0.12280337148060932, 0.0921125570649375, 0.06660510328737244, 0.12208466135647618, 0.05052601555177289, 0.06787630339201238, 0.11872348792444253, 0.07109171030437907, 0.07488559919652614]\n",
            "[22.093261689611897, 16.988259681108477, 19.874972368242048, 16.367672532666575, 34.63532917902159, 14.800550456571733, 23.28992797568505, 15.228882020031131, 14.361438319111333, 14.377816342329524]\n",
            "Train split:  0.65\n"
          ]
        },
        {
          "output_type": "stream",
          "name": "stderr",
          "text": [
            " /usr/local/lib/python3.10/dist-packages/GPy/kern/src/stationary.py:166: RuntimeWarning:overflow encountered in true_divide\n",
            " /usr/local/lib/python3.10/dist-packages/GPy/kern/src/stationary.py:137: RuntimeWarning:overflow encountered in square\n",
            " /usr/local/lib/python3.10/dist-packages/GPy/kern/src/stationary.py:138: RuntimeWarning:invalid value encountered in add\n",
            " /usr/local/lib/python3.10/dist-packages/GPy/kern/src/rbf.py:76: RuntimeWarning:invalid value encountered in multiply\n",
            " /usr/local/lib/python3.10/dist-packages/GPy/kern/src/stationary.py:243: RuntimeWarning:invalid value encountered in true_divide\n",
            " /usr/local/lib/python3.10/dist-packages/GPy/kern/src/stationary.py:166: RuntimeWarning:overflow encountered in true_divide\n",
            " /usr/local/lib/python3.10/dist-packages/GPy/kern/src/stationary.py:137: RuntimeWarning:overflow encountered in square\n",
            " /usr/local/lib/python3.10/dist-packages/GPy/kern/src/stationary.py:138: RuntimeWarning:invalid value encountered in add\n",
            " /usr/local/lib/python3.10/dist-packages/GPy/kern/src/rbf.py:76: RuntimeWarning:invalid value encountered in multiply\n"
          ]
        },
        {
          "output_type": "stream",
          "name": "stdout",
          "text": [
            "H-F predictions\n",
            "\n",
            "MSE R: 0.01319840432188653\n",
            "\n",
            "MSE C: 321.8129418461921\n",
            "H-F predictions\n",
            "\n",
            "MSE R: 0.006946836647898472\n",
            "\n",
            "MSE C: 63.46636321300339\n"
          ]
        },
        {
          "output_type": "stream",
          "name": "stderr",
          "text": [
            " /usr/local/lib/python3.10/dist-packages/GPy/kern/src/stationary.py:166: RuntimeWarning:overflow encountered in true_divide\n",
            " /usr/local/lib/python3.10/dist-packages/GPy/kern/src/stationary.py:137: RuntimeWarning:overflow encountered in square\n",
            " /usr/local/lib/python3.10/dist-packages/GPy/kern/src/stationary.py:138: RuntimeWarning:invalid value encountered in add\n",
            " /usr/local/lib/python3.10/dist-packages/GPy/kern/src/rbf.py:76: RuntimeWarning:invalid value encountered in multiply\n"
          ]
        },
        {
          "output_type": "stream",
          "name": "stdout",
          "text": [
            "H-F predictions\n",
            "\n",
            "MSE R: 0.026748210152627894\n",
            "\n",
            "MSE C: 36.020941265093796\n",
            "H-F predictions\n",
            "\n",
            "MSE R: 0.003998752565087048\n",
            "\n",
            "MSE C: 230.54493992219818\n"
          ]
        },
        {
          "output_type": "stream",
          "name": "stderr",
          "text": [
            " /usr/local/lib/python3.10/dist-packages/GPy/kern/src/stationary.py:166: RuntimeWarning:overflow encountered in true_divide\n",
            " /usr/local/lib/python3.10/dist-packages/GPy/kern/src/stationary.py:137: RuntimeWarning:overflow encountered in square\n",
            " /usr/local/lib/python3.10/dist-packages/GPy/kern/src/stationary.py:138: RuntimeWarning:invalid value encountered in add\n",
            " /usr/local/lib/python3.10/dist-packages/GPy/kern/src/rbf.py:76: RuntimeWarning:invalid value encountered in multiply\n"
          ]
        },
        {
          "output_type": "stream",
          "name": "stdout",
          "text": [
            "H-F predictions\n",
            "\n",
            "MSE R: 0.00832703306777461\n",
            "\n",
            "MSE C: 133.96001280361074\n"
          ]
        },
        {
          "output_type": "stream",
          "name": "stderr",
          "text": [
            " /usr/local/lib/python3.10/dist-packages/GPy/kern/src/stationary.py:137: RuntimeWarning:overflow encountered in square\n",
            " /usr/local/lib/python3.10/dist-packages/GPy/kern/src/stationary.py:138: RuntimeWarning:invalid value encountered in add\n",
            " /usr/local/lib/python3.10/dist-packages/GPy/kern/src/rbf.py:76: RuntimeWarning:invalid value encountered in multiply\n",
            " /usr/local/lib/python3.10/dist-packages/GPy/kern/src/stationary.py:166: RuntimeWarning:overflow encountered in true_divide\n"
          ]
        },
        {
          "output_type": "stream",
          "name": "stdout",
          "text": [
            "H-F predictions\n",
            "\n",
            "MSE R: 0.002430368352267409\n",
            "\n",
            "MSE C: 220.32300988653589\n"
          ]
        },
        {
          "output_type": "stream",
          "name": "stderr",
          "text": [
            " /usr/local/lib/python3.10/dist-packages/GPy/kern/src/stationary.py:166: RuntimeWarning:overflow encountered in true_divide\n",
            " /usr/local/lib/python3.10/dist-packages/GPy/kern/src/stationary.py:137: RuntimeWarning:overflow encountered in square\n",
            " /usr/local/lib/python3.10/dist-packages/GPy/kern/src/stationary.py:138: RuntimeWarning:invalid value encountered in add\n",
            " /usr/local/lib/python3.10/dist-packages/GPy/kern/src/rbf.py:76: RuntimeWarning:invalid value encountered in multiply\n",
            " /usr/local/lib/python3.10/dist-packages/GPy/kern/src/stationary.py:243: RuntimeWarning:invalid value encountered in true_divide\n"
          ]
        },
        {
          "output_type": "stream",
          "name": "stdout",
          "text": [
            "H-F predictions\n",
            "\n",
            "MSE R: 0.004697220417341429\n",
            "\n",
            "MSE C: 283.3174700616879\n"
          ]
        },
        {
          "output_type": "stream",
          "name": "stderr",
          "text": [
            " /usr/local/lib/python3.10/dist-packages/GPy/kern/src/stationary.py:166: RuntimeWarning:overflow encountered in true_divide\n",
            " /usr/local/lib/python3.10/dist-packages/GPy/kern/src/stationary.py:137: RuntimeWarning:overflow encountered in square\n",
            " /usr/local/lib/python3.10/dist-packages/GPy/kern/src/stationary.py:138: RuntimeWarning:invalid value encountered in add\n",
            " /usr/local/lib/python3.10/dist-packages/GPy/kern/src/rbf.py:76: RuntimeWarning:invalid value encountered in multiply\n"
          ]
        },
        {
          "output_type": "stream",
          "name": "stdout",
          "text": [
            "H-F predictions\n",
            "\n",
            "MSE R: 0.008734961472769004\n",
            "\n",
            "MSE C: 225.4770770307691\n"
          ]
        },
        {
          "output_type": "stream",
          "name": "stderr",
          "text": [
            " /usr/local/lib/python3.10/dist-packages/GPy/kern/src/stationary.py:137: RuntimeWarning:overflow encountered in square\n",
            " /usr/local/lib/python3.10/dist-packages/GPy/kern/src/stationary.py:138: RuntimeWarning:invalid value encountered in add\n",
            " /usr/local/lib/python3.10/dist-packages/GPy/kern/src/rbf.py:76: RuntimeWarning:invalid value encountered in multiply\n",
            " /usr/local/lib/python3.10/dist-packages/GPy/kern/src/stationary.py:166: RuntimeWarning:overflow encountered in true_divide\n",
            " /usr/local/lib/python3.10/dist-packages/GPy/kern/src/stationary.py:243: RuntimeWarning:invalid value encountered in true_divide\n"
          ]
        },
        {
          "output_type": "stream",
          "name": "stdout",
          "text": [
            "H-F predictions\n",
            "\n",
            "MSE R: 0.005340591818595426\n",
            "\n",
            "MSE C: 61.382998731207735\n",
            "H-F predictions\n",
            "\n",
            "MSE R: 0.00737999448947668\n",
            "\n",
            "MSE C: 234.10905050475583\n",
            "[0.11488430842324172, 0.08334768531818068, 0.16354880052335416, 0.06323569059547818, 0.09125257841713082, 0.04929876623473866, 0.06853627081583466, 0.09346101579144646, 0.07307935288845561, 0.08590689430701519]\n",
            "[17.939145516054886, 7.9665778859560135, 6.001744851715524, 15.183706396074648, 11.574109590098528, 14.843281641420669, 16.83203701462446, 15.015894146895452, 7.83473029090394, 15.300622552849143]\n",
            "Train split:  0.7\n",
            "H-F predictions\n",
            "\n",
            "MSE R: 0.010395368155558242\n",
            "\n",
            "MSE C: 461.64737279966647\n"
          ]
        },
        {
          "output_type": "stream",
          "name": "stderr",
          "text": [
            " /usr/local/lib/python3.10/dist-packages/GPy/kern/src/stationary.py:166: RuntimeWarning:overflow encountered in true_divide\n",
            " /usr/local/lib/python3.10/dist-packages/GPy/kern/src/stationary.py:137: RuntimeWarning:overflow encountered in square\n",
            " /usr/local/lib/python3.10/dist-packages/GPy/kern/src/stationary.py:138: RuntimeWarning:invalid value encountered in add\n",
            " /usr/local/lib/python3.10/dist-packages/GPy/kern/src/rbf.py:76: RuntimeWarning:invalid value encountered in multiply\n"
          ]
        },
        {
          "output_type": "stream",
          "name": "stdout",
          "text": [
            "H-F predictions\n",
            "\n",
            "MSE R: 0.0075186576300061815\n",
            "\n",
            "MSE C: 388.03922715228293\n"
          ]
        },
        {
          "output_type": "stream",
          "name": "stderr",
          "text": [
            " /usr/local/lib/python3.10/dist-packages/GPy/kern/src/stationary.py:166: RuntimeWarning:overflow encountered in true_divide\n",
            " /usr/local/lib/python3.10/dist-packages/GPy/kern/src/stationary.py:137: RuntimeWarning:overflow encountered in square\n",
            " /usr/local/lib/python3.10/dist-packages/GPy/kern/src/stationary.py:138: RuntimeWarning:invalid value encountered in add\n",
            " /usr/local/lib/python3.10/dist-packages/GPy/kern/src/rbf.py:76: RuntimeWarning:invalid value encountered in multiply\n",
            " /usr/local/lib/python3.10/dist-packages/GPy/kern/src/stationary.py:243: RuntimeWarning:invalid value encountered in true_divide\n"
          ]
        },
        {
          "output_type": "stream",
          "name": "stdout",
          "text": [
            "H-F predictions\n",
            "\n",
            "MSE R: 0.004579755307552599\n",
            "\n",
            "MSE C: 253.94331185460166\n"
          ]
        },
        {
          "output_type": "stream",
          "name": "stderr",
          "text": [
            " /usr/local/lib/python3.10/dist-packages/GPy/kern/src/stationary.py:243: RuntimeWarning:invalid value encountered in true_divide\n",
            " /usr/local/lib/python3.10/dist-packages/GPy/kern/src/stationary.py:166: RuntimeWarning:overflow encountered in true_divide\n",
            " /usr/local/lib/python3.10/dist-packages/GPy/kern/src/stationary.py:137: RuntimeWarning:overflow encountered in square\n",
            " /usr/local/lib/python3.10/dist-packages/GPy/kern/src/stationary.py:138: RuntimeWarning:invalid value encountered in add\n",
            " /usr/local/lib/python3.10/dist-packages/GPy/kern/src/rbf.py:76: RuntimeWarning:invalid value encountered in multiply\n"
          ]
        },
        {
          "output_type": "stream",
          "name": "stdout",
          "text": [
            "H-F predictions\n",
            "\n",
            "MSE R: 0.008795698893308664\n",
            "\n",
            "MSE C: 96.13229905601824\n",
            "H-F predictions\n",
            "\n",
            "MSE R: 0.009177702336477888\n",
            "\n",
            "MSE C: 363.62917253765625\n",
            "H-F predictions\n",
            "\n",
            "MSE R: 0.0021901820261371356\n",
            "\n",
            "MSE C: 110.47643310151943\n"
          ]
        },
        {
          "output_type": "stream",
          "name": "stderr",
          "text": [
            " /usr/local/lib/python3.10/dist-packages/GPy/kern/src/stationary.py:166: RuntimeWarning:overflow encountered in true_divide\n",
            " /usr/local/lib/python3.10/dist-packages/GPy/kern/src/stationary.py:137: RuntimeWarning:overflow encountered in square\n",
            " /usr/local/lib/python3.10/dist-packages/GPy/kern/src/stationary.py:138: RuntimeWarning:invalid value encountered in add\n",
            " /usr/local/lib/python3.10/dist-packages/GPy/kern/src/rbf.py:76: RuntimeWarning:invalid value encountered in multiply\n"
          ]
        },
        {
          "output_type": "stream",
          "name": "stdout",
          "text": [
            "H-F predictions\n",
            "\n",
            "MSE R: 0.003498683006802976\n",
            "\n",
            "MSE C: 204.75152353728055\n",
            "H-F predictions\n",
            "\n",
            "MSE R: 0.00973840915205743\n",
            "\n",
            "MSE C: 111.46574857560923\n"
          ]
        },
        {
          "output_type": "stream",
          "name": "stderr",
          "text": [
            " /usr/local/lib/python3.10/dist-packages/GPy/kern/src/stationary.py:166: RuntimeWarning:overflow encountered in true_divide\n",
            " /usr/local/lib/python3.10/dist-packages/GPy/kern/src/stationary.py:137: RuntimeWarning:overflow encountered in square\n",
            " /usr/local/lib/python3.10/dist-packages/GPy/kern/src/stationary.py:138: RuntimeWarning:invalid value encountered in add\n",
            " /usr/local/lib/python3.10/dist-packages/GPy/kern/src/rbf.py:76: RuntimeWarning:invalid value encountered in multiply\n"
          ]
        },
        {
          "output_type": "stream",
          "name": "stdout",
          "text": [
            "H-F predictions\n",
            "\n",
            "MSE R: 0.004534995470763616\n",
            "\n",
            "MSE C: 36.437760567346494\n",
            "H-F predictions\n",
            "\n",
            "MSE R: 0.005527108865968356\n",
            "\n",
            "MSE C: 154.69609476071003\n",
            "[0.10195767825700153, 0.08671019334545496, 0.06767388940760387, 0.093785387418876, 0.09580032534640938, 0.04679938061702458, 0.05914966615969169, 0.09868337829673968, 0.06734237500091317, 0.07434452815082195]\n",
            "[21.48598084332355, 19.698711306892207, 15.935598885972302, 9.804708004628095, 19.06906323178085, 10.510776997992082, 14.309141257856131, 10.557734064448168, 6.036369816979945, 12.437688481414463]\n",
            "Train split:  0.75\n"
          ]
        },
        {
          "output_type": "stream",
          "name": "stderr",
          "text": [
            " /usr/local/lib/python3.10/dist-packages/GPy/kern/src/stationary.py:137: RuntimeWarning:overflow encountered in square\n",
            " /usr/local/lib/python3.10/dist-packages/GPy/kern/src/stationary.py:138: RuntimeWarning:invalid value encountered in add\n",
            " /usr/local/lib/python3.10/dist-packages/GPy/kern/src/rbf.py:76: RuntimeWarning:invalid value encountered in multiply\n",
            " /usr/local/lib/python3.10/dist-packages/GPy/kern/src/stationary.py:166: RuntimeWarning:overflow encountered in true_divide\n"
          ]
        },
        {
          "output_type": "stream",
          "name": "stdout",
          "text": [
            "H-F predictions\n",
            "\n",
            "MSE R: 0.002391543468825986\n",
            "\n",
            "MSE C: 102.3922962699457\n",
            "H-F predictions\n",
            "\n",
            "MSE R: 0.009854898477631874\n",
            "\n",
            "MSE C: 387.9661335168349\n"
          ]
        },
        {
          "output_type": "stream",
          "name": "stderr",
          "text": [
            " /usr/local/lib/python3.10/dist-packages/GPy/kern/src/stationary.py:243: RuntimeWarning:invalid value encountered in true_divide\n",
            " /usr/local/lib/python3.10/dist-packages/GPy/kern/src/stationary.py:166: RuntimeWarning:overflow encountered in true_divide\n",
            " /usr/local/lib/python3.10/dist-packages/GPy/kern/src/stationary.py:137: RuntimeWarning:overflow encountered in square\n",
            " /usr/local/lib/python3.10/dist-packages/GPy/kern/src/stationary.py:138: RuntimeWarning:invalid value encountered in add\n",
            " /usr/local/lib/python3.10/dist-packages/GPy/kern/src/rbf.py:76: RuntimeWarning:invalid value encountered in multiply\n"
          ]
        },
        {
          "output_type": "stream",
          "name": "stdout",
          "text": [
            "H-F predictions\n",
            "\n",
            "MSE R: 0.010929354348725029\n",
            "\n",
            "MSE C: 257.0641395882227\n",
            "H-F predictions\n",
            "\n",
            "MSE R: 0.005109618719213501\n",
            "\n",
            "MSE C: 204.17964973495947\n"
          ]
        },
        {
          "output_type": "stream",
          "name": "stderr",
          "text": [
            " /usr/local/lib/python3.10/dist-packages/GPy/kern/src/stationary.py:166: RuntimeWarning:overflow encountered in true_divide\n",
            " /usr/local/lib/python3.10/dist-packages/GPy/kern/src/stationary.py:137: RuntimeWarning:overflow encountered in square\n",
            " /usr/local/lib/python3.10/dist-packages/GPy/kern/src/stationary.py:138: RuntimeWarning:invalid value encountered in add\n",
            " /usr/local/lib/python3.10/dist-packages/GPy/kern/src/rbf.py:76: RuntimeWarning:invalid value encountered in multiply\n"
          ]
        },
        {
          "output_type": "stream",
          "name": "stdout",
          "text": [
            "H-F predictions\n",
            "\n",
            "MSE R: 0.008998064829492223\n",
            "\n",
            "MSE C: 499.02143753501275\n",
            "H-F predictions\n",
            "\n",
            "MSE R: 0.002313919013546299\n",
            "\n",
            "MSE C: 110.07830989143828\n"
          ]
        },
        {
          "output_type": "stream",
          "name": "stderr",
          "text": [
            " /usr/local/lib/python3.10/dist-packages/GPy/kern/src/stationary.py:166: RuntimeWarning:overflow encountered in true_divide\n",
            " /usr/local/lib/python3.10/dist-packages/GPy/kern/src/stationary.py:137: RuntimeWarning:overflow encountered in square\n",
            " /usr/local/lib/python3.10/dist-packages/GPy/kern/src/stationary.py:138: RuntimeWarning:invalid value encountered in add\n",
            " /usr/local/lib/python3.10/dist-packages/GPy/kern/src/rbf.py:76: RuntimeWarning:invalid value encountered in multiply\n"
          ]
        },
        {
          "output_type": "stream",
          "name": "stdout",
          "text": [
            "H-F predictions\n",
            "\n",
            "MSE R: 0.002593141654581791\n",
            "\n",
            "MSE C: 30.182360495259996\n",
            "H-F predictions\n",
            "\n",
            "MSE R: 0.009172977720027307\n",
            "\n",
            "MSE C: 214.09905236301674\n"
          ]
        },
        {
          "output_type": "stream",
          "name": "stderr",
          "text": [
            " /usr/local/lib/python3.10/dist-packages/GPy/kern/src/stationary.py:243: RuntimeWarning:invalid value encountered in true_divide\n"
          ]
        },
        {
          "output_type": "stream",
          "name": "stdout",
          "text": [
            "H-F predictions\n",
            "\n",
            "MSE R: 0.005019941857960069\n",
            "\n",
            "MSE C: 235.43245796713975\n"
          ]
        },
        {
          "output_type": "stream",
          "name": "stderr",
          "text": [
            " /usr/local/lib/python3.10/dist-packages/GPy/kern/src/stationary.py:243: RuntimeWarning:invalid value encountered in true_divide\n",
            " /usr/local/lib/python3.10/dist-packages/GPy/kern/src/stationary.py:166: RuntimeWarning:overflow encountered in true_divide\n",
            " /usr/local/lib/python3.10/dist-packages/GPy/kern/src/stationary.py:137: RuntimeWarning:overflow encountered in square\n",
            " /usr/local/lib/python3.10/dist-packages/GPy/kern/src/stationary.py:138: RuntimeWarning:invalid value encountered in add\n",
            " /usr/local/lib/python3.10/dist-packages/GPy/kern/src/rbf.py:76: RuntimeWarning:invalid value encountered in multiply\n"
          ]
        },
        {
          "output_type": "stream",
          "name": "stdout",
          "text": [
            "H-F predictions\n",
            "\n",
            "MSE R: 0.0035649085108729744\n",
            "\n",
            "MSE C: 153.41000206615146\n",
            "[0.048903409582829564, 0.09927184131279058, 0.10454355240149929, 0.07148159706675208, 0.09485813001262582, 0.04810321209177511, 0.0509228991179979, 0.09577566350606666, 0.07085154802797233, 0.05970685480640372]\n",
            "[10.118907859544215, 19.696855929737488, 16.03321987587717, 14.289144471764553, 22.338787736468888, 10.491821095092991, 5.493847512923889, 14.632123986729225, 15.343808457066315, 12.385879139816902]\n",
            "Train split:  0.8\n",
            "H-F predictions\n",
            "\n",
            "MSE R: 0.0012068430652119003\n",
            "\n",
            "MSE C: 374.15562322386586\n"
          ]
        },
        {
          "output_type": "stream",
          "name": "stderr",
          "text": [
            " /usr/local/lib/python3.10/dist-packages/GPy/kern/src/stationary.py:166: RuntimeWarning:overflow encountered in true_divide\n",
            " /usr/local/lib/python3.10/dist-packages/GPy/kern/src/stationary.py:137: RuntimeWarning:overflow encountered in square\n",
            " /usr/local/lib/python3.10/dist-packages/GPy/kern/src/stationary.py:138: RuntimeWarning:invalid value encountered in add\n",
            " /usr/local/lib/python3.10/dist-packages/GPy/kern/src/rbf.py:76: RuntimeWarning:invalid value encountered in multiply\n"
          ]
        },
        {
          "output_type": "stream",
          "name": "stdout",
          "text": [
            "H-F predictions\n",
            "\n",
            "MSE R: 0.0012449606454341866\n",
            "\n",
            "MSE C: 241.55666343755794\n"
          ]
        },
        {
          "output_type": "stream",
          "name": "stderr",
          "text": [
            " /usr/local/lib/python3.10/dist-packages/GPy/kern/src/stationary.py:166: RuntimeWarning:overflow encountered in true_divide\n",
            " /usr/local/lib/python3.10/dist-packages/GPy/kern/src/stationary.py:137: RuntimeWarning:overflow encountered in square\n",
            " /usr/local/lib/python3.10/dist-packages/GPy/kern/src/stationary.py:138: RuntimeWarning:invalid value encountered in add\n",
            " /usr/local/lib/python3.10/dist-packages/GPy/kern/src/rbf.py:76: RuntimeWarning:invalid value encountered in multiply\n"
          ]
        },
        {
          "output_type": "stream",
          "name": "stdout",
          "text": [
            "H-F predictions\n",
            "\n",
            "MSE R: 0.007583270846877157\n",
            "\n",
            "MSE C: 588.0291964501748\n"
          ]
        },
        {
          "output_type": "stream",
          "name": "stderr",
          "text": [
            " /usr/local/lib/python3.10/dist-packages/GPy/kern/src/stationary.py:166: RuntimeWarning:overflow encountered in true_divide\n",
            " /usr/local/lib/python3.10/dist-packages/GPy/kern/src/stationary.py:137: RuntimeWarning:overflow encountered in square\n",
            " /usr/local/lib/python3.10/dist-packages/GPy/kern/src/stationary.py:138: RuntimeWarning:invalid value encountered in add\n",
            " /usr/local/lib/python3.10/dist-packages/GPy/kern/src/rbf.py:76: RuntimeWarning:invalid value encountered in multiply\n",
            " /usr/local/lib/python3.10/dist-packages/GPy/kern/src/stationary.py:243: RuntimeWarning:invalid value encountered in true_divide\n"
          ]
        },
        {
          "output_type": "stream",
          "name": "stdout",
          "text": [
            "H-F predictions\n",
            "\n",
            "MSE R: 0.0033703857974334162\n",
            "\n",
            "MSE C: 104.18217704165747\n"
          ]
        },
        {
          "output_type": "stream",
          "name": "stderr",
          "text": [
            " /usr/local/lib/python3.10/dist-packages/GPy/kern/src/stationary.py:166: RuntimeWarning:overflow encountered in true_divide\n",
            " /usr/local/lib/python3.10/dist-packages/GPy/kern/src/stationary.py:137: RuntimeWarning:overflow encountered in square\n",
            " /usr/local/lib/python3.10/dist-packages/GPy/kern/src/stationary.py:138: RuntimeWarning:invalid value encountered in add\n",
            " /usr/local/lib/python3.10/dist-packages/GPy/kern/src/rbf.py:76: RuntimeWarning:invalid value encountered in multiply\n"
          ]
        },
        {
          "output_type": "stream",
          "name": "stdout",
          "text": [
            "H-F predictions\n",
            "\n",
            "MSE R: 0.007478798872599536\n",
            "\n",
            "MSE C: 21.39636877508742\n"
          ]
        },
        {
          "output_type": "stream",
          "name": "stderr",
          "text": [
            " /usr/local/lib/python3.10/dist-packages/GPy/kern/src/stationary.py:166: RuntimeWarning:overflow encountered in true_divide\n",
            " /usr/local/lib/python3.10/dist-packages/GPy/kern/src/stationary.py:137: RuntimeWarning:overflow encountered in square\n",
            " /usr/local/lib/python3.10/dist-packages/GPy/kern/src/stationary.py:138: RuntimeWarning:invalid value encountered in add\n",
            " /usr/local/lib/python3.10/dist-packages/GPy/kern/src/rbf.py:76: RuntimeWarning:invalid value encountered in multiply\n"
          ]
        },
        {
          "output_type": "stream",
          "name": "stdout",
          "text": [
            "H-F predictions\n",
            "\n",
            "MSE R: 0.003916141803663248\n",
            "\n",
            "MSE C: 210.50757164421432\n",
            "H-F predictions\n",
            "\n",
            "MSE R: 0.002801969731701798\n",
            "\n",
            "MSE C: 198.09095883431746\n"
          ]
        },
        {
          "output_type": "stream",
          "name": "stderr",
          "text": [
            " /usr/local/lib/python3.10/dist-packages/GPy/kern/src/stationary.py:166: RuntimeWarning:overflow encountered in true_divide\n",
            " /usr/local/lib/python3.10/dist-packages/GPy/kern/src/stationary.py:137: RuntimeWarning:overflow encountered in square\n",
            " /usr/local/lib/python3.10/dist-packages/GPy/kern/src/stationary.py:138: RuntimeWarning:invalid value encountered in add\n",
            " /usr/local/lib/python3.10/dist-packages/GPy/kern/src/rbf.py:76: RuntimeWarning:invalid value encountered in multiply\n"
          ]
        },
        {
          "output_type": "stream",
          "name": "stdout",
          "text": [
            "H-F predictions\n",
            "\n",
            "MSE R: 0.005721778406102114\n",
            "\n",
            "MSE C: 203.86327138600734\n",
            "H-F predictions\n",
            "\n",
            "MSE R: 0.00722630656964451\n",
            "\n",
            "MSE C: 554.7652650642463\n",
            "H-F predictions\n",
            "\n",
            "MSE R: 0.0036189402667619634\n",
            "\n",
            "MSE C: 154.31627564777952\n",
            "[0.03473964687805419, 0.03528399985027472, 0.08708197773866391, 0.05805502387764057, 0.08648004898587613, 0.06257908439457426, 0.05293363516424881, 0.07564243786461482, 0.08500768535635181, 0.0601576285001492]\n",
            "[19.34310273001376, 15.542093277211984, 24.249313319147305, 10.20696708340227, 4.62562090697967, 14.508879062291971, 14.074478989799852, 14.27806959592253, 23.553455480337618, 12.422410218946222]\n",
            "Train split:  0.85\n",
            "H-F predictions\n",
            "\n",
            "MSE R: 0.0017794411873245674\n",
            "\n",
            "MSE C: 97.02558135928447\n"
          ]
        },
        {
          "output_type": "stream",
          "name": "stderr",
          "text": [
            " /usr/local/lib/python3.10/dist-packages/GPy/kern/src/stationary.py:166: RuntimeWarning:overflow encountered in true_divide\n",
            " /usr/local/lib/python3.10/dist-packages/GPy/kern/src/stationary.py:137: RuntimeWarning:overflow encountered in square\n",
            " /usr/local/lib/python3.10/dist-packages/GPy/kern/src/stationary.py:138: RuntimeWarning:invalid value encountered in add\n",
            " /usr/local/lib/python3.10/dist-packages/GPy/kern/src/rbf.py:76: RuntimeWarning:invalid value encountered in multiply\n"
          ]
        },
        {
          "output_type": "stream",
          "name": "stdout",
          "text": [
            "H-F predictions\n",
            "\n",
            "MSE R: 0.001374196848152109\n",
            "\n",
            "MSE C: 16.834308021365676\n"
          ]
        },
        {
          "output_type": "stream",
          "name": "stderr",
          "text": [
            " /usr/local/lib/python3.10/dist-packages/GPy/kern/src/stationary.py:166: RuntimeWarning:overflow encountered in true_divide\n",
            " /usr/local/lib/python3.10/dist-packages/GPy/kern/src/stationary.py:137: RuntimeWarning:overflow encountered in square\n",
            " /usr/local/lib/python3.10/dist-packages/GPy/kern/src/stationary.py:138: RuntimeWarning:invalid value encountered in add\n",
            " /usr/local/lib/python3.10/dist-packages/GPy/kern/src/rbf.py:76: RuntimeWarning:invalid value encountered in multiply\n",
            " /usr/local/lib/python3.10/dist-packages/GPy/kern/src/stationary.py:243: RuntimeWarning:invalid value encountered in true_divide\n"
          ]
        },
        {
          "output_type": "stream",
          "name": "stdout",
          "text": [
            "H-F predictions\n",
            "\n",
            "MSE R: 0.002223524532728185\n",
            "\n",
            "MSE C: 162.9780977370756\n",
            "H-F predictions\n",
            "\n",
            "MSE R: 0.0022881558187406526\n",
            "\n",
            "MSE C: 103.94943686703529\n"
          ]
        },
        {
          "output_type": "stream",
          "name": "stderr",
          "text": [
            " /usr/local/lib/python3.10/dist-packages/GPy/kern/src/stationary.py:243: RuntimeWarning:invalid value encountered in true_divide\n"
          ]
        },
        {
          "output_type": "stream",
          "name": "stdout",
          "text": [
            "H-F predictions\n",
            "\n",
            "MSE R: 0.006902901125236658\n",
            "\n",
            "MSE C: 303.509233936594\n"
          ]
        },
        {
          "output_type": "stream",
          "name": "stderr",
          "text": [
            " /usr/local/lib/python3.10/dist-packages/GPy/kern/src/stationary.py:166: RuntimeWarning:overflow encountered in true_divide\n",
            " /usr/local/lib/python3.10/dist-packages/GPy/kern/src/stationary.py:137: RuntimeWarning:overflow encountered in square\n",
            " /usr/local/lib/python3.10/dist-packages/GPy/kern/src/stationary.py:138: RuntimeWarning:invalid value encountered in add\n",
            " /usr/local/lib/python3.10/dist-packages/GPy/kern/src/rbf.py:76: RuntimeWarning:invalid value encountered in multiply\n"
          ]
        },
        {
          "output_type": "stream",
          "name": "stdout",
          "text": [
            "H-F predictions\n",
            "\n",
            "MSE R: 0.002912361374182588\n",
            "\n",
            "MSE C: 28.452413455822676\n"
          ]
        },
        {
          "output_type": "stream",
          "name": "stderr",
          "text": [
            " /usr/local/lib/python3.10/dist-packages/GPy/kern/src/stationary.py:166: RuntimeWarning:overflow encountered in true_divide\n",
            " /usr/local/lib/python3.10/dist-packages/GPy/kern/src/stationary.py:137: RuntimeWarning:overflow encountered in square\n",
            " /usr/local/lib/python3.10/dist-packages/GPy/kern/src/stationary.py:138: RuntimeWarning:invalid value encountered in add\n",
            " /usr/local/lib/python3.10/dist-packages/GPy/kern/src/rbf.py:76: RuntimeWarning:invalid value encountered in multiply\n",
            " /usr/local/lib/python3.10/dist-packages/GPy/kern/src/stationary.py:243: RuntimeWarning:invalid value encountered in true_divide\n"
          ]
        },
        {
          "output_type": "stream",
          "name": "stdout",
          "text": [
            "H-F predictions\n",
            "\n",
            "MSE R: 0.002573357785449384\n",
            "\n",
            "MSE C: 98.79854433189334\n",
            "H-F predictions\n",
            "\n",
            "MSE R: 0.005219582827650004\n",
            "\n",
            "MSE C: 95.92325742311115\n",
            "H-F predictions\n",
            "\n",
            "MSE R: 0.008910617839674983\n",
            "\n",
            "MSE C: 218.83803755656245\n"
          ]
        },
        {
          "output_type": "stream",
          "name": "stderr",
          "text": [
            " /usr/local/lib/python3.10/dist-packages/GPy/kern/src/stationary.py:166: RuntimeWarning:overflow encountered in true_divide\n",
            " /usr/local/lib/python3.10/dist-packages/GPy/kern/src/stationary.py:137: RuntimeWarning:overflow encountered in square\n",
            " /usr/local/lib/python3.10/dist-packages/GPy/kern/src/stationary.py:138: RuntimeWarning:invalid value encountered in add\n",
            " /usr/local/lib/python3.10/dist-packages/GPy/kern/src/rbf.py:76: RuntimeWarning:invalid value encountered in multiply\n"
          ]
        },
        {
          "output_type": "stream",
          "name": "stdout",
          "text": [
            "H-F predictions\n",
            "\n",
            "MSE R: 0.004483010620560575\n",
            "\n",
            "MSE C: 203.357505778909\n",
            "[0.04218342313426647, 0.037070161156273776, 0.047154263144790896, 0.047834671721886546, 0.08308369951582957, 0.053966298503627136, 0.050728274023954176, 0.07224668039190454, 0.09439606898422721, 0.06695528821953181]\n",
            "[9.850156412934998, 4.102963321962028, 12.76628754717187, 10.195559664237923, 17.421516407494327, 5.334080375830746, 9.93974568748584, 9.79404193492713, 14.79317537097977, 14.260347323221444]\n",
            "Train split:  0.9\n"
          ]
        },
        {
          "output_type": "stream",
          "name": "stderr",
          "text": [
            " /usr/local/lib/python3.10/dist-packages/GPy/kern/src/stationary.py:243: RuntimeWarning:invalid value encountered in true_divide\n"
          ]
        },
        {
          "output_type": "stream",
          "name": "stdout",
          "text": [
            "H-F predictions\n",
            "\n",
            "MSE R: 0.0018697483731091732\n",
            "\n",
            "MSE C: 94.7079679995377\n"
          ]
        },
        {
          "output_type": "stream",
          "name": "stderr",
          "text": [
            " /usr/local/lib/python3.10/dist-packages/GPy/kern/src/stationary.py:166: RuntimeWarning:overflow encountered in true_divide\n",
            " /usr/local/lib/python3.10/dist-packages/GPy/kern/src/stationary.py:137: RuntimeWarning:overflow encountered in square\n",
            " /usr/local/lib/python3.10/dist-packages/GPy/kern/src/stationary.py:138: RuntimeWarning:invalid value encountered in add\n",
            " /usr/local/lib/python3.10/dist-packages/GPy/kern/src/rbf.py:76: RuntimeWarning:invalid value encountered in multiply\n",
            " /usr/local/lib/python3.10/dist-packages/GPy/kern/src/stationary.py:243: RuntimeWarning:invalid value encountered in true_divide\n",
            " /usr/local/lib/python3.10/dist-packages/GPy/kern/src/stationary.py:137: RuntimeWarning:overflow encountered in square\n",
            " /usr/local/lib/python3.10/dist-packages/GPy/kern/src/stationary.py:138: RuntimeWarning:invalid value encountered in add\n",
            " /usr/local/lib/python3.10/dist-packages/GPy/kern/src/rbf.py:76: RuntimeWarning:invalid value encountered in multiply\n",
            " /usr/local/lib/python3.10/dist-packages/GPy/kern/src/stationary.py:166: RuntimeWarning:overflow encountered in true_divide\n"
          ]
        },
        {
          "output_type": "stream",
          "name": "stdout",
          "text": [
            "H-F predictions\n",
            "\n",
            "MSE R: 0.0013551100205783995\n",
            "\n",
            "MSE C: 483.7546480831342\n",
            "H-F predictions\n",
            "\n",
            "MSE R: 0.00132937649678765\n",
            "\n",
            "MSE C: 502.17264169167095\n",
            "H-F predictions\n",
            "\n",
            "MSE R: 0.002161059058108115\n",
            "\n",
            "MSE C: 103.9426938263222\n",
            "H-F predictions\n",
            "\n",
            "MSE R: 0.005346958459451336\n",
            "\n",
            "MSE C: 84.5107617962376\n",
            "H-F predictions\n",
            "\n",
            "MSE R: 0.0026867845340679984\n",
            "\n",
            "MSE C: 98.7964759195516\n"
          ]
        },
        {
          "output_type": "stream",
          "name": "stderr",
          "text": [
            " /usr/local/lib/python3.10/dist-packages/GPy/kern/src/stationary.py:137: RuntimeWarning:overflow encountered in square\n",
            " /usr/local/lib/python3.10/dist-packages/GPy/kern/src/stationary.py:138: RuntimeWarning:invalid value encountered in add\n",
            " /usr/local/lib/python3.10/dist-packages/GPy/kern/src/rbf.py:76: RuntimeWarning:invalid value encountered in multiply\n",
            " /usr/local/lib/python3.10/dist-packages/GPy/kern/src/stationary.py:166: RuntimeWarning:overflow encountered in true_divide\n"
          ]
        },
        {
          "output_type": "stream",
          "name": "stdout",
          "text": [
            "H-F predictions\n",
            "\n",
            "MSE R: 0.004410254405762638\n",
            "\n",
            "MSE C: 503.77789738037177\n"
          ]
        },
        {
          "output_type": "stream",
          "name": "stderr",
          "text": [
            " /usr/local/lib/python3.10/dist-packages/GPy/kern/src/stationary.py:166: RuntimeWarning:overflow encountered in true_divide\n",
            " /usr/local/lib/python3.10/dist-packages/GPy/kern/src/stationary.py:137: RuntimeWarning:overflow encountered in square\n",
            " /usr/local/lib/python3.10/dist-packages/GPy/kern/src/stationary.py:138: RuntimeWarning:invalid value encountered in add\n",
            " /usr/local/lib/python3.10/dist-packages/GPy/kern/src/rbf.py:76: RuntimeWarning:invalid value encountered in multiply\n"
          ]
        },
        {
          "output_type": "stream",
          "name": "stdout",
          "text": [
            "H-F predictions\n",
            "\n",
            "MSE R: 0.0056440265459178915\n",
            "\n",
            "MSE C: 211.45509637717822\n"
          ]
        },
        {
          "output_type": "stream",
          "name": "stderr",
          "text": [
            " /usr/local/lib/python3.10/dist-packages/GPy/kern/src/stationary.py:166: RuntimeWarning:overflow encountered in true_divide\n",
            " /usr/local/lib/python3.10/dist-packages/GPy/kern/src/stationary.py:137: RuntimeWarning:overflow encountered in square\n",
            " /usr/local/lib/python3.10/dist-packages/GPy/kern/src/stationary.py:138: RuntimeWarning:invalid value encountered in add\n",
            " /usr/local/lib/python3.10/dist-packages/GPy/kern/src/rbf.py:76: RuntimeWarning:invalid value encountered in multiply\n"
          ]
        },
        {
          "output_type": "stream",
          "name": "stdout",
          "text": [
            "H-F predictions\n",
            "\n",
            "MSE R: 0.0028760090288099897\n",
            "\n",
            "MSE C: 19.19540961607672\n"
          ]
        },
        {
          "output_type": "stream",
          "name": "stderr",
          "text": [
            " /usr/local/lib/python3.10/dist-packages/GPy/kern/src/stationary.py:137: RuntimeWarning:overflow encountered in square\n",
            " /usr/local/lib/python3.10/dist-packages/GPy/kern/src/stationary.py:138: RuntimeWarning:invalid value encountered in add\n",
            " /usr/local/lib/python3.10/dist-packages/GPy/kern/src/rbf.py:76: RuntimeWarning:invalid value encountered in multiply\n",
            " /usr/local/lib/python3.10/dist-packages/GPy/kern/src/stationary.py:166: RuntimeWarning:overflow encountered in true_divide\n"
          ]
        },
        {
          "output_type": "stream",
          "name": "stdout",
          "text": [
            "H-F predictions\n",
            "\n",
            "MSE R: 0.004482671124115018\n",
            "\n",
            "MSE C: 140.8317274471202\n",
            "[0.04324058710412213, 0.03681181903381575, 0.03646061569402868, 0.04648719240939503, 0.0731228996925815, 0.05183420235778687, 0.06640974631605392, 0.07512673655841769, 0.05362843489055027, 0.06695275292409579]\n",
            "[9.731801888629757, 21.99442311321518, 22.40920885912019, 10.19522897370737, 9.192973501334462, 9.939641639392821, 22.44499715705867, 14.541495671944418, 4.381256625224859, 11.867254419077742]\n",
            "Train split:  0.95\n"
          ]
        },
        {
          "output_type": "stream",
          "name": "stderr",
          "text": [
            " /usr/local/lib/python3.10/dist-packages/GPy/kern/src/stationary.py:243: RuntimeWarning:invalid value encountered in true_divide\n",
            " /usr/local/lib/python3.10/dist-packages/GPy/kern/src/stationary.py:166: RuntimeWarning:overflow encountered in true_divide\n",
            " /usr/local/lib/python3.10/dist-packages/GPy/kern/src/stationary.py:137: RuntimeWarning:overflow encountered in square\n",
            " /usr/local/lib/python3.10/dist-packages/GPy/kern/src/stationary.py:138: RuntimeWarning:invalid value encountered in add\n",
            " /usr/local/lib/python3.10/dist-packages/GPy/kern/src/rbf.py:76: RuntimeWarning:invalid value encountered in multiply\n"
          ]
        },
        {
          "output_type": "stream",
          "name": "stdout",
          "text": [
            "H-F predictions\n",
            "\n",
            "MSE R: 0.002258291662874143\n",
            "\n",
            "MSE C: 199.65652851273637\n"
          ]
        },
        {
          "output_type": "stream",
          "name": "stderr",
          "text": [
            " /usr/local/lib/python3.10/dist-packages/GPy/kern/src/stationary.py:243: RuntimeWarning:invalid value encountered in true_divide\n",
            " /usr/local/lib/python3.10/dist-packages/GPy/kern/src/stationary.py:166: RuntimeWarning:overflow encountered in true_divide\n",
            " /usr/local/lib/python3.10/dist-packages/GPy/kern/src/stationary.py:137: RuntimeWarning:overflow encountered in square\n",
            " /usr/local/lib/python3.10/dist-packages/GPy/kern/src/stationary.py:138: RuntimeWarning:invalid value encountered in add\n",
            " /usr/local/lib/python3.10/dist-packages/GPy/kern/src/rbf.py:76: RuntimeWarning:invalid value encountered in multiply\n"
          ]
        },
        {
          "output_type": "stream",
          "name": "stdout",
          "text": [
            "H-F predictions\n",
            "\n",
            "MSE R: 0.0022583655828117364\n",
            "\n",
            "MSE C: 199.65566249853117\n"
          ]
        },
        {
          "output_type": "stream",
          "name": "stderr",
          "text": [
            " /usr/local/lib/python3.10/dist-packages/GPy/kern/src/stationary.py:166: RuntimeWarning:overflow encountered in true_divide\n",
            " /usr/local/lib/python3.10/dist-packages/GPy/kern/src/stationary.py:137: RuntimeWarning:overflow encountered in square\n",
            " /usr/local/lib/python3.10/dist-packages/GPy/kern/src/stationary.py:138: RuntimeWarning:invalid value encountered in add\n",
            " /usr/local/lib/python3.10/dist-packages/GPy/kern/src/rbf.py:76: RuntimeWarning:invalid value encountered in multiply\n"
          ]
        },
        {
          "output_type": "stream",
          "name": "stdout",
          "text": [
            "H-F predictions\n",
            "\n",
            "MSE R: 0.0012318894525230213\n",
            "\n",
            "MSE C: 209.33595240184889\n"
          ]
        },
        {
          "output_type": "stream",
          "name": "stderr",
          "text": [
            " /usr/local/lib/python3.10/dist-packages/GPy/kern/src/stationary.py:137: RuntimeWarning:overflow encountered in square\n",
            " /usr/local/lib/python3.10/dist-packages/GPy/kern/src/stationary.py:138: RuntimeWarning:invalid value encountered in add\n",
            " /usr/local/lib/python3.10/dist-packages/GPy/kern/src/rbf.py:76: RuntimeWarning:invalid value encountered in multiply\n",
            " /usr/local/lib/python3.10/dist-packages/GPy/kern/src/stationary.py:166: RuntimeWarning:overflow encountered in true_divide\n"
          ]
        },
        {
          "output_type": "stream",
          "name": "stdout",
          "text": [
            "H-F predictions\n",
            "\n",
            "MSE R: 0.0025549518609189765\n",
            "\n",
            "MSE C: 109.74464966447336\n",
            "H-F predictions\n",
            "\n",
            "MSE R: 0.0019415988411337277\n",
            "\n",
            "MSE C: 108.39301790207745\n",
            "H-F predictions\n",
            "\n",
            "MSE R: 0.001891500190984246\n",
            "\n",
            "MSE C: 98.96106778768744\n",
            "H-F predictions\n",
            "\n",
            "MSE R: 0.004374255437911688\n",
            "\n",
            "MSE C: 96.30182690683601\n",
            "H-F predictions\n",
            "\n",
            "MSE R: 0.0019524079436978202\n",
            "\n",
            "MSE C: 96.06387443292924\n"
          ]
        },
        {
          "output_type": "stream",
          "name": "stderr",
          "text": [
            " /usr/local/lib/python3.10/dist-packages/GPy/kern/src/stationary.py:166: RuntimeWarning:overflow encountered in true_divide\n",
            " /usr/local/lib/python3.10/dist-packages/GPy/kern/src/stationary.py:137: RuntimeWarning:overflow encountered in square\n",
            " /usr/local/lib/python3.10/dist-packages/GPy/kern/src/stationary.py:138: RuntimeWarning:invalid value encountered in add\n",
            " /usr/local/lib/python3.10/dist-packages/GPy/kern/src/rbf.py:76: RuntimeWarning:invalid value encountered in multiply\n"
          ]
        },
        {
          "output_type": "stream",
          "name": "stdout",
          "text": [
            "H-F predictions\n",
            "\n",
            "MSE R: 0.0012319120943160432\n",
            "\n",
            "MSE C: 209.33595242358535\n",
            "H-F predictions\n",
            "\n",
            "MSE R: 0.005013024908124266\n",
            "\n",
            "MSE C: 195.91114719026376\n",
            "[0.04752148632854557, 0.04752226407497581, 0.03509828275746581, 0.05054653164084531, 0.04406357726210762, 0.0434913806516216, 0.06613815417678126, 0.044186060513444966, 0.035098605304428314, 0.0708027182255333]\n",
            "[14.129986854655469, 14.129956210071253, 14.46844678608761, 10.47590805918386, 10.411196756477011, 9.947917761405522, 9.813349423455582, 9.801218007621769, 14.468446786838777, 13.996826325644816]\n",
            "Train split:  0.5 ||    MSE R:  0.11121055743323845 ||    MSE C:  21.0225381888227 ||    std R:  0.03166965807239767 ||    std C:  5.510692321106828\n",
            "Train split:  0.55 ||    MSE R:  0.08614019191824598 ||    MSE C:  20.99999035912665 ||    std R:  0.025052434121357717 ||    std C:  6.725316689123867\n",
            "Train split:  0.6 ||    MSE R:  0.09029536730534118 ||    MSE C:  19.201811056437936 ||    std R:  0.02608419424679336 ||    std C:  5.987548401464089\n",
            "Train split:  0.65 ||    MSE R:  0.08865513633148761 ||    MSE C:  12.849184988659326 ||    std R:  0.030339811018162164 ||    std C:  3.9924836447651595\n",
            "Train split:  0.7 ||    MSE R:  0.07922468020005369 ||    MSE C:  13.984577289128776 ||    std R:  0.017863541968560756 ||    std C:  4.749051740995533\n",
            "Train split:  0.75 ||    MSE R:  0.07444187079267131 ||    MSE C:  14.08243960650216 ||    std R:  0.021289545156600607 ||    std C:  4.589932316714198\n",
            "Train split:  0.8 ||    MSE R:  0.06379611686104485 ||    MSE C:  15.280439066405316 ||    std R:  0.018627803788823116 ||    std C:  5.620900202669053\n",
            "Train split:  0.85 ||    MSE R:  0.05956188287962921 ||    MSE C:  10.845787404624607 ||    std R:  0.017863289277266468 ||    std C:  3.916061442374416\n",
            "Train split:  0.9 ||    MSE R:  0.05500749869808476 ||    MSE C:  13.669828184870548 ||    std R:  0.013797640800188414 ||    std C:  6.119667426407983\n",
            "Train split:  0.95 ||    MSE R:  0.04844690609357495 ||    MSE C:  12.164325297144167 ||    std R:  0.01112281832495239 ||    std C:  2.0892960626381734\n"
          ]
        }
      ]
    },
    {
      "cell_type": "code",
      "source": [
        "# Export values\n",
        "np.save('RMSE_R_sfGP.npy', RMSE_list_R)\n",
        "np.save('RMSE_C_sfGP.npy', RMSE_list_C)\n",
        "np.save('std_R_sfGP', std_R)\n",
        "np.save('std_C_sfGP', std_C)"
      ],
      "metadata": {
        "id": "zKcptyso1k25"
      },
      "execution_count": 12,
      "outputs": []
    }
  ]
}
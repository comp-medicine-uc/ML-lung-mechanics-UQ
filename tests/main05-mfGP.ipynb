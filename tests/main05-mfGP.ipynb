{
  "cells": [
    {
      "cell_type": "markdown",
      "metadata": {
        "id": "unLhtIRSjXzd"
      },
      "source": [
        "# Multi-fidelity GP surrogate model"
      ]
    },
    {
      "cell_type": "markdown",
      "source": [
        "## General settings"
      ],
      "metadata": {
        "id": "-azKDEt-TQ5m"
      }
    },
    {
      "cell_type": "markdown",
      "source": [
        "We begin by importing the necessary libraries and adjust settings for plotting:"
      ],
      "metadata": {
        "id": "xA6cOfEhTRrd"
      }
    },
    {
      "cell_type": "code",
      "execution_count": null,
      "metadata": {
        "id": "7WR4JU530F96"
      },
      "outputs": [],
      "source": [
        "# General imports\n",
        "import numpy as np\n",
        "import matplotlib.pyplot as plt\n",
        "\n",
        "from sklearn.metrics import mean_squared_error\n",
        "from sklearn.metrics import r2_score\n",
        "from matplotlib import colors as mcolors\n",
        "from IPython.display import clear_output\n",
        "\n",
        "colors = dict(mcolors.BASE_COLORS, **mcolors.CSS4_COLORS)\n",
        "%matplotlib inline\n",
        "\n",
        "np.random.seed(20)"
      ]
    },
    {
      "cell_type": "code",
      "source": [
        "plt.rcParams['font.family'] = 'serif'\n",
        "plt.rcParams['font.serif'] = ['Times New Roman'] + plt.rcParams['font.serif']"
      ],
      "metadata": {
        "id": "fCq0OX0-h2ic"
      },
      "execution_count": null,
      "outputs": []
    },
    {
      "cell_type": "markdown",
      "source": [
        "Next, we install the Emukit package and import the associated packages:"
      ],
      "metadata": {
        "id": "ot_E5ar1TY1d"
      }
    },
    {
      "cell_type": "code",
      "execution_count": null,
      "metadata": {
        "colab": {
          "base_uri": "https://localhost:8080/"
        },
        "id": "btOuJ9gbjfVa",
        "outputId": "d91e94c2-9157-48c4-bd26-6d15aa6b4e95"
      },
      "outputs": [
        {
          "output_type": "stream",
          "name": "stdout",
          "text": [
            "Emukit installed\n"
          ]
        }
      ],
      "source": [
        "!pip install emukit\n",
        "clear_output()\n",
        "print('Emukit installed')"
      ]
    },
    {
      "cell_type": "code",
      "execution_count": null,
      "metadata": {
        "id": "gIHwbqJBj2Ox"
      },
      "outputs": [],
      "source": [
        "# Emukit imports\n",
        "import GPy\n",
        "import emukit.multi_fidelity\n",
        "import emukit.test_functions\n",
        "from emukit.model_wrappers.gpy_model_wrappers import GPyMultiOutputWrapper\n",
        "from emukit.multi_fidelity.models import GPyLinearMultiFidelityModel\n",
        "import emukit.test_functions.multi_fidelity"
      ]
    },
    {
      "cell_type": "markdown",
      "source": [
        "## Import datasets files"
      ],
      "metadata": {
        "id": "zxsdSsKtT0MK"
      }
    },
    {
      "cell_type": "markdown",
      "source": [
        "Next, we import and load the high (HF) and low fidelity (LF) datasets. Each sample/observations of both datasets consists in an input and output array of the form:\n",
        "\n",
        "\\begin{array}{cc}\n",
        "\\text{Input} & \\text{Output}\\\\\n",
        "[ c, \\beta, c_1, c_3, k, K_s ] & [ \\mathrm{C_{rs}}, \\mathrm{R} ]\n",
        "\\end{array}\n",
        "\\\n",
        ",where the input contains our six model parameters ($c$, $\\beta$, $c_1$ and $c_3$ from the tissue constitutive model + permeability $k$ + chest wall stiffness $K_s$) and the output our two variables that represent the lung response (respiratory system compliance $\\mathrm{C_{rs}}$ and airways resistance $\\mathrm{R}$).\n",
        "\n",
        "\\\n",
        "- For the surrogate model training, we have 20 HF samples and 200 LF samples.\n",
        "\n",
        "- For the surrogate model testing, we have 100 HF and LF samples (both with the same input)."
      ],
      "metadata": {
        "id": "oLTlIas4T1PH"
      }
    },
    {
      "cell_type": "markdown",
      "source": [
        "Getting files from repository"
      ],
      "metadata": {
        "id": "1Bqdqyb6dLuJ"
      }
    },
    {
      "cell_type": "code",
      "source": [
        "!wget https://raw.githubusercontent.com/josebarahonay/datos/master/training_input_data_20_hf.npy\n",
        "!wget https://raw.githubusercontent.com/josebarahonay/datos/master/training_output_data_20_hf.npy\n",
        "!wget https://raw.githubusercontent.com/josebarahonay/datos/master/testing_input_data_100_hf.npy\n",
        "!wget https://raw.githubusercontent.com/josebarahonay/datos/master/testing_output_data_100_hf.npy\n",
        "!wget https://raw.githubusercontent.com/josebarahonay/datos/master/training_input_data_200_lf.npy\n",
        "!wget https://raw.githubusercontent.com/josebarahonay/datos/master/training_output_data_200_lf.npy\n",
        "!wget https://raw.githubusercontent.com/josebarahonay/datos/master/testing_input_data_100_lf.npy\n",
        "!wget https://raw.githubusercontent.com/josebarahonay/datos/master/testing_output_data_100_lf.npy\n",
        "\n",
        "clear_output()"
      ],
      "metadata": {
        "id": "GGJIPfdlieNE"
      },
      "execution_count": null,
      "outputs": []
    },
    {
      "cell_type": "code",
      "execution_count": null,
      "metadata": {
        "colab": {
          "base_uri": "https://localhost:8080/"
        },
        "id": "vkmjLTFkk70l",
        "outputId": "8d526ccd-1c0c-436f-e444-376fd333b62a"
      },
      "outputs": [
        {
          "output_type": "stream",
          "name": "stdout",
          "text": [
            "Checking size of HF and LF datasets:\n",
            "\n",
            "Training X HF size : (20, 6)\n",
            "Training Y HF size : (20, 2)\n",
            "Training X LF size : (200, 6)\n",
            "Training Y LF size : (200, 2)\n",
            "\n",
            "Testing X HF size : (100, 6)\n",
            "Testing Y HF size : (100, 2)\n",
            "Testing X LF size : (100, 6)\n",
            "Testing Y LF size : (100, 2)\n"
          ]
        }
      ],
      "source": [
        "# High Fidelity (HF) and Low Fidelity (LF) training datasets\n",
        "X_hf = np.load('training_input_data_20_hf.npy')\n",
        "Y_hf = np.load('training_output_data_20_hf.npy')\n",
        "\n",
        "X_lf = np.load('training_input_data_200_lf.npy')\n",
        "Y_lf = np.load('training_output_data_200_lf.npy')\n",
        "\n",
        "# High Fidelity (HF) and Low Fidelity (LF) testing datasets\n",
        "X_hf_100 = np.load('testing_input_data_100_hf.npy')\n",
        "Y_hf_100 = np.load('testing_output_data_100_hf.npy')\n",
        "\n",
        "X_lf_100 = np.load('testing_input_data_100_lf.npy')\n",
        "Y_lf_100 = np.load('testing_output_data_100_lf.npy')\n",
        "\n",
        "print(\"Checking size of HF and LF datasets:\")\n",
        "print(\"\")\n",
        "print(\"Training X HF size :\", X_hf.shape)\n",
        "print(\"Training Y HF size :\", Y_hf.shape)\n",
        "print(\"Training X LF size :\", X_lf.shape)\n",
        "print(\"Training Y LF size :\", Y_lf.shape)\n",
        "print(\"\")\n",
        "print(\"Testing X HF size :\", X_hf_100.shape)\n",
        "print(\"Testing Y HF size :\", Y_hf_100.shape)\n",
        "print(\"Testing X LF size :\", X_lf_100.shape)\n",
        "print(\"Testing Y LF size :\", Y_lf_100.shape)"
      ]
    },
    {
      "cell_type": "markdown",
      "source": [
        "## Data preprocessing for multi-fidelity modelling"
      ],
      "metadata": {
        "id": "leE3Rgo4eEk9"
      }
    },
    {
      "cell_type": "markdown",
      "metadata": {
        "id": "4LkjckCpwyT5"
      },
      "source": [
        "We divide our HF and LF training datasets into training and validation. As there are only a few HF observations, we want to use the majority of them for training our surrogate model. Thus, we specify a training size of 95%, leaving only one observation for the internal model validation.The testing dataset remains untouched for the entire analysis and is only used to evaluate the performance after we trained our surrogate model."
      ]
    },
    {
      "cell_type": "code",
      "execution_count": null,
      "metadata": {
        "id": "KQI0heoe7NUv"
      },
      "outputs": [],
      "source": [
        "from sklearn.model_selection import train_test_split\n",
        "# Next the LF and HF data is split into Training and Testing set\n",
        "X_lf_train, X_lf_test = train_test_split(X_lf, train_size=0.95, shuffle=True, random_state=1) # this split the input data\n",
        "Y_lf_train, Y_lf_test = train_test_split(Y_lf, train_size=0.95, shuffle=True, random_state=1) # this split the output data\n",
        "\n",
        "X_hf_train, X_hf_test = train_test_split(X_hf, train_size=0.95, shuffle=True, random_state=1) # this split the input data\n",
        "Y_hf_train, Y_hf_test = train_test_split(Y_hf, train_size=0.95, shuffle=True, random_state=1) # this split the output data\n",
        "\n",
        "X_hf_test_100 = X_hf_100\n",
        "Y_hf_test_100 = Y_hf_100\n",
        "\n",
        "X_lf_test_100 = X_lf_100\n",
        "Y_lf_test_100 = Y_lf_100"
      ]
    },
    {
      "cell_type": "markdown",
      "metadata": {
        "id": "xu2SHs7_W1lu"
      },
      "source": [
        "Given that the six model parameters have considerable differences in their scale, it is necessary to normalize the input dataset:"
      ]
    },
    {
      "cell_type": "code",
      "execution_count": null,
      "metadata": {
        "id": "6dMGHhy0dHhp"
      },
      "outputs": [],
      "source": [
        "from sklearn.preprocessing import StandardScaler\n",
        "## Normalize input data\n",
        "scaler = StandardScaler()\n",
        "\n",
        "X_lf_train = scaler.fit_transform(X_lf_train)\n",
        "X_lf_test = scaler.transform(X_lf_test)\n",
        "X_lf_test_100 = scaler.transform(X_lf_test_100)\n",
        "\n",
        "X_hf_train = scaler.fit_transform(X_hf_train)\n",
        "X_hf_test = scaler.transform(X_hf_test)\n",
        "X_hf_test_100 = scaler.transform(X_hf_test_100)"
      ]
    },
    {
      "cell_type": "markdown",
      "metadata": {
        "id": "uWmAYRuXw6SQ"
      },
      "source": [
        "Next, we have to transform the data according to the required format for a multi-fidelity dataset in Emukit"
      ]
    },
    {
      "cell_type": "code",
      "execution_count": null,
      "metadata": {
        "id": "zOIoCPHB7Ay8"
      },
      "outputs": [],
      "source": [
        "## Convert lists of arrays to ndarrays augmented with fidelity indicators\n",
        "\n",
        "from emukit.multi_fidelity.convert_lists_to_array import convert_x_list_to_array, convert_xy_lists_to_arrays\n",
        "\n",
        "X_train, Y_train = convert_xy_lists_to_arrays([X_lf_train, X_hf_train], [Y_lf_train, Y_hf_train])\n",
        "X_test, Y_test = convert_xy_lists_to_arrays([X_lf_test, X_hf_test], [Y_lf_test, Y_hf_test])\n",
        "\n",
        "X_test_100, Y_test_100 = convert_xy_lists_to_arrays([X_lf_test_100, X_hf_test_100], [Y_lf_test_100, Y_hf_test_100])"
      ]
    },
    {
      "cell_type": "markdown",
      "source": [
        "## ML surrogate model construction"
      ],
      "metadata": {
        "id": "LeNwESx5fU7a"
      }
    },
    {
      "cell_type": "markdown",
      "metadata": {
        "id": "h7S77TEY3CE_"
      },
      "source": [
        "After the data is prepared, we construct and train the linear multi-fidelity GP model.\n",
        "\n",
        "Regarding this, we want to learn a latent function $f$ from our dataset, such that $\\boldsymbol{y}=f(\\boldsymbol{X})+\\epsilon$.\n",
        "\n",
        "First, we establish that our prior knowledge about $f$ can be described by a GP with mean $m(\\boldsymbol{x})$ and covariance $k(\\boldsymbol{x}, \\boldsymbol{x}^{\\prime} ; \\boldsymbol{\\theta})$,\n",
        "\n",
        "\\begin{equation}\n",
        "    f(\\boldsymbol{x}) \\sim \\mathcal{G} \\mathcal{P}\\left(m(\\boldsymbol{x}), k(\\boldsymbol{x}, \\boldsymbol{x}^{\\prime} ; \\boldsymbol{\\theta})\\right),\n",
        "\\end{equation}\n",
        "\n",
        "where we assume a zero-mean function $m(\\boldsymbol{x}) = 0$. In our prior, $\\boldsymbol{\\theta}$ denotes the hyperparameters of the covariance function or kernel, which encodes our assumption about the Gaussian process. Here, we choose a quadratic exponential kernel (RBF), expressed in the form\n",
        "\n",
        "\\begin{equation}\n",
        "    k(\\boldsymbol{x},\\boldsymbol{x}';\\boldsymbol{\\theta})=v\\exp\\left\\{-\\sum\\limits_{i=1}^d\\dfrac{\\left(x_i-x_i'\\right)^2}{2\\ell_i^2}\\right\\},       \n",
        "\\end{equation}\n",
        "\n",
        "where $v$ y $\\{\\ell_i\\}_{i=1,\\ldots,d}$ are the model hyperparameters: $v$ models the variance of the process, and $\\ell_i$ determines the lengthscale of each input dimension.\n",
        "\n",
        "After training the model, we compute the prediction of the posterior distribution,\n",
        "\n",
        "\\begin{equation}\n",
        "    p(\\boldsymbol{y}^{*}|\\boldsymbol{x}^{*},\\mathcal{D})\\sim\\mathcal{N}(\\mu(\\boldsymbol{x}^{*}),\\varSigma(\\boldsymbol{x}^{*}))\n",
        "\\end{equation}\n",
        "\n",
        "To leverage the availability of multi-fidelity data, we consider a linear multi-fidelity GP model, with observations from two levels: a high-fidelity dataset of the form $\\mathcal{D}_{H}=(\\mathbf{X}_{H}, \\mathbf{y}_{H})$, where $\\mathbf{X}_{H} \\in \\mathbb{R}^{M_{H} \\times d}$ is the collection $M_{H}$ of an input $\\boldsymbol{x}_{H}$ with its corresponding output $\\mathbf{y}_{H} \\in \\mathbb{R}^{M_{H}}$, and a low-fidelity dataset of the form $\\mathcal{D}_{L}=(\\mathbf{X}_{L}, \\mathbf{y}_{L})$, where $\\mathbf{X}_{L} \\in \\mathbb{R}^{M_{L} \\times d}$ es the collection $M_{L}$ of an input $\\boldsymbol{x}_{L}$ and output $\\mathbf{y}_{L} \\in \\mathbb{R}^{M_{L}}$.\n",
        "\n",
        "In this model, the high-fidelity function is modeled as the scaled sum of the low-fidelity function plus an error,\n",
        "\n",
        "\\begin{equation}\n",
        "    f_{H} = f_{err}(\\boldsymbol{x}) + \\rho f_{L}(\\boldsymbol{x}),\n",
        "    \\end{equation}\n",
        "\n",
        "with\n",
        "\n",
        "\\begin{equation}\n",
        "    f_{L}(\\boldsymbol{x}) \\sim \\mathcal{G} \\mathcal{P}\\left(0, k_{L}(\\boldsymbol{x}, \\boldsymbol{x}^{\\prime} ; \\boldsymbol{\\theta}_{L})\\right),\n",
        "\\end{equation}\n",
        "\n",
        "and\n",
        "\n",
        "\\begin{equation}\n",
        "    f_{err}(\\boldsymbol{x}) \\sim \\mathcal{G} \\mathcal{P}\\left(0, k_{H}(\\boldsymbol{x}, \\boldsymbol{x}^{\\prime} ; \\boldsymbol{\\theta}_{H})\\right),\n",
        "\\end{equation}\n",
        "\n",
        "where $f_{L}(\\boldsymbol{x})$ is a Gaussian process that models the outputs of the low-fidelity function, while $\\rho$ is a scaling factor indicating the correlation grade with the high-fidelity data (a value of $\\rho = 0$ implies that there is no correlation between the low-fidelity and high-fidelity observations). At the same, $f_{err}(\\boldsymbol{x})$ is also a Gaussian process that models the bias for the high-fidelity data. The above implies that the structure can be expressed as a single Gaussian process, with the following prior:\n",
        "\n",
        "\\begin{equation}\n",
        "    \\boldsymbol{y}=\\left[\\begin{matrix}{{\\boldsymbol{y}_{L}}}\\\\ {{\\boldsymbol{y}_{H}}}\\\\ \\end{matrix}\\right]\\sim\\mathcal{N}\\left(\\left[\\begin{matrix}{{\\boldsymbol{0}}}\\\\ {{\\boldsymbol{0}}}\\\\ \\end{matrix}\\right],\\left[\\begin{matrix}{{K_{L L}}}&{{K_{L H}}}\\\\ {{K_{L H}^{\\prime}}}&{{K_{H H}}}\\\\ \\end{matrix}\\right]\\right),\n",
        "\\end{equation}\n",
        "\n",
        "where $K_{LL}$ and $K_{HH}$ model the correlation at each fidelity level, and $K_{LH}$ models the correlation between low and high-fidelity levels.\n",
        "\n",
        "\\\n",
        "From here, it is important to note that we build two separate models: one for the respiratory-system compliance prediction, and the other for the airways resistance.\n",
        "\n",
        "\n",
        "\n",
        "---\n",
        "Details on this model implementation at: https://nbviewer.org/github/emukit/emukit/blob/main/notebooks/Emukit-tutorial-multi-fidelity.ipynb\n",
        "\n"
      ]
    },
    {
      "cell_type": "code",
      "execution_count": null,
      "metadata": {
        "colab": {
          "base_uri": "https://localhost:8080/"
        },
        "id": "VhTiUE7HCPWg",
        "outputId": "1d95696d-ac0c-4949-fc4b-9da3fdef62dd"
      },
      "outputs": [
        {
          "output_type": "stream",
          "name": "stderr",
          "text": [
            " /usr/local/lib/python3.10/dist-packages/paramz/transformations.py:111: RuntimeWarning:divide by zero encountered in log\n"
          ]
        },
        {
          "output_type": "stream",
          "name": "stdout",
          "text": [
            "Optimization restart 1/10, f = 438.7330783706106\n",
            "Optimization restart 2/10, f = 497.2371075383842\n",
            "Optimization restart 3/10, f = 466.57801258492714\n",
            "Optimization restart 4/10, f = 433.0149055115372\n",
            "Optimization restart 5/10, f = 439.2855344928\n"
          ]
        },
        {
          "output_type": "stream",
          "name": "stderr",
          "text": [
            " /usr/local/lib/python3.10/dist-packages/GPy/kern/src/rbf.py:52: RuntimeWarning:overflow encountered in square\n"
          ]
        },
        {
          "output_type": "stream",
          "name": "stdout",
          "text": [
            "Optimization restart 6/10, f = 1257.7597256451152\n",
            "Optimization restart 7/10, f = 511.1792870784383\n"
          ]
        },
        {
          "output_type": "stream",
          "name": "stderr",
          "text": [
            " /usr/local/lib/python3.10/dist-packages/GPy/kern/src/stationary.py:168: RuntimeWarning:overflow encountered in true_divide\n",
            " /usr/local/lib/python3.10/dist-packages/GPy/kern/src/rbf.py:76: RuntimeWarning:invalid value encountered in multiply\n"
          ]
        },
        {
          "output_type": "stream",
          "name": "stdout",
          "text": [
            "Optimization restart 8/10, f = 451.84813578256365\n",
            "Optimization restart 9/10, f = 507.3693495883504\n",
            "Optimization restart 10/10, f = 442.2509900428946\n",
            "Compliance model optimized\n",
            "Optimization restart 1/10, f = -83.71222201472503\n",
            "Optimization restart 2/10, f = -83.92681947194669\n",
            "Optimization restart 3/10, f = 584.7111263859517\n",
            "Optimization restart 4/10, f = -83.71222200546137\n",
            "Optimization restart 5/10, f = -83.92681944461256\n",
            "Optimization restart 6/10, f = -83.92681944324326\n",
            "Optimization restart 7/10, f = -83.71223233539737\n",
            "Optimization restart 8/10, f = -83.9268194553812\n",
            "Optimization restart 9/10, f = -83.92681940337772\n",
            "Optimization restart 10/10, f = -83.71222742478236\n",
            "Resistance model optimized\n"
          ]
        }
      ],
      "source": [
        "input_dim = X_train.shape[1]-1\n",
        "Y_train_r = Y_train[:,0][:,np.newaxis]\n",
        "Y_train_c = Y_train[:,1][:,np.newaxis]\n",
        "\n",
        "## Construct a linear multi-fidelity model\n",
        "kernels_c = [GPy.kern.RBF(input_dim), GPy.kern.RBF(input_dim)]\n",
        "kernels_r = [GPy.kern.RBF(input_dim), GPy.kern.RBF(input_dim)]\n",
        "lin_mf_kernel_c = emukit.multi_fidelity.kernels.LinearMultiFidelityKernel(kernels_c)\n",
        "lin_mf_kernel_r = emukit.multi_fidelity.kernels.LinearMultiFidelityKernel(kernels_r)\n",
        "\n",
        "### COMPLIANCE model ###\n",
        "gpy_lin_mf_model_c = GPyLinearMultiFidelityModel(X_train, Y_train_c, lin_mf_kernel_c, n_fidelities=2)\n",
        "gpy_lin_mf_model_c.mixed_noise.Gaussian_noise.fix(0)\n",
        "gpy_lin_mf_model_c.mixed_noise.Gaussian_noise_1.fix(0)\n",
        "### RESISTANCE model ###\n",
        "gpy_lin_mf_model_r = GPyLinearMultiFidelityModel(X_train, Y_train_r, lin_mf_kernel_r, n_fidelities=2)\n",
        "gpy_lin_mf_model_r.mixed_noise.Gaussian_noise.fix(0)\n",
        "gpy_lin_mf_model_r.mixed_noise.Gaussian_noise_1.fix(0)\n",
        "\n",
        "## Wrap the models using the given 'GPyMultiOutputWrapper'\n",
        "lin_mf_model_c = model_c = GPyMultiOutputWrapper(gpy_lin_mf_model_c, 2, n_optimization_restarts=10)\n",
        "lin_mf_model_r = model_r = GPyMultiOutputWrapper(gpy_lin_mf_model_r, 2, n_optimization_restarts=10)\n",
        "\n",
        "## Fit (optimize) the models\n",
        "lin_mf_model_c.optimize()\n",
        "print('Compliance model optimized')\n",
        "lin_mf_model_r.optimize()\n",
        "print('Resistance model optimized')"
      ]
    },
    {
      "cell_type": "markdown",
      "metadata": {
        "id": "aLt0IlOp3OIb"
      },
      "source": [
        "After trained, we evaluate the model performance on the LF testing dataset:"
      ]
    },
    {
      "cell_type": "code",
      "execution_count": null,
      "metadata": {
        "id": "QU9SRfCuM4uK",
        "colab": {
          "base_uri": "https://localhost:8080/",
          "height": 465
        },
        "outputId": "835b64d3-a2b1-4b20-c07f-9b6a26314281"
      },
      "outputs": [
        {
          "output_type": "stream",
          "name": "stdout",
          "text": [
            "0.9976378380729426\n",
            "0.9988505274888485\n"
          ]
        },
        {
          "output_type": "execute_result",
          "data": {
            "text/plain": [
              "[<matplotlib.lines.Line2D at 0x7f84c4207c10>]"
            ]
          },
          "metadata": {},
          "execution_count": 11
        },
        {
          "output_type": "display_data",
          "data": {
            "text/plain": [
              "<Figure size 1000x400 with 2 Axes>"
            ],
            "image/png": "[encoded data removed]"
          },
          "metadata": {}
        }
      ],
      "source": [
        "# We plot the additional samples data and compare HF vs LF via mappiing\n",
        "indice = [list(range(1,100+1))]\n",
        "\n",
        "Y_pred_mean_c, Y_pred_var_c = lin_mf_model_c.predict(X_test_100)\n",
        "Y_pred_mean_r, Y_pred_var_r = lin_mf_model_r.predict(X_test_100)\n",
        "\n",
        "Y_test_100_C = Y_test_100[:,1]\n",
        "Y_test_100_R = Y_test_100[:,0]\n",
        "\n",
        "si = 14\n",
        "\n",
        "fig, (ax1, ax2) = plt.subplots(1, 2, figsize=(10,4))\n",
        "\n",
        "ax1.scatter(Y_test_100_R[:100], Y_pred_mean_r[:100], color = 'blue')\n",
        "ax1.set_xlabel('Actual Value',size = si)\n",
        "ax1.set_ylabel('Prediction',size = si)\n",
        "#ax1.set_aspect('equal', 'box')\n",
        "ax1.set_title(\"Resistance\")\n",
        "r2_r = r2_score(Y_test_100_R[:100], Y_pred_mean_r[:100])\n",
        "#print('\\nr2: {}'.format(r2))\n",
        "#ax1.annotate(\"r² = {:.3f}\".format(r2_c),(98,128))\n",
        "\n",
        "\n",
        "ax2.scatter(Y_test_100_C[:100], Y_pred_mean_c[:100], color = 'blue')\n",
        "ax2.set_xlabel('Actual Value',size = si)\n",
        "ax2.set_ylabel('Prediction',size = si)\n",
        "#ax2.set_aspect('equal', 'box')\n",
        "ax2.set_title(\"Compliance\")\n",
        "r2_c = r2_score(Y_test_100_C[:100], Y_pred_mean_c[:100])\n",
        "\n",
        "ax1.annotate(\"R² = {:.4f}\".format(r2_r),(3.3,5.4),size = si,weight='bold')\n",
        "ax2.annotate(\"R² = {:.4f}\".format(r2_c),(85,185),size = si,weight='bold')\n",
        "print(r2_r)\n",
        "print(r2_c)\n",
        "\n",
        "a1, b1 = np.polyfit(Y_test_100_R[:100], Y_pred_mean_r[:100],1)\n",
        "ax1.plot(Y_test_100_R[:100], a1*Y_test_100_R[:100] + b1, color = 'k', linewidth = 1)\n",
        "#ax1.text(3.3, 5.1, 'y = ' + '{:.3f}'.format(b1) + ' + {:.3f}'.format(a1) + 'x', size=12)\n",
        "\n",
        "a2, b2 = np.polyfit(Y_test_100_C[:100], Y_pred_mean_c[:100],1)\n",
        "ax2.plot(Y_test_100_C[:100], a2*Y_test_100_C[:100] + b2, color = 'k', linewidth = 1)\n",
        "#ax2.text(85, 170, 'y = ' + '{:.3f}'.format(b1) + ' + {:.3f}'.format(a2) + 'x', size=12)"
      ]
    },
    {
      "cell_type": "markdown",
      "source": [
        "Then, we also evaluate the model performance on the HF testing dataset:"
      ],
      "metadata": {
        "id": "4jZ6U2lBTZkR"
      }
    },
    {
      "cell_type": "code",
      "execution_count": null,
      "metadata": {
        "id": "hlzDNwCQKLqK",
        "colab": {
          "base_uri": "https://localhost:8080/",
          "height": 465
        },
        "outputId": "91c2f430-86c8-4dae-9487-b705276c05e8"
      },
      "outputs": [
        {
          "output_type": "stream",
          "name": "stdout",
          "text": [
            "0.9960981854426333\n",
            "0.9965094919125185\n"
          ]
        },
        {
          "output_type": "execute_result",
          "data": {
            "text/plain": [
              "[<matplotlib.lines.Line2D at 0x7f84c40a29b0>]"
            ]
          },
          "metadata": {},
          "execution_count": 12
        },
        {
          "output_type": "display_data",
          "data": {
            "text/plain": [
              "<Figure size 1000x400 with 2 Axes>"
            ],
            "image/png": "[encoded data removed]"
          },
          "metadata": {}
        }
      ],
      "source": [
        "# We plot the additional samples data and compare HF vs LF via mappiing\n",
        "indice = [list(range(1,100+1))]\n",
        "\n",
        "Y_pred_mean_c, Y_pred_var_c = lin_mf_model_c.predict(X_test_100)\n",
        "Y_pred_mean_r, Y_pred_var_r = lin_mf_model_r.predict(X_test_100)\n",
        "\n",
        "Y_test_100_C = Y_test_100[:,1]\n",
        "Y_test_100_R = Y_test_100[:,0]\n",
        "\n",
        "si = 14\n",
        "\n",
        "fig, (ax1, ax2) = plt.subplots(1, 2, figsize=(10,4))\n",
        "\n",
        "ax1.scatter(Y_test_100_R[100:], Y_pred_mean_r[100:], color = 'red')\n",
        "ax1.set_xlabel('Actual Value',size = si)\n",
        "ax1.set_ylabel('Prediction',size = si)\n",
        "#ax1.set_aspect('equal', 'box')\n",
        "ax1.set_title(\"Resistance\")\n",
        "\n",
        "r2_r = r2_score(Y_test_100_R[100:], Y_pred_mean_r[100:])\n",
        "#print('\\nr2: {}'.format(r2))\n",
        "#ax1.annotate(\"r² = {:.3f}\".format(r2_c),(98,128))\n",
        "\n",
        "\n",
        "ax2.scatter(Y_test_100_C[100:], Y_pred_mean_c[100:], color = 'red')\n",
        "ax2.set_xlabel('Actual Value',size = si)\n",
        "ax2.set_ylabel('Prediction',size = si)\n",
        "#ax2.set_aspect('equal', 'box')\n",
        "ax2.set_title(\"Compliance\")\n",
        "\n",
        "r2_c = r2_score(Y_test_100_C[100:], Y_pred_mean_c[100:])\n",
        "#print('\\nr2: {}'.format(r2))\n",
        "ax1.annotate(\"R² = {:.4f}\".format(r2_r),(3.1,5.1),size = si,weight='bold')\n",
        "ax2.annotate(\"R² = {:.4f}\".format(r2_c),(84,178),size = si,weight='bold')\n",
        "print(r2_r)\n",
        "print(r2_c)\n",
        "\n",
        "a1, b1 = np.polyfit(Y_test_100_R[100:], Y_pred_mean_r[100:],1)\n",
        "ax1.plot(Y_test_100_R[100:], a1*Y_test_100_R[100:] + b1, color = 'k', linewidth = 1)\n",
        "#ax1.text(3.1, 4.8, 'y = ' + '{:.3f}'.format(b1) + ' + {:.3f}'.format(a1) + 'x', size=12)\n",
        "\n",
        "a2, b2 = np.polyfit(Y_test_100_C[100:], Y_pred_mean_c[100:],1)\n",
        "ax2.plot(Y_test_100_C[100:], a2*Y_test_100_C[100:] + b2, color = 'k', linewidth = 1)\n",
        "#ax2.text(84, 165, 'y = ' + '{:.3f}'.format(b1) + ' + {:.3f}'.format(a2) + 'x', size=12)"
      ]
    },
    {
      "cell_type": "markdown",
      "source": [
        "We save the model predictions on the HF testing set"
      ],
      "metadata": {
        "id": "osAbi2LqTk74"
      }
    },
    {
      "cell_type": "code",
      "execution_count": null,
      "metadata": {
        "id": "kj8X73HwJNBL"
      },
      "outputs": [],
      "source": [
        "# Export values\n",
        "np.save('mfgp_var_C.npy', Y_pred_var_c)\n",
        "np.save('mfgp_var_R.npy', Y_pred_var_r)\n",
        "np.save('mfGP_C.npy', Y_pred_mean_c)\n",
        "np.save('mfGP_R.npy', Y_pred_mean_r)"
      ]
    },
    {
      "cell_type": "markdown",
      "metadata": {
        "id": "x7ShB8VwO-Zh"
      },
      "source": [
        "Along with the standard scaler"
      ]
    },
    {
      "cell_type": "code",
      "execution_count": null,
      "metadata": {
        "id": "Jf14gSPEO9IV",
        "colab": {
          "base_uri": "https://localhost:8080/"
        },
        "outputId": "790b29de-68b1-4bc9-be69-dc74d7d7ae11"
      },
      "outputs": [
        {
          "output_type": "execute_result",
          "data": {
            "text/plain": [
              "['mfGP_std_scaler.bin']"
            ]
          },
          "metadata": {},
          "execution_count": 24
        }
      ],
      "source": [
        "from joblib import dump, load\n",
        "dump(scaler, 'mfGP_std_scaler.bin', compress=True)"
      ]
    },
    {
      "cell_type": "markdown",
      "source": [
        "And the trained multi-fidelity GP models"
      ],
      "metadata": {
        "id": "r_3xZnXqotDw"
      }
    },
    {
      "cell_type": "code",
      "execution_count": null,
      "metadata": {
        "id": "nAHiyilDXo56"
      },
      "outputs": [],
      "source": [
        "import pickle\n",
        "with open('mfGP_c_model.pkl', 'wb') as file:\n",
        "    pickle.dump(lin_mf_model_c, file)\n",
        "\n",
        "with open('mfGP_r_model.pkl', 'wb') as file:\n",
        "    pickle.dump(lin_mf_model_r, file)"
      ]
    },
    {
      "cell_type": "markdown",
      "metadata": {
        "id": "uF19H9qTyGVE"
      },
      "source": [
        "Finally, we check that our trained surrogates predict the expected output data"
      ]
    },
    {
      "cell_type": "code",
      "execution_count": null,
      "metadata": {
        "id": "bArXAwsAyQj_"
      },
      "outputs": [],
      "source": [
        "# for clarity we rename the linear multi-fidelity GP models to surrogate models.\n",
        "surrogate_model_c = lin_mf_model_c # surrogate model for respiratory-system compliance\n",
        "surrogate_model_r = lin_mf_model_r # surrogate model for airways resistance"
      ]
    },
    {
      "cell_type": "code",
      "execution_count": null,
      "metadata": {
        "id": "1YqK2r0JyFWg"
      },
      "outputs": [],
      "source": [
        "# we define a function to make evaluations in our surrogate models in an easy-way\n",
        "def surrogate_evaluation(x1,x2,x3,x4,x5,x6,output):\n",
        "  \"\"\"\n",
        "  Evaluate the specified model parameters and\n",
        "  returns the lung response depending on the\n",
        "  selected surrogate model.\n",
        "\n",
        "  x1: c\n",
        "  x2: beta\n",
        "  x3: c1\n",
        "  x4: c3\n",
        "  x5: k\n",
        "  x6: Ks\n",
        "\n",
        "  output: respiratory-system compliance if 'c'\n",
        "          airways resistance if 'r'\n",
        "  \"\"\"\n",
        "  if output == 'c':\n",
        "    surrogate_model = surrogate_model_c\n",
        "  else:\n",
        "    surrogate_model = surrogate_model_r\n",
        "  matriz = np.zeros((1,6))\n",
        "  matriz[0,0] = x1\n",
        "  matriz[0,1] = x2\n",
        "  matriz[0,2] = x3\n",
        "  matriz[0,3] = x4\n",
        "  matriz[0,4] = x5\n",
        "  matriz[0,5] = x6\n",
        "  scaled_matriz  = scaler.transform(matriz)\n",
        "  x1 = scaled_matriz[0,0]\n",
        "  x2 = scaled_matriz[0,1]\n",
        "  x3 = scaled_matriz[0,2]\n",
        "  x4 = scaled_matriz[0,3]\n",
        "  x5 = scaled_matriz[0,4]\n",
        "  x6 = scaled_matriz[0,5]\n",
        "  x_params = np.array([x1, x2, x3, x4, x5, x6, 1])\n",
        "  x_params = np.expand_dims(x_params, axis = 0)\n",
        "  hf_mean_surrogate_model, hf_var_surrogate_model = surrogate_model.predict(x_params)\n",
        "  Y = hf_mean_surrogate_model\n",
        "  return Y"
      ]
    },
    {
      "cell_type": "code",
      "execution_count": null,
      "metadata": {
        "id": "KW4Ez8Mj2krK",
        "colab": {
          "base_uri": "https://localhost:8080/"
        },
        "outputId": "0f87f067-8dac-45cb-e4e1-11bf08854710"
      },
      "outputs": [
        {
          "output_type": "execute_result",
          "data": {
            "text/plain": [
              "array([[98.96561577]])"
            ]
          },
          "metadata": {},
          "execution_count": 27
        }
      ],
      "source": [
        "# we perform evaluations using the input from an aleatory sample of our testing dataset\n",
        "print(surrogate_evaluation(3.12121250e+02, 1.14983183e+00, 3.35565578e+02, 5.55432511e+00,\n",
        "       1.16518345e+04, 8.38462002e-02, output='c'))\n",
        "\n",
        "print(surrogate_evaluation(3.12121250e+02, 1.14983183e+00, 3.35565578e+02, 5.55432511e+00,\n",
        "       1.16518345e+04, 8.38462002e-02, output='r'))"
      ]
    },
    {
      "cell_type": "markdown",
      "metadata": {
        "id": "nfNzJfFtH9Lq"
      },
      "source": [
        "## Cross-Validation (in testing set)"
      ]
    },
    {
      "cell_type": "markdown",
      "source": [
        "Additionally, we perform a cross-validation using different training sizes.\n",
        "\n",
        "**Note**: *Take consideration that the following code block may take several hours to be executed*."
      ],
      "metadata": {
        "id": "hLCxEHcuxu4A"
      }
    },
    {
      "cell_type": "code",
      "execution_count": null,
      "metadata": {
        "id": "7LdZzfIpxDZd"
      },
      "outputs": [],
      "source": [
        "split_list = [0.5, 0.55, 0.6, 0.65, 0.7, 0.75, 0.8, 0.85, 0.9, 0.95]\n",
        "\n",
        "random_list = np.arange(1,100+1,10)\n",
        "RMSE_list_R = []\n",
        "RMSE_list_C = []\n",
        "std_R = []\n",
        "std_C = []\n",
        "\n",
        "for split in split_list:\n",
        "  print(\"Train split: \", split)\n",
        "  RMSE_inner_list_R = []\n",
        "  RMSE_inner_list_C = []\n",
        "  for random_number in random_list:\n",
        "    # Split\n",
        "    X_lf_train, X_lf_test = train_test_split(X_lf, train_size=split, shuffle=True, random_state=random_number) # this split the input data\n",
        "    Y_lf_train, Y_lf_test = train_test_split(Y_lf, train_size=split, shuffle=True, random_state=random_number) # this split the output data\n",
        "\n",
        "    X_hf_train, X_hf_test = train_test_split(X_hf, train_size=split, shuffle=True, random_state=random_number) # this split the input data\n",
        "    Y_hf_train, Y_hf_test = train_test_split(Y_hf, train_size=split, shuffle=True, random_state=random_number) # this split the output data\n",
        "\n",
        "    X_hf_test_100 = X_hf_100\n",
        "    Y_hf_test_100 = Y_hf_100\n",
        "\n",
        "    X_lf_test_100 = X_lf_100\n",
        "    Y_lf_test_100 = Y_lf_100\n",
        "\n",
        "\n",
        "    # Normalize\n",
        "    scaler = StandardScaler()\n",
        "\n",
        "    X_lf_train = scaler.fit_transform(X_lf_train)\n",
        "    X_lf_test = scaler.transform(X_lf_test)\n",
        "    X_lf_test_100 = scaler.transform(X_lf_test_100)\n",
        "\n",
        "    X_hf_train = scaler.fit_transform(X_hf_train)\n",
        "    X_hf_test = scaler.transform(X_hf_test)\n",
        "    X_hf_test_100 = scaler.transform(X_hf_test_100)\n",
        "\n",
        "\n",
        "    # Convert\n",
        "    X_train, Y_train = convert_xy_lists_to_arrays([X_lf_train, X_hf_train], [Y_lf_train, Y_hf_train])\n",
        "    X_test, Y_test = convert_xy_lists_to_arrays([X_lf_test, X_hf_test], [Y_lf_test, Y_hf_test])\n",
        "\n",
        "    X_test_100, Y_test_100 = convert_xy_lists_to_arrays([X_lf_test_100, X_hf_test_100], [Y_lf_test_100, Y_hf_test_100])\n",
        "\n",
        "\n",
        "    # Train\n",
        "    input_dim = X_train.shape[1]-1\n",
        "    Y_train_r = Y_train[:,0][:,np.newaxis]\n",
        "    Y_train_c = Y_train[:,1][:,np.newaxis]\n",
        "\n",
        "    kernels_c = [GPy.kern.RBF(input_dim), GPy.kern.RBF(input_dim)]\n",
        "    kernels_r = [GPy.kern.RBF(input_dim), GPy.kern.RBF(input_dim)]\n",
        "    lin_mf_kernel_c = emukit.multi_fidelity.kernels.LinearMultiFidelityKernel(kernels_c)\n",
        "    lin_mf_kernel_r = emukit.multi_fidelity.kernels.LinearMultiFidelityKernel(kernels_r)\n",
        "\n",
        "    gpy_lin_mf_model_c = GPyLinearMultiFidelityModel(X_train, Y_train_c, lin_mf_kernel_c, n_fidelities=2)\n",
        "    gpy_lin_mf_model_c.mixed_noise.Gaussian_noise.fix(0)\n",
        "    gpy_lin_mf_model_c.mixed_noise.Gaussian_noise_1.fix(0)\n",
        "    gpy_lin_mf_model_r = GPyLinearMultiFidelityModel(X_train, Y_train_r, lin_mf_kernel_r, n_fidelities=2)\n",
        "    gpy_lin_mf_model_r.mixed_noise.Gaussian_noise.fix(0)\n",
        "    gpy_lin_mf_model_r.mixed_noise.Gaussian_noise_1.fix(0)\n",
        "\n",
        "    lin_mf_model_c = model_c = GPyMultiOutputWrapper(gpy_lin_mf_model_c, 2, n_optimization_restarts=10)\n",
        "    lin_mf_model_r = model_r = GPyMultiOutputWrapper(gpy_lin_mf_model_r, 2, n_optimization_restarts=10)\n",
        "\n",
        "    lin_mf_model_c.optimize()\n",
        "    #clear_output()\n",
        "    print('Compliance model optimized')\n",
        "    lin_mf_model_r.optimize()\n",
        "    #clear_output()\n",
        "    print('Resistance model optimized')\n",
        "\n",
        "\n",
        "    # Evaluate\n",
        "    Y_pred_mean_c, Y_pred_var_c = lin_mf_model_c.predict(X_test_100)\n",
        "    Y_pred_mean_r, Y_pred_var_r = lin_mf_model_r.predict(X_test_100)\n",
        "    # H-F predictions\n",
        "    print(\"H-F predictions\")\n",
        "    indice_hf_begins = X_lf_test.shape[0]\n",
        "    mse_R = mean_squared_error(Y_test_100[indice_hf_begins:,0], Y_pred_mean_r[indice_hf_begins:])\n",
        "    print('\\nMSE R: {}'.format(mse_R))\n",
        "    mse_C = mean_squared_error(Y_test_100[indice_hf_begins:,1], Y_pred_mean_c[indice_hf_begins:])\n",
        "    print('\\nMSE C: {}'.format(mse_C))\n",
        "    RMSE_inner_list_R.append(np.sqrt(mse_R))\n",
        "    RMSE_inner_list_C.append(np.sqrt(mse_C))\n",
        "  RMSE_list_R.append(np.average(RMSE_inner_list_R))\n",
        "  RMSE_list_C.append(np.average(RMSE_inner_list_C))\n",
        "  print(RMSE_inner_list_R)\n",
        "  print(RMSE_inner_list_C)\n",
        "  std_R.append(np.std(RMSE_inner_list_R))\n",
        "  std_C.append(np.std(RMSE_inner_list_C))\n",
        "\n",
        "#clear_output()\n",
        "\n",
        "for i in range(len(split_list)):\n",
        "  print(\"Train split: \", split_list[i], \"||    MSE R: \", RMSE_list_R[i], \"||    MSE C: \", RMSE_list_C[i], \"||    std R: \", std_R[i], \"||    std C: \", std_C[i])"
      ]
    },
    {
      "cell_type": "code",
      "execution_count": null,
      "metadata": {
        "id": "TnG7vpenXrO5"
      },
      "outputs": [],
      "source": [
        "# Export values\n",
        "np.save('RMSE_R_mfGP.npy', RMSE_list_R)\n",
        "np.save('RMSE_C_mfGP.npy', RMSE_list_C)\n",
        "np.save('std_R_mfGP.npy', std_R)\n",
        "np.save('std_C_mfGP.npy', std_C)"
      ]
    }
  ],
  "metadata": {
    "colab": {
      "provenance": []
    },
    "kernelspec": {
      "display_name": "Python 3",
      "name": "python3"
    },
    "language_info": {
      "name": "python"
    }
  },
  "nbformat": 4,
  "nbformat_minor": 0
}